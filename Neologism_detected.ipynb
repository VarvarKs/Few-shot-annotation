{
  "nbformat": 4,
  "nbformat_minor": 0,
  "metadata": {
    "colab": {
      "provenance": [],
      "gpuType": "T4",
      "toc_visible": true,
      "mount_file_id": "1WMBpQvajq5QlElMwU5LsB6L6d_9QbcqB",
      "authorship_tag": "ABX9TyPJLlieoiLT34ckRYuJd3yw",
      "include_colab_link": true
    },
    "kernelspec": {
      "name": "python3",
      "display_name": "Python 3"
    },
    "language_info": {
      "name": "python"
    }
  },
  "cells": [
    {
      "cell_type": "markdown",
      "metadata": {
        "id": "view-in-github",
        "colab_type": "text"
      },
      "source": [
        "<a href=\"https://colab.research.google.com/github/VarvarKs/Few-shot-annotation/blob/main/Neologism_detected.ipynb\" target=\"_parent\"><img src=\"https://colab.research.google.com/assets/colab-badge.svg\" alt=\"Open In Colab\"/></a>"
      ]
    },
    {
      "cell_type": "markdown",
      "source": [
        "# Краткое описание задачи"
      ],
      "metadata": {
        "id": "ubUKP1X0rRla"
      }
    },
    {
      "cell_type": "markdown",
      "source": [
        "Разметка датасета для дальнейшего использования полученных классов в спел-чекере/дообучения NER модели"
      ],
      "metadata": {
        "id": "gjNRZJLdXxTn"
      }
    },
    {
      "cell_type": "markdown",
      "source": [
        "# Исходные данные"
      ],
      "metadata": {
        "id": "dsybp4m-Iqko"
      }
    },
    {
      "cell_type": "code",
      "execution_count": null,
      "metadata": {
        "id": "8kDBH_HjzLAg",
        "colab": {
          "base_uri": "https://localhost:8080/",
          "height": 206
        },
        "outputId": "712c21b8-cf31-4092-eece-d1d91042a30e"
      },
      "outputs": [
        {
          "output_type": "execute_result",
          "data": {
            "text/plain": [
              "       N       Log          W  Dict_UD  dict.opcorpora wiki_freq\n",
              "0  367.0 -3.817249         хз      NaN             NaN        24\n",
              "1  488.0 -3.909896         чо  NOUN an  PRCL Infr,Dist       351\n",
              "2  538.0 -3.939917         зп      NaN             NaN        18\n",
              "3  540.0 -3.940406     пикабу      NaN             NaN       NaN\n",
              "4  579.0 -3.963836  как-будто      NaN             NaN        19"
            ],
            "text/html": [
              "\n",
              "  <div id=\"df-e2c6fcbb-04c2-4f1a-9b3a-b4ec40de6309\">\n",
              "    <div class=\"colab-df-container\">\n",
              "      <div>\n",
              "<style scoped>\n",
              "    .dataframe tbody tr th:only-of-type {\n",
              "        vertical-align: middle;\n",
              "    }\n",
              "\n",
              "    .dataframe tbody tr th {\n",
              "        vertical-align: top;\n",
              "    }\n",
              "\n",
              "    .dataframe thead th {\n",
              "        text-align: right;\n",
              "    }\n",
              "</style>\n",
              "<table border=\"1\" class=\"dataframe\">\n",
              "  <thead>\n",
              "    <tr style=\"text-align: right;\">\n",
              "      <th></th>\n",
              "      <th>N</th>\n",
              "      <th>Log</th>\n",
              "      <th>W</th>\n",
              "      <th>Dict_UD</th>\n",
              "      <th>dict.opcorpora</th>\n",
              "      <th>wiki_freq</th>\n",
              "    </tr>\n",
              "  </thead>\n",
              "  <tbody>\n",
              "    <tr>\n",
              "      <th>0</th>\n",
              "      <td>367.0</td>\n",
              "      <td>-3.817249</td>\n",
              "      <td>хз</td>\n",
              "      <td>NaN</td>\n",
              "      <td>NaN</td>\n",
              "      <td>24</td>\n",
              "    </tr>\n",
              "    <tr>\n",
              "      <th>1</th>\n",
              "      <td>488.0</td>\n",
              "      <td>-3.909896</td>\n",
              "      <td>чо</td>\n",
              "      <td>NOUN an</td>\n",
              "      <td>PRCL Infr,Dist</td>\n",
              "      <td>351</td>\n",
              "    </tr>\n",
              "    <tr>\n",
              "      <th>2</th>\n",
              "      <td>538.0</td>\n",
              "      <td>-3.939917</td>\n",
              "      <td>зп</td>\n",
              "      <td>NaN</td>\n",
              "      <td>NaN</td>\n",
              "      <td>18</td>\n",
              "    </tr>\n",
              "    <tr>\n",
              "      <th>3</th>\n",
              "      <td>540.0</td>\n",
              "      <td>-3.940406</td>\n",
              "      <td>пикабу</td>\n",
              "      <td>NaN</td>\n",
              "      <td>NaN</td>\n",
              "      <td>NaN</td>\n",
              "    </tr>\n",
              "    <tr>\n",
              "      <th>4</th>\n",
              "      <td>579.0</td>\n",
              "      <td>-3.963836</td>\n",
              "      <td>как-будто</td>\n",
              "      <td>NaN</td>\n",
              "      <td>NaN</td>\n",
              "      <td>19</td>\n",
              "    </tr>\n",
              "  </tbody>\n",
              "</table>\n",
              "</div>\n",
              "      <button class=\"colab-df-convert\" onclick=\"convertToInteractive('df-e2c6fcbb-04c2-4f1a-9b3a-b4ec40de6309')\"\n",
              "              title=\"Convert this dataframe to an interactive table.\"\n",
              "              style=\"display:none;\">\n",
              "        \n",
              "  <svg xmlns=\"http://www.w3.org/2000/svg\" height=\"24px\"viewBox=\"0 0 24 24\"\n",
              "       width=\"24px\">\n",
              "    <path d=\"M0 0h24v24H0V0z\" fill=\"none\"/>\n",
              "    <path d=\"M18.56 5.44l.94 2.06.94-2.06 2.06-.94-2.06-.94-.94-2.06-.94 2.06-2.06.94zm-11 1L8.5 8.5l.94-2.06 2.06-.94-2.06-.94L8.5 2.5l-.94 2.06-2.06.94zm10 10l.94 2.06.94-2.06 2.06-.94-2.06-.94-.94-2.06-.94 2.06-2.06.94z\"/><path d=\"M17.41 7.96l-1.37-1.37c-.4-.4-.92-.59-1.43-.59-.52 0-1.04.2-1.43.59L10.3 9.45l-7.72 7.72c-.78.78-.78 2.05 0 2.83L4 21.41c.39.39.9.59 1.41.59.51 0 1.02-.2 1.41-.59l7.78-7.78 2.81-2.81c.8-.78.8-2.07 0-2.86zM5.41 20L4 18.59l7.72-7.72 1.47 1.35L5.41 20z\"/>\n",
              "  </svg>\n",
              "      </button>\n",
              "      \n",
              "  <style>\n",
              "    .colab-df-container {\n",
              "      display:flex;\n",
              "      flex-wrap:wrap;\n",
              "      gap: 12px;\n",
              "    }\n",
              "\n",
              "    .colab-df-convert {\n",
              "      background-color: #E8F0FE;\n",
              "      border: none;\n",
              "      border-radius: 50%;\n",
              "      cursor: pointer;\n",
              "      display: none;\n",
              "      fill: #1967D2;\n",
              "      height: 32px;\n",
              "      padding: 0 0 0 0;\n",
              "      width: 32px;\n",
              "    }\n",
              "\n",
              "    .colab-df-convert:hover {\n",
              "      background-color: #E2EBFA;\n",
              "      box-shadow: 0px 1px 2px rgba(60, 64, 67, 0.3), 0px 1px 3px 1px rgba(60, 64, 67, 0.15);\n",
              "      fill: #174EA6;\n",
              "    }\n",
              "\n",
              "    [theme=dark] .colab-df-convert {\n",
              "      background-color: #3B4455;\n",
              "      fill: #D2E3FC;\n",
              "    }\n",
              "\n",
              "    [theme=dark] .colab-df-convert:hover {\n",
              "      background-color: #434B5C;\n",
              "      box-shadow: 0px 1px 3px 1px rgba(0, 0, 0, 0.15);\n",
              "      filter: drop-shadow(0px 1px 2px rgba(0, 0, 0, 0.3));\n",
              "      fill: #FFFFFF;\n",
              "    }\n",
              "  </style>\n",
              "\n",
              "      <script>\n",
              "        const buttonEl =\n",
              "          document.querySelector('#df-e2c6fcbb-04c2-4f1a-9b3a-b4ec40de6309 button.colab-df-convert');\n",
              "        buttonEl.style.display =\n",
              "          google.colab.kernel.accessAllowed ? 'block' : 'none';\n",
              "\n",
              "        async function convertToInteractive(key) {\n",
              "          const element = document.querySelector('#df-e2c6fcbb-04c2-4f1a-9b3a-b4ec40de6309');\n",
              "          const dataTable =\n",
              "            await google.colab.kernel.invokeFunction('convertToInteractive',\n",
              "                                                     [key], {});\n",
              "          if (!dataTable) return;\n",
              "\n",
              "          const docLinkHtml = 'Like what you see? Visit the ' +\n",
              "            '<a target=\"_blank\" href=https://colab.research.google.com/notebooks/data_table.ipynb>data table notebook</a>'\n",
              "            + ' to learn more about interactive tables.';\n",
              "          element.innerHTML = '';\n",
              "          dataTable['output_type'] = 'display_data';\n",
              "          await google.colab.output.renderOutput(dataTable, element);\n",
              "          const docLink = document.createElement('div');\n",
              "          docLink.innerHTML = docLinkHtml;\n",
              "          element.appendChild(docLink);\n",
              "        }\n",
              "      </script>\n",
              "    </div>\n",
              "  </div>\n",
              "  "
            ]
          },
          "metadata": {},
          "execution_count": 28
        }
      ],
      "source": [
        "import pandas as pd\n",
        "from tqdm import tqdm\n",
        "import warnings\n",
        "\n",
        "warnings.filterwarnings('ignore')\n",
        "\n",
        "# файл включает слова, которые не внесены в словарь ОРФО\n",
        "data = pd.read_csv(\"/content/drive/MyDrive/NLP_spring2023/words_inc_230524.txt\", sep='\\t', encoding='utf-16')\n",
        "data.head()\n"
      ]
    },
    {
      "cell_type": "code",
      "source": [
        "# слова, которые не знает ОРФО\n",
        "vocab_inc = set(data['W'].dropna())\n",
        "print(f\"\"\"Всего {len(vocab_inc)} неизвестных слов, например такие {list(vocab_inc)[:10]}.\"\"\")\n",
        "\n",
        "# для баланса добавим правильные слова\n",
        "data2 = pd.read_csv(\"/content/drive/MyDrive/NLP_spring2023/words_cor_230603.txt\", sep='\\t',  encoding='utf-8')\n",
        "vocab_cor = set(data2['W'].dropna())\n",
        "print(f\"\"\"Всего {len(vocab_cor)} известных слов, например такие {list(vocab_cor)[:10]}.\"\"\")\n",
        "\n"
      ],
      "metadata": {
        "colab": {
          "base_uri": "https://localhost:8080/"
        },
        "id": "ZxzakO2RzSYh",
        "outputId": "6f9bc95d-adc2-470e-bf66-84734483b538"
      },
      "execution_count": null,
      "outputs": [
        {
          "output_type": "stream",
          "name": "stdout",
          "text": [
            "Всего 168936 неизвестных слов, например такие ['явин', 'питрс', 'перлифонов', 'киналева', 'тюленчиком', 'бритков', 'балыгин', 'большиства', 'дрочибельный', 'коновалев'].\n",
            "Всего 349943 известных слов, например такие ['запариться', 'еженедельная', 'стокгольма', 'билета', 'росреестр', 'бельма', 'тыкнете', 'признавать', 'подчинить', 'гришелева'].\n"
          ]
        }
      ]
    },
    {
      "cell_type": "markdown",
      "source": [
        "С пропоцией данных можно эксперементировать:\n",
        "\n",
        "для тестовой выборки **test_data** - пока сделаю 80% ошибочных слов (8000 токенов), 20% правильных (2000 токенов), так как фокус именно на разметку слов, которые ОРФО не знает.\n",
        "\n",
        "для контрольной выборки можно сделать выбрать из этих групп по 10%"
      ],
      "metadata": {
        "id": "fwgRa5yL1jUG"
      }
    },
    {
      "cell_type": "code",
      "source": [
        "test_inc = list(vocab_inc)[:8000]\n",
        "test_inc_to_annotate = list(test_inc[:800])\n",
        "\n",
        "test_cor = list(vocab_cor)[:2000]\n",
        "test_cor_to_annotate = list(test_cor[:200])\n",
        "\n",
        "test_data = test_inc + test_cor\n",
        "test_to_annotate = test_inc_to_annotate + test_cor_to_annotate"
      ],
      "metadata": {
        "id": "H_W1a2wZ29Nc"
      },
      "execution_count": null,
      "outputs": []
    },
    {
      "cell_type": "code",
      "source": [
        "vocab_inc_new = [w for w in list(vocab_inc) if w not in test_data]\n",
        "vocab_cor_new = [w for w in list(vocab_cor) if w not in test_data]"
      ],
      "metadata": {
        "id": "W0IwIFk2VFIS"
      },
      "execution_count": null,
      "outputs": []
    },
    {
      "cell_type": "code",
      "source": [
        "test_inc2 = list(vocab_inc_new)[:8000]\n",
        "test_cor2 = list(vocab_cor_new)[:2000]\n",
        "test_data2 = test_inc2 + test_cor2"
      ],
      "metadata": {
        "id": "pZ7sqvbqTk1p"
      },
      "execution_count": null,
      "outputs": []
    },
    {
      "cell_type": "code",
      "source": [
        "with open('test_to_annotate.txt', 'w') as file:\n",
        "    file.write(\"\\n\".join(test_to_annotate))"
      ],
      "metadata": {
        "id": "Tjwu7Ym-ZP2h"
      },
      "execution_count": null,
      "outputs": []
    },
    {
      "cell_type": "markdown",
      "source": [
        "#Тестируем готовые модели NER\n"
      ],
      "metadata": {
        "id": "rg0Fz0rQPRu7"
      }
    },
    {
      "cell_type": "markdown",
      "source": [
        "\n",
        "[Здесь](https://t.me/natural_language_processing) набралась идей.\n",
        "\n",
        "\n",
        "1.   Spacy\n",
        "2.   DeepPavlov\n",
        "3.   pullenti\n",
        "4.   stanza\n",
        "5.   Natasha\n",
        "6.   [Проект RuNNE](https://github.com/bond005/runne_contrastive_ner)\n",
        "\n",
        "\n",
        "Говорят, пункты 1-3 так себе работают из коробки. Про п.4 ничего не слышала раньше. П.5 решает проблему Nested named entity recognition -- для моей задачи не так актуально."
      ],
      "metadata": {
        "id": "ZJD64KIE4KYc"
      }
    },
    {
      "cell_type": "markdown",
      "source": [
        "## Spacy NER"
      ],
      "metadata": {
        "id": "MiW8goXzTQPL"
      }
    },
    {
      "cell_type": "code",
      "source": [
        "import spacy\n",
        "! python -m spacy download ru_core_news_sm"
      ],
      "metadata": {
        "id": "dPOSNLdsPRSB"
      },
      "execution_count": null,
      "outputs": []
    },
    {
      "cell_type": "code",
      "source": [
        "nlp = spacy.load(\"ru_core_news_sm\")\n",
        "text = 'серпуховчаночка'\n",
        "doc = nlp(text)\n",
        "\n",
        "for ent in doc.ents:\n",
        "  print(ent.label_)"
      ],
      "metadata": {
        "id": "MNUScd7oKd0z"
      },
      "execution_count": null,
      "outputs": []
    },
    {
      "cell_type": "code",
      "source": [
        "nlp = spacy.load(\"ru_core_news_sm\")\n",
        "\n",
        "ent_dict = {'word': ['entity']}\n",
        "#тут на NA не проверила\n",
        "for word in tqdm(list(vocab)):\n",
        "  if type(word) is not str:\n",
        "    continue\n",
        "  else:\n",
        "    doc = nlp(word)\n",
        "    for ent in doc.ents:\n",
        "      ent_dict[ent.text] = [ent.label_]\n",
        "\n",
        "df = pd.DataFrame.from_dict(ent_dict, orient='index')\n",
        "print(df)"
      ],
      "metadata": {
        "id": "GqPq8qTTajaj"
      },
      "execution_count": null,
      "outputs": []
    },
    {
      "cell_type": "code",
      "source": [
        "df[1:].sort_index(inplace=True)\n",
        "df.to_csv(\"/content/drive/MyDrive/NLP_spring2023/spacy_ner230524.txt\", encoding='utf-8', sep=\"\\t\", index=True, header=False)"
      ],
      "metadata": {
        "id": "VZwND-lfgl9U"
      },
      "execution_count": null,
      "outputs": []
    },
    {
      "cell_type": "code",
      "source": [
        "spacy_df = pd.read_csv('/content/drive/MyDrive/NLP_spring2023/spacy_ner230524.txt', sep='\\t')\n",
        "spacy_df.info()"
      ],
      "metadata": {
        "colab": {
          "base_uri": "https://localhost:8080/"
        },
        "id": "ooGirjKXslxk",
        "outputId": "aa5dd8af-e971-4d4a-eb37-db99adf2fd30"
      },
      "execution_count": null,
      "outputs": [
        {
          "output_type": "stream",
          "name": "stdout",
          "text": [
            "<class 'pandas.core.frame.DataFrame'>\n",
            "RangeIndex: 30585 entries, 0 to 30584\n",
            "Data columns (total 2 columns):\n",
            " #   Column  Non-Null Count  Dtype \n",
            "---  ------  --------------  ----- \n",
            " 0   word    30585 non-null  object\n",
            " 1   entity  30585 non-null  object\n",
            "dtypes: object(2)\n",
            "memory usage: 478.0+ KB\n"
          ]
        }
      ]
    },
    {
      "cell_type": "code",
      "source": [
        "spacy_words = set(spacy_df['word'])\n",
        "spacy_ner = (spacy_df['word'], spacy_df['entity'])\n",
        "spacy_ner_df = pd.DataFrame(spacy_ner)\n",
        "spacy_ner_df = spacy_ner_df.T\n",
        "spacy_ner_df.head()"
      ],
      "metadata": {
        "colab": {
          "base_uri": "https://localhost:8080/",
          "height": 206
        },
        "id": "P3xY1jsAtfuN",
        "outputId": "2b6a881f-8aba-47fe-a9e0-76145a5544c6"
      },
      "execution_count": null,
      "outputs": [
        {
          "output_type": "execute_result",
          "data": {
            "text/plain": [
              "         word entity\n",
              "0     шаипова    PER\n",
              "1    капайкин    PER\n",
              "2   труфкакин    PER\n",
              "3  смученкова    PER\n",
              "4     шибрина    PER"
            ],
            "text/html": [
              "\n",
              "  <div id=\"df-0c83e8f6-a173-4829-8ba4-192b2ae58a58\">\n",
              "    <div class=\"colab-df-container\">\n",
              "      <div>\n",
              "<style scoped>\n",
              "    .dataframe tbody tr th:only-of-type {\n",
              "        vertical-align: middle;\n",
              "    }\n",
              "\n",
              "    .dataframe tbody tr th {\n",
              "        vertical-align: top;\n",
              "    }\n",
              "\n",
              "    .dataframe thead th {\n",
              "        text-align: right;\n",
              "    }\n",
              "</style>\n",
              "<table border=\"1\" class=\"dataframe\">\n",
              "  <thead>\n",
              "    <tr style=\"text-align: right;\">\n",
              "      <th></th>\n",
              "      <th>word</th>\n",
              "      <th>entity</th>\n",
              "    </tr>\n",
              "  </thead>\n",
              "  <tbody>\n",
              "    <tr>\n",
              "      <th>0</th>\n",
              "      <td>шаипова</td>\n",
              "      <td>PER</td>\n",
              "    </tr>\n",
              "    <tr>\n",
              "      <th>1</th>\n",
              "      <td>капайкин</td>\n",
              "      <td>PER</td>\n",
              "    </tr>\n",
              "    <tr>\n",
              "      <th>2</th>\n",
              "      <td>труфкакин</td>\n",
              "      <td>PER</td>\n",
              "    </tr>\n",
              "    <tr>\n",
              "      <th>3</th>\n",
              "      <td>смученкова</td>\n",
              "      <td>PER</td>\n",
              "    </tr>\n",
              "    <tr>\n",
              "      <th>4</th>\n",
              "      <td>шибрина</td>\n",
              "      <td>PER</td>\n",
              "    </tr>\n",
              "  </tbody>\n",
              "</table>\n",
              "</div>\n",
              "      <button class=\"colab-df-convert\" onclick=\"convertToInteractive('df-0c83e8f6-a173-4829-8ba4-192b2ae58a58')\"\n",
              "              title=\"Convert this dataframe to an interactive table.\"\n",
              "              style=\"display:none;\">\n",
              "        \n",
              "  <svg xmlns=\"http://www.w3.org/2000/svg\" height=\"24px\"viewBox=\"0 0 24 24\"\n",
              "       width=\"24px\">\n",
              "    <path d=\"M0 0h24v24H0V0z\" fill=\"none\"/>\n",
              "    <path d=\"M18.56 5.44l.94 2.06.94-2.06 2.06-.94-2.06-.94-.94-2.06-.94 2.06-2.06.94zm-11 1L8.5 8.5l.94-2.06 2.06-.94-2.06-.94L8.5 2.5l-.94 2.06-2.06.94zm10 10l.94 2.06.94-2.06 2.06-.94-2.06-.94-.94-2.06-.94 2.06-2.06.94z\"/><path d=\"M17.41 7.96l-1.37-1.37c-.4-.4-.92-.59-1.43-.59-.52 0-1.04.2-1.43.59L10.3 9.45l-7.72 7.72c-.78.78-.78 2.05 0 2.83L4 21.41c.39.39.9.59 1.41.59.51 0 1.02-.2 1.41-.59l7.78-7.78 2.81-2.81c.8-.78.8-2.07 0-2.86zM5.41 20L4 18.59l7.72-7.72 1.47 1.35L5.41 20z\"/>\n",
              "  </svg>\n",
              "      </button>\n",
              "      \n",
              "  <style>\n",
              "    .colab-df-container {\n",
              "      display:flex;\n",
              "      flex-wrap:wrap;\n",
              "      gap: 12px;\n",
              "    }\n",
              "\n",
              "    .colab-df-convert {\n",
              "      background-color: #E8F0FE;\n",
              "      border: none;\n",
              "      border-radius: 50%;\n",
              "      cursor: pointer;\n",
              "      display: none;\n",
              "      fill: #1967D2;\n",
              "      height: 32px;\n",
              "      padding: 0 0 0 0;\n",
              "      width: 32px;\n",
              "    }\n",
              "\n",
              "    .colab-df-convert:hover {\n",
              "      background-color: #E2EBFA;\n",
              "      box-shadow: 0px 1px 2px rgba(60, 64, 67, 0.3), 0px 1px 3px 1px rgba(60, 64, 67, 0.15);\n",
              "      fill: #174EA6;\n",
              "    }\n",
              "\n",
              "    [theme=dark] .colab-df-convert {\n",
              "      background-color: #3B4455;\n",
              "      fill: #D2E3FC;\n",
              "    }\n",
              "\n",
              "    [theme=dark] .colab-df-convert:hover {\n",
              "      background-color: #434B5C;\n",
              "      box-shadow: 0px 1px 3px 1px rgba(0, 0, 0, 0.15);\n",
              "      filter: drop-shadow(0px 1px 2px rgba(0, 0, 0, 0.3));\n",
              "      fill: #FFFFFF;\n",
              "    }\n",
              "  </style>\n",
              "\n",
              "      <script>\n",
              "        const buttonEl =\n",
              "          document.querySelector('#df-0c83e8f6-a173-4829-8ba4-192b2ae58a58 button.colab-df-convert');\n",
              "        buttonEl.style.display =\n",
              "          google.colab.kernel.accessAllowed ? 'block' : 'none';\n",
              "\n",
              "        async function convertToInteractive(key) {\n",
              "          const element = document.querySelector('#df-0c83e8f6-a173-4829-8ba4-192b2ae58a58');\n",
              "          const dataTable =\n",
              "            await google.colab.kernel.invokeFunction('convertToInteractive',\n",
              "                                                     [key], {});\n",
              "          if (!dataTable) return;\n",
              "\n",
              "          const docLinkHtml = 'Like what you see? Visit the ' +\n",
              "            '<a target=\"_blank\" href=https://colab.research.google.com/notebooks/data_table.ipynb>data table notebook</a>'\n",
              "            + ' to learn more about interactive tables.';\n",
              "          element.innerHTML = '';\n",
              "          dataTable['output_type'] = 'display_data';\n",
              "          await google.colab.output.renderOutput(dataTable, element);\n",
              "          const docLink = document.createElement('div');\n",
              "          docLink.innerHTML = docLinkHtml;\n",
              "          element.appendChild(docLink);\n",
              "        }\n",
              "      </script>\n",
              "    </div>\n",
              "  </div>\n",
              "  "
            ]
          },
          "metadata": {},
          "execution_count": 5
        }
      ]
    },
    {
      "cell_type": "code",
      "source": [
        "leftover = []\n",
        "for word in vocab:\n",
        "  if word not in spacy_words:\n",
        "    leftover.append((word, 'O'))\n",
        "spacy_lo_df = pd.DataFrame(leftover)\n",
        "spacy_lo_df = spacy_lo_df.rename(columns ={0: 'word', 1: 'entity'})\n",
        "spacy_lo_df.shape"
      ],
      "metadata": {
        "colab": {
          "base_uri": "https://localhost:8080/"
        },
        "id": "95v13uJquRTE",
        "outputId": "fb126de8-1094-42b3-90c3-5238e90e5cdc"
      },
      "execution_count": null,
      "outputs": [
        {
          "output_type": "execute_result",
          "data": {
            "text/plain": [
              "(138374, 2)"
            ]
          },
          "metadata": {},
          "execution_count": 8
        }
      ]
    },
    {
      "cell_type": "code",
      "source": [
        "from sklearn.utils import shuffle\n",
        "\n",
        "spacy_total_df = pd.concat([spacy_lo_df, spacy_ner_df])\n",
        "spacy_total_df = shuffle(spacy_total_df)\n",
        "spacy_total_df.head()\n",
        "#spacy_total_df.to_csv(\"/content/drive/MyDrive/NLP_spring2023/spacy_total230524.txt\", encoding='utf-8', sep=\"\\t\", index=False, header=True)"
      ],
      "metadata": {
        "colab": {
          "base_uri": "https://localhost:8080/",
          "height": 206
        },
        "id": "oaKrpOWG1NrV",
        "outputId": "751fa1ed-3205-4bb0-8a15-ac4b1698b2ab"
      },
      "execution_count": null,
      "outputs": [
        {
          "output_type": "execute_result",
          "data": {
            "text/plain": [
              "                  word entity\n",
              "8648    ноль-семьдесят      O\n",
              "132525    присандалить      O\n",
              "130609         едганов      O\n",
              "5949      хрдиректоров    PER\n",
              "126856      шеринговой      O"
            ],
            "text/html": [
              "\n",
              "  <div id=\"df-4bf922e0-3e00-4894-a8cb-9e8ac4d65667\">\n",
              "    <div class=\"colab-df-container\">\n",
              "      <div>\n",
              "<style scoped>\n",
              "    .dataframe tbody tr th:only-of-type {\n",
              "        vertical-align: middle;\n",
              "    }\n",
              "\n",
              "    .dataframe tbody tr th {\n",
              "        vertical-align: top;\n",
              "    }\n",
              "\n",
              "    .dataframe thead th {\n",
              "        text-align: right;\n",
              "    }\n",
              "</style>\n",
              "<table border=\"1\" class=\"dataframe\">\n",
              "  <thead>\n",
              "    <tr style=\"text-align: right;\">\n",
              "      <th></th>\n",
              "      <th>word</th>\n",
              "      <th>entity</th>\n",
              "    </tr>\n",
              "  </thead>\n",
              "  <tbody>\n",
              "    <tr>\n",
              "      <th>8648</th>\n",
              "      <td>ноль-семьдесят</td>\n",
              "      <td>O</td>\n",
              "    </tr>\n",
              "    <tr>\n",
              "      <th>132525</th>\n",
              "      <td>присандалить</td>\n",
              "      <td>O</td>\n",
              "    </tr>\n",
              "    <tr>\n",
              "      <th>130609</th>\n",
              "      <td>едганов</td>\n",
              "      <td>O</td>\n",
              "    </tr>\n",
              "    <tr>\n",
              "      <th>5949</th>\n",
              "      <td>хрдиректоров</td>\n",
              "      <td>PER</td>\n",
              "    </tr>\n",
              "    <tr>\n",
              "      <th>126856</th>\n",
              "      <td>шеринговой</td>\n",
              "      <td>O</td>\n",
              "    </tr>\n",
              "  </tbody>\n",
              "</table>\n",
              "</div>\n",
              "      <button class=\"colab-df-convert\" onclick=\"convertToInteractive('df-4bf922e0-3e00-4894-a8cb-9e8ac4d65667')\"\n",
              "              title=\"Convert this dataframe to an interactive table.\"\n",
              "              style=\"display:none;\">\n",
              "        \n",
              "  <svg xmlns=\"http://www.w3.org/2000/svg\" height=\"24px\"viewBox=\"0 0 24 24\"\n",
              "       width=\"24px\">\n",
              "    <path d=\"M0 0h24v24H0V0z\" fill=\"none\"/>\n",
              "    <path d=\"M18.56 5.44l.94 2.06.94-2.06 2.06-.94-2.06-.94-.94-2.06-.94 2.06-2.06.94zm-11 1L8.5 8.5l.94-2.06 2.06-.94-2.06-.94L8.5 2.5l-.94 2.06-2.06.94zm10 10l.94 2.06.94-2.06 2.06-.94-2.06-.94-.94-2.06-.94 2.06-2.06.94z\"/><path d=\"M17.41 7.96l-1.37-1.37c-.4-.4-.92-.59-1.43-.59-.52 0-1.04.2-1.43.59L10.3 9.45l-7.72 7.72c-.78.78-.78 2.05 0 2.83L4 21.41c.39.39.9.59 1.41.59.51 0 1.02-.2 1.41-.59l7.78-7.78 2.81-2.81c.8-.78.8-2.07 0-2.86zM5.41 20L4 18.59l7.72-7.72 1.47 1.35L5.41 20z\"/>\n",
              "  </svg>\n",
              "      </button>\n",
              "      \n",
              "  <style>\n",
              "    .colab-df-container {\n",
              "      display:flex;\n",
              "      flex-wrap:wrap;\n",
              "      gap: 12px;\n",
              "    }\n",
              "\n",
              "    .colab-df-convert {\n",
              "      background-color: #E8F0FE;\n",
              "      border: none;\n",
              "      border-radius: 50%;\n",
              "      cursor: pointer;\n",
              "      display: none;\n",
              "      fill: #1967D2;\n",
              "      height: 32px;\n",
              "      padding: 0 0 0 0;\n",
              "      width: 32px;\n",
              "    }\n",
              "\n",
              "    .colab-df-convert:hover {\n",
              "      background-color: #E2EBFA;\n",
              "      box-shadow: 0px 1px 2px rgba(60, 64, 67, 0.3), 0px 1px 3px 1px rgba(60, 64, 67, 0.15);\n",
              "      fill: #174EA6;\n",
              "    }\n",
              "\n",
              "    [theme=dark] .colab-df-convert {\n",
              "      background-color: #3B4455;\n",
              "      fill: #D2E3FC;\n",
              "    }\n",
              "\n",
              "    [theme=dark] .colab-df-convert:hover {\n",
              "      background-color: #434B5C;\n",
              "      box-shadow: 0px 1px 3px 1px rgba(0, 0, 0, 0.15);\n",
              "      filter: drop-shadow(0px 1px 2px rgba(0, 0, 0, 0.3));\n",
              "      fill: #FFFFFF;\n",
              "    }\n",
              "  </style>\n",
              "\n",
              "      <script>\n",
              "        const buttonEl =\n",
              "          document.querySelector('#df-4bf922e0-3e00-4894-a8cb-9e8ac4d65667 button.colab-df-convert');\n",
              "        buttonEl.style.display =\n",
              "          google.colab.kernel.accessAllowed ? 'block' : 'none';\n",
              "\n",
              "        async function convertToInteractive(key) {\n",
              "          const element = document.querySelector('#df-4bf922e0-3e00-4894-a8cb-9e8ac4d65667');\n",
              "          const dataTable =\n",
              "            await google.colab.kernel.invokeFunction('convertToInteractive',\n",
              "                                                     [key], {});\n",
              "          if (!dataTable) return;\n",
              "\n",
              "          const docLinkHtml = 'Like what you see? Visit the ' +\n",
              "            '<a target=\"_blank\" href=https://colab.research.google.com/notebooks/data_table.ipynb>data table notebook</a>'\n",
              "            + ' to learn more about interactive tables.';\n",
              "          element.innerHTML = '';\n",
              "          dataTable['output_type'] = 'display_data';\n",
              "          await google.colab.output.renderOutput(dataTable, element);\n",
              "          const docLink = document.createElement('div');\n",
              "          docLink.innerHTML = docLinkHtml;\n",
              "          element.appendChild(docLink);\n",
              "        }\n",
              "      </script>\n",
              "    </div>\n",
              "  </div>\n",
              "  "
            ]
          },
          "metadata": {},
          "execution_count": 9
        }
      ]
    },
    {
      "cell_type": "code",
      "source": [
        "print(f\"NER results:\\\n",
        "        entities:{spacy_total_df.shape[0] - spacy_total_df.loc[spacy_total_df['entity'] == 'O'].shape[0]}\\\n",
        "        non-recognized words:{spacy_total_df.loc[spacy_total_df['entity'] == 'O'].shape[0]}\")"
      ],
      "metadata": {
        "colab": {
          "base_uri": "https://localhost:8080/"
        },
        "id": "rLrfLwzd8XwO",
        "outputId": "36cec833-f7b7-47aa-8160-3b183135cbce"
      },
      "execution_count": null,
      "outputs": [
        {
          "output_type": "stream",
          "name": "stdout",
          "text": [
            "NER results:        entities:30585        non-recognized words:138374\n"
          ]
        }
      ]
    },
    {
      "cell_type": "markdown",
      "source": [
        "Уже сейчас видно, что многие фамилии проигнорированы)"
      ],
      "metadata": {
        "id": "OGFnI1VEwiWs"
      }
    },
    {
      "cell_type": "markdown",
      "source": [
        "`!!!! распредление, визуал (для R)`"
      ],
      "metadata": {
        "id": "1EBUe5EJ3r0l"
      }
    },
    {
      "cell_type": "markdown",
      "source": [
        "## [DeepPavlov NER ](https://docs.deeppavlov.ai/en/master/features/models/NER.html)\n",
        "\n"
      ],
      "metadata": {
        "id": "4bYeB2Pmck7p"
      }
    },
    {
      "cell_type": "code",
      "source": [
        "!pip install -q deeppavlov\n",
        "!python -m deeppavlov install ner_ontonotes_bert_torch\n"
      ],
      "metadata": {
        "id": "Y77wzyH5c4Jh"
      },
      "execution_count": null,
      "outputs": []
    },
    {
      "cell_type": "code",
      "source": [
        "from deeppavlov import build_model\n",
        "\n",
        "ner_model = build_model('ner_ontonotes_bert_torch', download=True, install=True)"
      ],
      "metadata": {
        "id": "kk25CKtb_Oq_"
      },
      "execution_count": null,
      "outputs": []
    },
    {
      "cell_type": "code",
      "source": [
        "ner_model(['серпуховчаночка'])"
      ],
      "metadata": {
        "id": "SdvV7g9mLFKV"
      },
      "execution_count": null,
      "outputs": []
    },
    {
      "cell_type": "code",
      "source": [
        "vocab_list = list(vocab)\n",
        "ent_dict = {'word': ['entity']}\n",
        "\n",
        "for i in tqdm(range(len(vocab_list))):\n",
        "  n = ner_model([vocab_list[i]])\n",
        "  n = [l[0] for l in n]\n",
        "  ent_dict[n[0][0]] = [n[1][0]]\n",
        "ent_dict\n",
        "df = pd.DataFrame.from_dict(ent_dict, orient='index')\n",
        "df"
      ],
      "metadata": {
        "id": "-GZVTdSp5PDE"
      },
      "execution_count": null,
      "outputs": []
    },
    {
      "cell_type": "code",
      "source": [
        "df[1:].sort_index(inplace=True)\n",
        "df.to_csv(\"/content/drive/MyDrive/NLP_spring2023/deeppavlov_ner230524.txt\", encoding='utf-8', sep=\"\\t\", index=True, header=False)"
      ],
      "metadata": {
        "id": "yUEaipXxdIQz"
      },
      "execution_count": null,
      "outputs": []
    },
    {
      "cell_type": "code",
      "source": [
        "import pandas as pd\n",
        "\n",
        "deepp_df = pd.read_csv('/content/drive/MyDrive/NLP_spring2023/deeppavlov_ner230524.txt', sep='\\t')\n",
        "print(f\"NER results:\\\n",
        "        entities: {deepp_df.shape[0] - deepp_df.loc[deepp_df['entity'] == 'O'].shape[0]}\\\n",
        "        non-recognized words: {deepp_df.loc[deepp_df['entity'] == 'O'].shape[0]}\")"
      ],
      "metadata": {
        "colab": {
          "base_uri": "https://localhost:8080/"
        },
        "id": "y3dNzzZc3axB",
        "outputId": "087966b2-5fab-4890-8b3e-9fb30716c317"
      },
      "execution_count": null,
      "outputs": [
        {
          "output_type": "stream",
          "name": "stdout",
          "text": [
            "NER results:        entities: 104365        non-recognized words: 62800\n"
          ]
        }
      ]
    },
    {
      "cell_type": "code",
      "source": [
        "deepp_df.loc[deepp_df['entity'] == 'O']"
      ],
      "metadata": {
        "colab": {
          "base_uri": "https://localhost:8080/",
          "height": 672
        },
        "id": "HsqqKgsYturA",
        "outputId": "2cbd0f1e-337c-4e7d-9be7-0b0089179bc0"
      },
      "execution_count": null,
      "outputs": [
        {
          "output_type": "execute_result",
          "data": {
            "text/plain": [
              "                word entity\n",
              "2               спту      O\n",
              "7             иэсджи      O\n",
              "10          пошучено      O\n",
              "11      электриество      O\n",
              "13           опеатоа      O\n",
              "...              ...    ...\n",
              "167156            ще      O\n",
              "167159  супергероики      O\n",
              "167161        чероке      O\n",
              "167162        активо      O\n",
              "167164      эфириума      O\n",
              "\n",
              "[62800 rows x 2 columns]"
            ],
            "text/html": [
              "\n",
              "  <div id=\"df-12299174-8295-45d1-b6cb-0aae14f56105\">\n",
              "    <div class=\"colab-df-container\">\n",
              "      <div>\n",
              "<style scoped>\n",
              "    .dataframe tbody tr th:only-of-type {\n",
              "        vertical-align: middle;\n",
              "    }\n",
              "\n",
              "    .dataframe tbody tr th {\n",
              "        vertical-align: top;\n",
              "    }\n",
              "\n",
              "    .dataframe thead th {\n",
              "        text-align: right;\n",
              "    }\n",
              "</style>\n",
              "<table border=\"1\" class=\"dataframe\">\n",
              "  <thead>\n",
              "    <tr style=\"text-align: right;\">\n",
              "      <th></th>\n",
              "      <th>word</th>\n",
              "      <th>entity</th>\n",
              "    </tr>\n",
              "  </thead>\n",
              "  <tbody>\n",
              "    <tr>\n",
              "      <th>2</th>\n",
              "      <td>спту</td>\n",
              "      <td>O</td>\n",
              "    </tr>\n",
              "    <tr>\n",
              "      <th>7</th>\n",
              "      <td>иэсджи</td>\n",
              "      <td>O</td>\n",
              "    </tr>\n",
              "    <tr>\n",
              "      <th>10</th>\n",
              "      <td>пошучено</td>\n",
              "      <td>O</td>\n",
              "    </tr>\n",
              "    <tr>\n",
              "      <th>11</th>\n",
              "      <td>электриество</td>\n",
              "      <td>O</td>\n",
              "    </tr>\n",
              "    <tr>\n",
              "      <th>13</th>\n",
              "      <td>опеатоа</td>\n",
              "      <td>O</td>\n",
              "    </tr>\n",
              "    <tr>\n",
              "      <th>...</th>\n",
              "      <td>...</td>\n",
              "      <td>...</td>\n",
              "    </tr>\n",
              "    <tr>\n",
              "      <th>167156</th>\n",
              "      <td>ще</td>\n",
              "      <td>O</td>\n",
              "    </tr>\n",
              "    <tr>\n",
              "      <th>167159</th>\n",
              "      <td>супергероики</td>\n",
              "      <td>O</td>\n",
              "    </tr>\n",
              "    <tr>\n",
              "      <th>167161</th>\n",
              "      <td>чероке</td>\n",
              "      <td>O</td>\n",
              "    </tr>\n",
              "    <tr>\n",
              "      <th>167162</th>\n",
              "      <td>активо</td>\n",
              "      <td>O</td>\n",
              "    </tr>\n",
              "    <tr>\n",
              "      <th>167164</th>\n",
              "      <td>эфириума</td>\n",
              "      <td>O</td>\n",
              "    </tr>\n",
              "  </tbody>\n",
              "</table>\n",
              "<p>62800 rows × 2 columns</p>\n",
              "</div>\n",
              "      <button class=\"colab-df-convert\" onclick=\"convertToInteractive('df-12299174-8295-45d1-b6cb-0aae14f56105')\"\n",
              "              title=\"Convert this dataframe to an interactive table.\"\n",
              "              style=\"display:none;\">\n",
              "        \n",
              "  <svg xmlns=\"http://www.w3.org/2000/svg\" height=\"24px\"viewBox=\"0 0 24 24\"\n",
              "       width=\"24px\">\n",
              "    <path d=\"M0 0h24v24H0V0z\" fill=\"none\"/>\n",
              "    <path d=\"M18.56 5.44l.94 2.06.94-2.06 2.06-.94-2.06-.94-.94-2.06-.94 2.06-2.06.94zm-11 1L8.5 8.5l.94-2.06 2.06-.94-2.06-.94L8.5 2.5l-.94 2.06-2.06.94zm10 10l.94 2.06.94-2.06 2.06-.94-2.06-.94-.94-2.06-.94 2.06-2.06.94z\"/><path d=\"M17.41 7.96l-1.37-1.37c-.4-.4-.92-.59-1.43-.59-.52 0-1.04.2-1.43.59L10.3 9.45l-7.72 7.72c-.78.78-.78 2.05 0 2.83L4 21.41c.39.39.9.59 1.41.59.51 0 1.02-.2 1.41-.59l7.78-7.78 2.81-2.81c.8-.78.8-2.07 0-2.86zM5.41 20L4 18.59l7.72-7.72 1.47 1.35L5.41 20z\"/>\n",
              "  </svg>\n",
              "      </button>\n",
              "      \n",
              "  <style>\n",
              "    .colab-df-container {\n",
              "      display:flex;\n",
              "      flex-wrap:wrap;\n",
              "      gap: 12px;\n",
              "    }\n",
              "\n",
              "    .colab-df-convert {\n",
              "      background-color: #E8F0FE;\n",
              "      border: none;\n",
              "      border-radius: 50%;\n",
              "      cursor: pointer;\n",
              "      display: none;\n",
              "      fill: #1967D2;\n",
              "      height: 32px;\n",
              "      padding: 0 0 0 0;\n",
              "      width: 32px;\n",
              "    }\n",
              "\n",
              "    .colab-df-convert:hover {\n",
              "      background-color: #E2EBFA;\n",
              "      box-shadow: 0px 1px 2px rgba(60, 64, 67, 0.3), 0px 1px 3px 1px rgba(60, 64, 67, 0.15);\n",
              "      fill: #174EA6;\n",
              "    }\n",
              "\n",
              "    [theme=dark] .colab-df-convert {\n",
              "      background-color: #3B4455;\n",
              "      fill: #D2E3FC;\n",
              "    }\n",
              "\n",
              "    [theme=dark] .colab-df-convert:hover {\n",
              "      background-color: #434B5C;\n",
              "      box-shadow: 0px 1px 3px 1px rgba(0, 0, 0, 0.15);\n",
              "      filter: drop-shadow(0px 1px 2px rgba(0, 0, 0, 0.3));\n",
              "      fill: #FFFFFF;\n",
              "    }\n",
              "  </style>\n",
              "\n",
              "      <script>\n",
              "        const buttonEl =\n",
              "          document.querySelector('#df-12299174-8295-45d1-b6cb-0aae14f56105 button.colab-df-convert');\n",
              "        buttonEl.style.display =\n",
              "          google.colab.kernel.accessAllowed ? 'block' : 'none';\n",
              "\n",
              "        async function convertToInteractive(key) {\n",
              "          const element = document.querySelector('#df-12299174-8295-45d1-b6cb-0aae14f56105');\n",
              "          const dataTable =\n",
              "            await google.colab.kernel.invokeFunction('convertToInteractive',\n",
              "                                                     [key], {});\n",
              "          if (!dataTable) return;\n",
              "\n",
              "          const docLinkHtml = 'Like what you see? Visit the ' +\n",
              "            '<a target=\"_blank\" href=https://colab.research.google.com/notebooks/data_table.ipynb>data table notebook</a>'\n",
              "            + ' to learn more about interactive tables.';\n",
              "          element.innerHTML = '';\n",
              "          dataTable['output_type'] = 'display_data';\n",
              "          await google.colab.output.renderOutput(dataTable, element);\n",
              "          const docLink = document.createElement('div');\n",
              "          docLink.innerHTML = docLinkHtml;\n",
              "          element.appendChild(docLink);\n",
              "        }\n",
              "      </script>\n",
              "    </div>\n",
              "  </div>\n",
              "  "
            ]
          },
          "metadata": {},
          "execution_count": 34
        },
        {
          "output_type": "stream",
          "name": "stdout",
          "text": [
            "Warning: total number of rows (62800) exceeds max_rows (20000). Limiting to first (20000) rows.\n"
          ]
        }
      ]
    },
    {
      "cell_type": "code",
      "source": [
        "deepp_df.loc[deepp_df['entity'] == 'O'].to_csv(\"/content/drive/MyDrive/NLP_spring2023/deeppavlov_O.txt\", encoding='utf-8', sep=\"\\t\", index=False, header=True)"
      ],
      "metadata": {
        "id": "42Vh7KaOuJ18"
      },
      "execution_count": null,
      "outputs": []
    },
    {
      "cell_type": "markdown",
      "source": [
        "`!!!! распредление, визуал (для R)`"
      ],
      "metadata": {
        "id": "NmNj9BCV4cKM"
      }
    },
    {
      "cell_type": "markdown",
      "source": [
        "## [Natasha](https://github.com/natasha/natasha)"
      ],
      "metadata": {
        "id": "mThe3-yZjzwC"
      }
    },
    {
      "cell_type": "code",
      "source": [
        "! pip install natasha"
      ],
      "metadata": {
        "id": "lKXWuQdYkGLs"
      },
      "execution_count": null,
      "outputs": []
    },
    {
      "cell_type": "code",
      "source": [
        "from natasha import (\n",
        "    Segmenter,\n",
        "    MorphVocab,\n",
        "\n",
        "    NewsEmbedding,\n",
        "    NewsMorphTagger,\n",
        "    NewsSyntaxParser,\n",
        "    NewsNERTagger,\n",
        "\n",
        "    PER,\n",
        "    NamesExtractor,\n",
        "    DatesExtractor,\n",
        "    MoneyExtractor,\n",
        "    AddrExtractor,\n",
        "\n",
        "    Doc\n",
        ")\n",
        "\n",
        "segmenter = Segmenter()\n",
        "morph_vocab = MorphVocab()\n",
        "\n",
        "emb = NewsEmbedding()\n",
        "morph_tagger = NewsMorphTagger(emb)\n",
        "syntax_parser = NewsSyntaxParser(emb)\n",
        "ner_tagger = NewsNERTagger(emb)\n",
        "\n",
        "names_extractor = NamesExtractor(morph_vocab)\n",
        "dates_extractor = DatesExtractor(morph_vocab)\n",
        "money_extractor = MoneyExtractor(morph_vocab)\n",
        "addr_extractor = AddrExtractor(morph_vocab)"
      ],
      "metadata": {
        "id": "MD1exmo6jspf"
      },
      "execution_count": null,
      "outputs": []
    },
    {
      "cell_type": "code",
      "source": [
        "ent_dict = {'word': ['entity']}\n",
        "\n",
        "for word in tqdm(list(vocab)):\n",
        "  text = word\n",
        "  doc =(Doc(text))\n",
        "  doc.segment(segmenter)\n",
        "  doc.tag_ner(ner_tagger)\n",
        "  if doc.spans:\n",
        "    ent_dict[text] = [list(doc.spans[0])[2]]\n",
        "\n",
        "df = pd.DataFrame.from_dict(ent_dict, orient='index')\n",
        "print(df)"
      ],
      "metadata": {
        "id": "dcBcca-bnidT"
      },
      "execution_count": null,
      "outputs": []
    },
    {
      "cell_type": "code",
      "source": [
        "text = 'Мария'\n",
        "doc =(Doc(text))\n",
        "doc.segment(segmenter)\n",
        "doc.tag_ner(ner_tagger)\n",
        "list(doc.spans[0])[2]"
      ],
      "metadata": {
        "id": "KZ19gTX2ozV0"
      },
      "execution_count": null,
      "outputs": []
    },
    {
      "cell_type": "markdown",
      "source": [
        "\n",
        "Остальные\n",
        "\n",
        "\n",
        "\n",
        "*   [pullenti](https://www.pullenti.ru/Document)\n",
        "\n",
        "Отдельная [версия](https://github.com/pullenti/pullenti-wrapper) под питон не обновляется. Это вообще что-то совсем сложное -- трогать его не буду\n",
        "\n",
        "*   stanza\n",
        "\n",
        "Ничего вообще толкового не определяет\n"
      ],
      "metadata": {
        "id": "pmG0NGRsMI-B"
      }
    },
    {
      "cell_type": "markdown",
      "source": [
        "## **Вывод**\n",
        "\n",
        "DeepPavlov NER выделил намного больше сущностей.**\n",
        "\n",
        "Ложные срабатывания есть (примеры):\n",
        "```\n",
        "разницой\tB-PERSON\n",
        "эфайэф\tB-PERSON\n",
        "лотерейки\tB-PERSON\n",
        "злобненький\tB-GPE\n",
        "```"
      ],
      "metadata": {
        "id": "Zx_S2xLWMvpH"
      }
    },
    {
      "cell_type": "markdown",
      "source": [
        "# Используем ChatGPT для разметки данных"
      ],
      "metadata": {
        "id": "R_jyzo86BLJg"
      }
    },
    {
      "cell_type": "markdown",
      "source": [
        "![image.png](data:image/png;base64,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)\n",
        "\n",
        "Основная информация взята из этого курса по [промпт-инжинирингу](https://www.deeplearning.ai/short-courses/chatgpt-prompt-engineering-for-developers/\n",
        "), *важные рекоммендации получены из самого ChatGPT*"
      ],
      "metadata": {
        "id": "yo8ded4vF7sS"
      }
    },
    {
      "cell_type": "markdown",
      "source": [
        "## Brief instruction by ChatGPT\n",
        "\n",
        "\n",
        "\n",
        "1. Prepare the list: Compile the long list of words that you want ChatGPT to\n",
        "label. Make sure the list is in a format that is easily readable and understandable by the model. **You can store the words in a text file or create a Python list or any other suitable format.**\n",
        "\n",
        "2. Define your instructions: Clearly define the instructions you want to provide to ChatGPT for labeling the words. This could include **specific categories or labels you want to assign to the words, guidelines for how to handle ambiguous cases, or any other relevant instructions.**\n",
        "\n",
        "3. Format your input: To communicate with ChatGPT, you'll need to format your input as a prompt. **Begin with a clear instruction or question to set the context**, and then include the relevant list of words.\n",
        "\n"
      ],
      "metadata": {
        "id": "XZCGLT0xrC00"
      }
    },
    {
      "cell_type": "markdown",
      "source": [
        "**The OpenAI API only accepts text as input**, so you need to convert the contents of the CSV file into a suitable format for ChatGPT.\n",
        "\n",
        "* Read the CSV file\n",
        "\n",
        "* Extract the relevant data: Determine the specific data from the CSV file that you want to send to ChatGPT. It could be a single column or multiple columns depending on your requirements.\n",
        "\n",
        "* Format the data: Format the extracted data into a suitable format for ChatGPT. Typically, this involves converting the data into a text string that you can include as part of your prompt. You might concatenate the values from each row or format them in a way that aligns with your instruction.\n",
        "\n",
        "* Construct the prompt: Create a prompt that includes the necessary instructions and the formatted data from the CSV file. Make sure the prompt is clear and provides sufficient context for ChatGPT to understand what you are asking.\n",
        "\n",
        "* Interact with the API: Use the OpenAI API to send your prompt and receive the model's response. You can make an API call with your prompt as the input and receive the generated text as the output.\n",
        "\n",
        "4. Interact with ChatGPT: Use an API or interface that allows you to interact with the ChatGPT model. You can make API calls if an API is available, or use an SDK provided by OpenAI. Pass your formatted input as the prompt and receive the model's response.\n",
        "\n",
        "5. Iterate if needed: If the model's labeling doesn't meet your expectations or if it requires clarification, you can iterate the process by refining your instructions, adjusting the input format, or providing more context to the model. By experimenting and refining your prompts, you can improve the accuracy of the model's labeling.\n",
        "\n",
        "**It's important to note that the OpenAI API has limitations on the maximum token count (e.g., 4096 tokens for GPT-3.5 models)**. If your CSV file is too large to fit within this limit, you will need to truncate or reduce the data accordingly or split it into multiple requests."
      ],
      "metadata": {
        "id": "sYajS_nqHFpk"
      }
    },
    {
      "cell_type": "markdown",
      "source": [
        "## ChatGPT API Setup"
      ],
      "metadata": {
        "id": "5BoW2PkIl9s4"
      }
    },
    {
      "cell_type": "code",
      "source": [
        "!pip install openai\n",
        "!pip install pip install python-dotenv"
      ],
      "metadata": {
        "colab": {
          "base_uri": "https://localhost:8080/"
        },
        "id": "C2uJ6vD-tkvC",
        "outputId": "31b76f25-7ce6-4e38-d60a-56eac9c2d54a"
      },
      "execution_count": null,
      "outputs": [
        {
          "output_type": "stream",
          "name": "stdout",
          "text": [
            "Looking in indexes: https://pypi.org/simple, https://us-python.pkg.dev/colab-wheels/public/simple/\n",
            "Collecting openai\n",
            "  Downloading openai-0.27.8-py3-none-any.whl (73 kB)\n",
            "\u001b[?25l     \u001b[90m━━━━━━━━━━━━━━━━━━━━━━━━━━━━━━━━━━━━━━━━\u001b[0m \u001b[32m0.0/73.6 kB\u001b[0m \u001b[31m?\u001b[0m eta \u001b[36m-:--:--\u001b[0m\r\u001b[2K     \u001b[90m━━━━━━━━━━━━━━━━━━━━━━━━━━━━━━━━━━━━━━━━\u001b[0m \u001b[32m73.6/73.6 kB\u001b[0m \u001b[31m3.1 MB/s\u001b[0m eta \u001b[36m0:00:00\u001b[0m\n",
            "\u001b[?25hRequirement already satisfied: requests>=2.20 in /usr/local/lib/python3.10/dist-packages (from openai) (2.27.1)\n",
            "Requirement already satisfied: tqdm in /usr/local/lib/python3.10/dist-packages (from openai) (4.65.0)\n",
            "Collecting aiohttp (from openai)\n",
            "  Downloading aiohttp-3.8.4-cp310-cp310-manylinux_2_17_x86_64.manylinux2014_x86_64.whl (1.0 MB)\n",
            "\u001b[2K     \u001b[90m━━━━━━━━━━━━━━━━━━━━━━━━━━━━━━━━━━━━━━━━\u001b[0m \u001b[32m1.0/1.0 MB\u001b[0m \u001b[31m22.4 MB/s\u001b[0m eta \u001b[36m0:00:00\u001b[0m\n",
            "\u001b[?25hRequirement already satisfied: urllib3<1.27,>=1.21.1 in /usr/local/lib/python3.10/dist-packages (from requests>=2.20->openai) (1.26.15)\n",
            "Requirement already satisfied: certifi>=2017.4.17 in /usr/local/lib/python3.10/dist-packages (from requests>=2.20->openai) (2022.12.7)\n",
            "Requirement already satisfied: charset-normalizer~=2.0.0 in /usr/local/lib/python3.10/dist-packages (from requests>=2.20->openai) (2.0.12)\n",
            "Requirement already satisfied: idna<4,>=2.5 in /usr/local/lib/python3.10/dist-packages (from requests>=2.20->openai) (3.4)\n",
            "Requirement already satisfied: attrs>=17.3.0 in /usr/local/lib/python3.10/dist-packages (from aiohttp->openai) (23.1.0)\n",
            "Collecting multidict<7.0,>=4.5 (from aiohttp->openai)\n",
            "  Downloading multidict-6.0.4-cp310-cp310-manylinux_2_17_x86_64.manylinux2014_x86_64.whl (114 kB)\n",
            "\u001b[2K     \u001b[90m━━━━━━━━━━━━━━━━━━━━━━━━━━━━━━━━━━━━━━\u001b[0m \u001b[32m114.5/114.5 kB\u001b[0m \u001b[31m12.2 MB/s\u001b[0m eta \u001b[36m0:00:00\u001b[0m\n",
            "\u001b[?25hCollecting async-timeout<5.0,>=4.0.0a3 (from aiohttp->openai)\n",
            "  Downloading async_timeout-4.0.2-py3-none-any.whl (5.8 kB)\n",
            "Collecting yarl<2.0,>=1.0 (from aiohttp->openai)\n",
            "  Downloading yarl-1.9.2-cp310-cp310-manylinux_2_17_x86_64.manylinux2014_x86_64.whl (268 kB)\n",
            "\u001b[2K     \u001b[90m━━━━━━━━━━━━━━━━━━━━━━━━━━━━━━━━━━━━━━\u001b[0m \u001b[32m268.8/268.8 kB\u001b[0m \u001b[31m30.4 MB/s\u001b[0m eta \u001b[36m0:00:00\u001b[0m\n",
            "\u001b[?25hCollecting frozenlist>=1.1.1 (from aiohttp->openai)\n",
            "  Downloading frozenlist-1.3.3-cp310-cp310-manylinux_2_5_x86_64.manylinux1_x86_64.manylinux_2_17_x86_64.manylinux2014_x86_64.whl (149 kB)\n",
            "\u001b[2K     \u001b[90m━━━━━━━━━━━━━━━━━━━━━━━━━━━━━━━━━━━━━━\u001b[0m \u001b[32m149.6/149.6 kB\u001b[0m \u001b[31m19.9 MB/s\u001b[0m eta \u001b[36m0:00:00\u001b[0m\n",
            "\u001b[?25hCollecting aiosignal>=1.1.2 (from aiohttp->openai)\n",
            "  Downloading aiosignal-1.3.1-py3-none-any.whl (7.6 kB)\n",
            "Installing collected packages: multidict, frozenlist, async-timeout, yarl, aiosignal, aiohttp, openai\n",
            "Successfully installed aiohttp-3.8.4 aiosignal-1.3.1 async-timeout-4.0.2 frozenlist-1.3.3 multidict-6.0.4 openai-0.27.8 yarl-1.9.2\n",
            "Looking in indexes: https://pypi.org/simple, https://us-python.pkg.dev/colab-wheels/public/simple/\n",
            "Requirement already satisfied: pip in /usr/local/lib/python3.10/dist-packages (23.1.2)\n",
            "Collecting install\n",
            "  Downloading install-1.3.5-py3-none-any.whl (3.2 kB)\n",
            "Collecting python-dotenv\n",
            "  Downloading python_dotenv-1.0.0-py3-none-any.whl (19 kB)\n",
            "Installing collected packages: python-dotenv, install\n",
            "Successfully installed install-1.3.5 python-dotenv-1.0.0\n"
          ]
        }
      ]
    },
    {
      "cell_type": "code",
      "source": [
        "import openai\n",
        "import os\n",
        "\n",
        "from dotenv import load_dotenv, find_dotenv\n",
        "_ = load_dotenv(find_dotenv())\n",
        "openai.api_key  = <API_KEY>"
      ],
      "metadata": {
        "id": "MxPRMtgPtstF"
      },
      "execution_count": null,
      "outputs": []
    },
    {
      "cell_type": "code",
      "source": [
        "def get_completion(prompt, model=\"gpt-3.5-turbo\"):\n",
        "    messages = [{\"role\": \"user\", \"content\": prompt}]\n",
        "    response = openai.ChatCompletion.create(\n",
        "        model=model,\n",
        "        messages=messages,\n",
        "        temperature=0, # this is the degree of randomness of the model's output\n",
        "    )\n",
        "    return response.choices[0].message[\"content\"]"
      ],
      "metadata": {
        "id": "ByApsYnOEjtN"
      },
      "execution_count": null,
      "outputs": []
    },
    {
      "cell_type": "markdown",
      "source": [
        "## Готовим данные\n",
        "Нужно вручную собрать по 10-30 примеров каждой из групп для промптов"
      ],
      "metadata": {
        "id": "trNtHNZeyAkl"
      }
    },
    {
      "cell_type": "markdown",
      "source": [
        "Решено выделить семь групп сущностей:\n",
        "\n",
        "```\n",
        "NEW - neologisms\n",
        "ORG - organisations, companies, apps\n",
        "SLN - slang\n",
        "NORM - normal (dictionary) words\n",
        "ERR - misspelled words\n",
        "PER - people, surnames\n",
        "GEO - geopolitical entities\n",
        "```\n",
        "\n"
      ],
      "metadata": {
        "id": "3-BjP8Kvr85S"
      }
    },
    {
      "cell_type": "code",
      "source": [
        "import pandas as pd\n",
        "examples = pd.read_csv(\"/content/drive/MyDrive/NLP_spring2023/Examples_for_prompt.txt\", encoding='utf-8', sep='\\t')\n",
        "examples"
      ],
      "metadata": {
        "colab": {
          "base_uri": "https://localhost:8080/",
          "height": 424
        },
        "id": "Uob4iV9fLc8P",
        "outputId": "81ab9689-7b98-41d6-83ec-e306affd8705"
      },
      "execution_count": null,
      "outputs": [
        {
          "output_type": "execute_result",
          "data": {
            "text/plain": [
              "              word  tag\n",
              "0           блеваь  ERR\n",
              "1           асроиь  ERR\n",
              "2       предсталяю  ERR\n",
              "3      коньюнктуру  ERR\n",
              "4        атмосфэра  ERR\n",
              "..             ...  ...\n",
              "119        тамбове  GPE\n",
              "120          уктус  GPE\n",
              "121         шарташ  GPE\n",
              "122  стенфордского  GPE\n",
              "123        ростову  GPE\n",
              "\n",
              "[124 rows x 2 columns]"
            ],
            "text/html": [
              "\n",
              "  <div id=\"df-5955bf54-cfef-4611-97e0-ba41692f22bd\">\n",
              "    <div class=\"colab-df-container\">\n",
              "      <div>\n",
              "<style scoped>\n",
              "    .dataframe tbody tr th:only-of-type {\n",
              "        vertical-align: middle;\n",
              "    }\n",
              "\n",
              "    .dataframe tbody tr th {\n",
              "        vertical-align: top;\n",
              "    }\n",
              "\n",
              "    .dataframe thead th {\n",
              "        text-align: right;\n",
              "    }\n",
              "</style>\n",
              "<table border=\"1\" class=\"dataframe\">\n",
              "  <thead>\n",
              "    <tr style=\"text-align: right;\">\n",
              "      <th></th>\n",
              "      <th>word</th>\n",
              "      <th>tag</th>\n",
              "    </tr>\n",
              "  </thead>\n",
              "  <tbody>\n",
              "    <tr>\n",
              "      <th>0</th>\n",
              "      <td>блеваь</td>\n",
              "      <td>ERR</td>\n",
              "    </tr>\n",
              "    <tr>\n",
              "      <th>1</th>\n",
              "      <td>асроиь</td>\n",
              "      <td>ERR</td>\n",
              "    </tr>\n",
              "    <tr>\n",
              "      <th>2</th>\n",
              "      <td>предсталяю</td>\n",
              "      <td>ERR</td>\n",
              "    </tr>\n",
              "    <tr>\n",
              "      <th>3</th>\n",
              "      <td>коньюнктуру</td>\n",
              "      <td>ERR</td>\n",
              "    </tr>\n",
              "    <tr>\n",
              "      <th>4</th>\n",
              "      <td>атмосфэра</td>\n",
              "      <td>ERR</td>\n",
              "    </tr>\n",
              "    <tr>\n",
              "      <th>...</th>\n",
              "      <td>...</td>\n",
              "      <td>...</td>\n",
              "    </tr>\n",
              "    <tr>\n",
              "      <th>119</th>\n",
              "      <td>тамбове</td>\n",
              "      <td>GPE</td>\n",
              "    </tr>\n",
              "    <tr>\n",
              "      <th>120</th>\n",
              "      <td>уктус</td>\n",
              "      <td>GPE</td>\n",
              "    </tr>\n",
              "    <tr>\n",
              "      <th>121</th>\n",
              "      <td>шарташ</td>\n",
              "      <td>GPE</td>\n",
              "    </tr>\n",
              "    <tr>\n",
              "      <th>122</th>\n",
              "      <td>стенфордского</td>\n",
              "      <td>GPE</td>\n",
              "    </tr>\n",
              "    <tr>\n",
              "      <th>123</th>\n",
              "      <td>ростову</td>\n",
              "      <td>GPE</td>\n",
              "    </tr>\n",
              "  </tbody>\n",
              "</table>\n",
              "<p>124 rows × 2 columns</p>\n",
              "</div>\n",
              "      <button class=\"colab-df-convert\" onclick=\"convertToInteractive('df-5955bf54-cfef-4611-97e0-ba41692f22bd')\"\n",
              "              title=\"Convert this dataframe to an interactive table.\"\n",
              "              style=\"display:none;\">\n",
              "        \n",
              "  <svg xmlns=\"http://www.w3.org/2000/svg\" height=\"24px\"viewBox=\"0 0 24 24\"\n",
              "       width=\"24px\">\n",
              "    <path d=\"M0 0h24v24H0V0z\" fill=\"none\"/>\n",
              "    <path d=\"M18.56 5.44l.94 2.06.94-2.06 2.06-.94-2.06-.94-.94-2.06-.94 2.06-2.06.94zm-11 1L8.5 8.5l.94-2.06 2.06-.94-2.06-.94L8.5 2.5l-.94 2.06-2.06.94zm10 10l.94 2.06.94-2.06 2.06-.94-2.06-.94-.94-2.06-.94 2.06-2.06.94z\"/><path d=\"M17.41 7.96l-1.37-1.37c-.4-.4-.92-.59-1.43-.59-.52 0-1.04.2-1.43.59L10.3 9.45l-7.72 7.72c-.78.78-.78 2.05 0 2.83L4 21.41c.39.39.9.59 1.41.59.51 0 1.02-.2 1.41-.59l7.78-7.78 2.81-2.81c.8-.78.8-2.07 0-2.86zM5.41 20L4 18.59l7.72-7.72 1.47 1.35L5.41 20z\"/>\n",
              "  </svg>\n",
              "      </button>\n",
              "      \n",
              "  <style>\n",
              "    .colab-df-container {\n",
              "      display:flex;\n",
              "      flex-wrap:wrap;\n",
              "      gap: 12px;\n",
              "    }\n",
              "\n",
              "    .colab-df-convert {\n",
              "      background-color: #E8F0FE;\n",
              "      border: none;\n",
              "      border-radius: 50%;\n",
              "      cursor: pointer;\n",
              "      display: none;\n",
              "      fill: #1967D2;\n",
              "      height: 32px;\n",
              "      padding: 0 0 0 0;\n",
              "      width: 32px;\n",
              "    }\n",
              "\n",
              "    .colab-df-convert:hover {\n",
              "      background-color: #E2EBFA;\n",
              "      box-shadow: 0px 1px 2px rgba(60, 64, 67, 0.3), 0px 1px 3px 1px rgba(60, 64, 67, 0.15);\n",
              "      fill: #174EA6;\n",
              "    }\n",
              "\n",
              "    [theme=dark] .colab-df-convert {\n",
              "      background-color: #3B4455;\n",
              "      fill: #D2E3FC;\n",
              "    }\n",
              "\n",
              "    [theme=dark] .colab-df-convert:hover {\n",
              "      background-color: #434B5C;\n",
              "      box-shadow: 0px 1px 3px 1px rgba(0, 0, 0, 0.15);\n",
              "      filter: drop-shadow(0px 1px 2px rgba(0, 0, 0, 0.3));\n",
              "      fill: #FFFFFF;\n",
              "    }\n",
              "  </style>\n",
              "\n",
              "      <script>\n",
              "        const buttonEl =\n",
              "          document.querySelector('#df-5955bf54-cfef-4611-97e0-ba41692f22bd button.colab-df-convert');\n",
              "        buttonEl.style.display =\n",
              "          google.colab.kernel.accessAllowed ? 'block' : 'none';\n",
              "\n",
              "        async function convertToInteractive(key) {\n",
              "          const element = document.querySelector('#df-5955bf54-cfef-4611-97e0-ba41692f22bd');\n",
              "          const dataTable =\n",
              "            await google.colab.kernel.invokeFunction('convertToInteractive',\n",
              "                                                     [key], {});\n",
              "          if (!dataTable) return;\n",
              "\n",
              "          const docLinkHtml = 'Like what you see? Visit the ' +\n",
              "            '<a target=\"_blank\" href=https://colab.research.google.com/notebooks/data_table.ipynb>data table notebook</a>'\n",
              "            + ' to learn more about interactive tables.';\n",
              "          element.innerHTML = '';\n",
              "          dataTable['output_type'] = 'display_data';\n",
              "          await google.colab.output.renderOutput(dataTable, element);\n",
              "          const docLink = document.createElement('div');\n",
              "          docLink.innerHTML = docLinkHtml;\n",
              "          element.appendChild(docLink);\n",
              "        }\n",
              "      </script>\n",
              "    </div>\n",
              "  </div>\n",
              "  "
            ]
          },
          "metadata": {},
          "execution_count": 4
        }
      ]
    },
    {
      "cell_type": "code",
      "source": [
        "errors = list(examples.loc[examples['tag'] == 'ERR']['word'])[:7]\n",
        "print(*errors, sep=', ')"
      ],
      "metadata": {
        "colab": {
          "base_uri": "https://localhost:8080/"
        },
        "id": "brisepb-iE7M",
        "outputId": "552ee60b-acd7-4b89-820f-9162067645d4"
      },
      "execution_count": null,
      "outputs": [
        {
          "output_type": "stream",
          "name": "stdout",
          "text": [
            "блеваь, асроиь, предсталяю, коньюнктуру, атмосфэра, комерческий, обязаа\n"
          ]
        }
      ]
    },
    {
      "cell_type": "code",
      "source": [
        "neologisms = list(examples.loc[examples['tag'] == 'NEW']['word'])[:7]\n",
        "slang = list(examples.loc[examples['tag'] == 'SLN']['word'])[:7]\n",
        "person_names = list(examples.loc[examples['tag'] == 'PER']['word'])[:7]\n",
        "companies = list(examples.loc[examples['tag'] == 'ORG']['word'])[:7]\n",
        "normal_words = list(examples.loc[examples['tag'] == 'NORM']['word'])[:7]\n",
        "geo = list(examples.loc[examples['tag'] == 'GPE']['word'])[:7]"
      ],
      "metadata": {
        "id": "d2Fz37ktXMNG"
      },
      "execution_count": null,
      "outputs": []
    },
    {
      "cell_type": "code",
      "source": [
        "normal_words"
      ],
      "metadata": {
        "colab": {
          "base_uri": "https://localhost:8080/"
        },
        "id": "hwoKj0gjMbjr",
        "outputId": "25ad76da-27ed-4932-e0f6-76fddd3b18cb"
      },
      "execution_count": null,
      "outputs": [
        {
          "output_type": "execute_result",
          "data": {
            "text/plain": [
              "['брюнетка',\n",
              " 'будильники',\n",
              " 'бульоном',\n",
              " 'заглядывали',\n",
              " 'загнивающий',\n",
              " 'кондитерские',\n",
              " 'ною']"
            ]
          },
          "metadata": {},
          "execution_count": 7
        }
      ]
    },
    {
      "cell_type": "code",
      "source": [
        "# a fragment of the set of all words to label\n",
        "import random\n",
        "\n",
        "test_data = []\n",
        "with open (\"/content/drive/MyDrive/NLP_spring2023/test_data.txt\", encoding='utf-8') as file:\n",
        "  for line in file:\n",
        "      test_data.append(line.strip('\\n'))\n",
        "random.shuffle(test_data)\n",
        "print(len(test_data), test_data[:10], sep='\\n')"
      ],
      "metadata": {
        "colab": {
          "base_uri": "https://localhost:8080/"
        },
        "id": "qEfTeWGXYn_P",
        "outputId": "dc27bb28-a74b-4780-a2b6-e3a12b662e55"
      },
      "execution_count": null,
      "outputs": [
        {
          "output_type": "stream",
          "name": "stdout",
          "text": [
            "10000\n",
            "['прилюдии', 'анальнят', 'сэкаритис', 'полыхнул', 'абмакина', 'клевикова', 'шавернев', 'дучева', 'лемесов', 'кум']\n"
          ]
        }
      ]
    },
    {
      "cell_type": "code",
      "source": [
        "groups_specifications = f\"\"\"Groups description, examples and tag:\n",
        "1. Neologisms, occasional words, ```{neologisms}```, NEW\n",
        "2. Organisations, companies, apps, ```{companies}```, ORG\n",
        "3. Slang and swear words, ```{slang}```, SLN\n",
        "4. Normal correct words, ```{normal_words}```, NORM\n",
        "5. Misspelled, incorrect words, ```{errors}```, ERR\n",
        "6. Surnames, ```{person_names}```, PER\n",
        "7. Cities and countries, ```{geo}```, GEO\"\"\""
      ],
      "metadata": {
        "id": "ZmFllOZp4wcC"
      },
      "execution_count": null,
      "outputs": []
    },
    {
      "cell_type": "markdown",
      "source": [
        "### Промпты 1"
      ],
      "metadata": {
        "id": "VCxDSgBIDtRR"
      }
    },
    {
      "cell_type": "code",
      "source": [
        "prompt = f\"\"\"\n",
        "Your task is to determine which NER group  Russian word should be and label the\n",
        "word with the group tag.\n",
        "\n",
        "Do the classificasion based on ```{groups_specifications}```\n",
        "The list of Russian words to label: ```{test}```\n",
        "\"\"\"\n",
        "response = get_completion(prompt)\n",
        "print(response)"
      ],
      "metadata": {
        "colab": {
          "base_uri": "https://localhost:8080/"
        },
        "id": "_H8oYbVxEk29",
        "outputId": "23b3e75e-00c7-4e0f-ee1a-3966d16b335d"
      },
      "execution_count": null,
      "outputs": [
        {
          "output_type": "stream",
          "name": "stdout",
          "text": [
            "дурнайкин - PER\n",
            "шаришься - SLN\n",
            "утепков - PER\n",
            "антифрод-системе - ORG\n",
            "апосталова - PER\n",
            "борзелков - PER\n",
            "каналюги - PER\n",
            "кабанцов - PER\n",
            "руснова - PER\n",
            "приучивают - NORM\n",
            "мамулов - PER\n",
            "цыгвинцев - PER\n",
            "сигуткин - PER\n",
            "ебаного - SLN\n",
            "йопте - SLN\n",
            "нахимин - PER\n",
            "доконца - NORM\n",
            "фотай - NORM\n",
            "настояшие - NORM\n",
            "кракозяброй - ERR\n",
            "плвать - ERR\n",
            "айти-компаний - ORG\n",
            "эффекивноси - ERR\n",
            "шлипаков - PER\n",
            "будетвы - NORM\n",
            "рогелева - PER\n",
            "малинычев - PER\n",
            "зулина - PER\n",
            "ехнологий - NORM\n",
            "класики - NORM\n",
            "эйденом - PER\n",
            "уёбываться - SLN\n",
            "моисейкин - PER\n",
            "фазульянов - PER\n",
            "пристройством - NORM\n",
            "мацилецкая - PER\n",
            "балко - PER\n",
            "шапулин - PER\n",
            "шашлык-машлык - NORM\n",
            "баракеев - PER\n",
            "спижжены - SLN\n",
            "фелодипин - NORM\n",
            "аляуданова - PER\n",
            "коласкова - PER\n",
            "мтодами - ERR\n",
            "постящий - NORM\n",
            "блекберри - NORM\n",
            "шакалистый - SLN\n",
            "сувирова - PER\n",
            "цигин - PER\n",
            "оркской - GEO\n",
            "месам - NORM\n",
            "литвицкая - PER\n",
            "андрова - PER\n",
            "долбоёбства - SLN\n",
            "сагалин - GEO\n",
            "рализацию - NORM\n",
            "попо - SLN\n",
            "гипрок - NORM\n",
            "тожероссиянами - NORM\n",
            "вчера-позавчера - NORM\n",
            "аренки - NORM\n",
            "доебывал - SLN\n",
            "успли - ERR\n",
            "санкционных - NORM\n",
            "интернетов - NORM\n",
            "шибершина - PER\n",
            "милоков - PER\n",
            "вск-линия - ORG\n",
            "фактоидов - NORM\n",
            "резуьтат - ERR\n",
            "кортовский - PER\n",
            "абайтов - PER\n",
            "петропавловске-камчатском - GEO\n",
            "триггернули - NORM\n",
            "браузерка - NORM\n",
            "подъебнул - SLN\n",
            "осечкин - PER\n",
            "срэм - SLN\n",
            "электрончики - NORM\n",
            "мудлом - SLN\n",
            "альтин - PER\n",
            "бордисты - NORM\n",
            "восьи - ERR\n",
            "сначаа - ERR\n",
            "обертова - PER\n",
            "харичкина - PER\n",
            "левшунова - PER\n",
            "перышкину - PER\n",
            "шмыкалова - PER\n",
            "разваливаеся - SLN\n",
            "межсумова - PER\n",
            "поотваливались - SLN\n",
            "акелла - NORM\n",
            "тиммейтам - NORM\n",
            "суперски - SLN\n",
            "амбарнов - PER\n",
            "спиздите - SLN\n",
            "песе - SLN\n",
            "пяки - PER\n"
          ]
        }
      ]
    },
    {
      "cell_type": "code",
      "source": [
        "prompt = f\"\"\"\n",
        "Your task is to determine which NER group  Russian word should be and label the\n",
        "word with the group tag.\n",
        "\n",
        "Do the classificasion based on ```{groups_specifications}```\n",
        "The list of Russian words to label: ```{test}```\n",
        "\n",
        "Put them to ```{result}```, key=word, value = tag\n",
        "\"\"\"\n",
        "response = get_completion(prompt)\n",
        "print(response)"
      ],
      "metadata": {
        "colab": {
          "base_uri": "https://localhost:8080/"
        },
        "id": "FYhPwi3v67H1",
        "outputId": "f93c186e-5636-4100-9dda-58ea6e2088e6"
      },
      "execution_count": null,
      "outputs": [
        {
          "output_type": "stream",
          "name": "stdout",
          "text": [
            "{\n",
            "    'дурнайкин': 'PER',\n",
            "    'шаришься': 'SLN',\n",
            "    'утепков': 'PER',\n",
            "    'антифрод-системе': 'ORG',\n",
            "    'апосталова': 'PER',\n",
            "    'борзелков': 'PER',\n",
            "    'каналюги': 'PER',\n",
            "    'кабанцов': 'PER',\n",
            "    'руснова': 'PER',\n",
            "    'приучивают': 'NORM',\n",
            "    'мамулов': 'PER',\n",
            "    'цыгвинцев': 'PER',\n",
            "    'сигуткин': 'PER',\n",
            "    'ебаного': 'SLN',\n",
            "    'йопте': 'SLN',\n",
            "    'нахимин': 'PER',\n",
            "    'доконца': 'NORM',\n",
            "    'фотай': 'NORM',\n",
            "    'настояшие': 'NORM',\n",
            "    'кракозяброй': 'ERR',\n",
            "    'плвать': 'ERR',\n",
            "    'айти-компаний': 'ORG',\n",
            "    'эффекивноси': 'ERR',\n",
            "    'шлипаков': 'PER',\n",
            "    'будетвы': 'NORM',\n",
            "    'рогелева': 'PER',\n",
            "    'малинычев': 'PER',\n",
            "    'зулина': 'PER',\n",
            "    'ехнологий': 'ERR',\n",
            "    'класики': 'NORM',\n",
            "    'эйденом': 'PER',\n",
            "    'уёбываться': 'SLN',\n",
            "    'моисейкин': 'PER',\n",
            "    'фазульянов': 'PER',\n",
            "    'пристройством': 'NORM',\n",
            "    'мацилецкая': 'PER',\n",
            "    'балко': 'NORM',\n",
            "    'шапулин': 'PER',\n",
            "    'шашлык-машлык': 'NORM',\n",
            "    'баракеев': 'PER',\n",
            "    'спижжены': 'SLN',\n",
            "    'фелодипин': 'NORM',\n",
            "    'аляуданова': 'PER',\n",
            "    'коласкова': 'PER',\n",
            "    'мтодами': 'ERR',\n",
            "    'постящий': 'NORM',\n",
            "    'блекберри': 'NORM',\n",
            "    'шакалистый': 'SLN',\n",
            "    'сувирова': 'PER',\n",
            "    'цигин': 'PER',\n",
            "    'оркской': 'GEO',\n",
            "    'месам': 'NORM',\n",
            "    'литвицкая': 'PER',\n",
            "    'андрова': 'PER',\n",
            "    'долбоёбства': 'SLN',\n",
            "    'сагалин': 'GEO',\n",
            "    'рализацию': 'NORM',\n",
            "    'попо': 'SLN',\n",
            "    'гипрок': 'ORG',\n",
            "    'тожероссиянами': 'NORM',\n",
            "    'вчера-позавчера': 'NORM',\n",
            "    'аренки': 'NORM',\n",
            "    'доебывал': 'SLN',\n",
            "    'успли': 'NORM',\n",
            "    'санкционных': 'NORM',\n",
            "    'интернетов': 'NORM',\n",
            "    'шибершина': 'PER',\n",
            "    'милоков': 'PER',\n",
            "    'вск-линия': 'ORG',\n",
            "    'фактоидов': 'NORM',\n",
            "    'резуьтат': 'ERR',\n",
            "    'кортовский': 'PER',\n",
            "    'абайтов': 'PER',\n",
            "    'петропавловске-камчатском': 'GEO',\n",
            "    'триггернули': 'NORM',\n",
            "    'браузерка': 'NORM',\n",
            "    'подъебнул': 'SLN',\n",
            "    'осечкин': 'PER',\n",
            "    'срэм': 'NORM',\n",
            "    'электрончики': 'NORM',\n",
            "    'мудлом': 'NORM',\n",
            "    'альтин': 'PER',\n",
            "    'бордисты': 'NORM',\n",
            "    'восьи': 'NORM',\n",
            "    'сначаа': 'ERR',\n",
            "    'обертова': 'PER',\n",
            "    'харичкина': 'PER',\n",
            "    'левшунова': 'PER',\n",
            "    'перышкину': 'PER',\n",
            "    'шмыкалова': 'PER',\n",
            "    'разваливаеся': 'NORM',\n",
            "    'межсумова': 'PER',\n",
            "    'поотваливались': 'NORM',\n",
            "    'акелла': 'PER',\n",
            "    'тиммейтам': 'NORM',\n",
            "    'суперски': 'SLN',\n",
            "    'амбарнов': 'PER',\n",
            "    'спиздите': 'SLN',\n",
            "    'песе': 'NORM',\n",
            "    'пяки': 'NORM'\n",
            "}\n"
          ]
        }
      ]
    },
    {
      "cell_type": "code",
      "source": [
        "result = response\n",
        "type(result)"
      ],
      "metadata": {
        "colab": {
          "base_uri": "https://localhost:8080/"
        },
        "id": "YwNBQ7sF8ws3",
        "outputId": "6f753461-7e82-44eb-f54c-85d90c6afeab"
      },
      "execution_count": null,
      "outputs": [
        {
          "output_type": "execute_result",
          "data": {
            "text/plain": [
              "str"
            ]
          },
          "metadata": {},
          "execution_count": 58
        }
      ]
    },
    {
      "cell_type": "code",
      "source": [
        "prompt = f\"\"\"\n",
        "Your task is to determine which NER group  Russian word should be and label the\n",
        "word with the group tag.\n",
        "\n",
        "Do the classificasion based on ```{groups_specifications}```\n",
        "The list of Russian words to label: ```{test}```\n",
        "\n",
        "Provide them in JSON format with the following keys: word, entity\n",
        "\"\"\"\n",
        "response = get_completion(prompt)\n",
        "print(response)"
      ],
      "metadata": {
        "colab": {
          "base_uri": "https://localhost:8080/"
        },
        "id": "SRlwvqDk9GNw",
        "outputId": "fa17a64e-cb1a-498e-92cf-906dcf927209"
      },
      "execution_count": null,
      "outputs": [
        {
          "output_type": "stream",
          "name": "stdout",
          "text": [
            "[\n",
            "  {\"word\": \"банерами\", \"entity\": \"NORM\"},\n",
            "  {\"word\": \"цедрик\", \"entity\": \"NORM\"},\n",
            "  {\"word\": \"знакомст\", \"entity\": \"ERR\"},\n",
            "  {\"word\": \"хуиная\", \"entity\": \"SLN\"},\n",
            "  {\"word\": \"боченкова\", \"entity\": \"PER\"},\n",
            "  {\"word\": \"джизья\", \"entity\": \"NORM\"},\n",
            "  {\"word\": \"сайах\", \"entity\": \"NORM\"},\n",
            "  {\"word\": \"восторгова\", \"entity\": \"PER\"},\n",
            "  {\"word\": \"годинов\", \"entity\": \"NORM\"},\n",
            "  {\"word\": \"ррпк\", \"entity\": \"ORG\"},\n",
            "  {\"word\": \"бойзами\", \"entity\": \"NORM\"},\n",
            "  {\"word\": \"скурпулезно\", \"entity\": \"NORM\"},\n",
            "  {\"word\": \"удака\", \"entity\": \"SLN\"},\n",
            "  {\"word\": \"хогбены\", \"entity\": \"NORM\"},\n",
            "  {\"word\": \"обавки\", \"entity\": \"NORM\"},\n",
            "  {\"word\": \"неканона\", \"entity\": \"NORM\"},\n",
            "  {\"word\": \"пепекин\", \"entity\": \"ERR\"},\n",
            "  {\"word\": \"избуцкая\", \"entity\": \"PER\"},\n",
            "  {\"word\": \"пайбактова\", \"entity\": \"PER\"},\n",
            "  {\"word\": \"законопроек\", \"entity\": \"NORM\"},\n",
            "  {\"word\": \"чулеева\", \"entity\": \"PER\"},\n",
            "  {\"word\": \"гринфилдбанка\", \"entity\": \"ORG\"},\n",
            "  {\"word\": \"сорк\", \"entity\": \"NORM\"},\n",
            "  {\"word\": \"городнева\", \"entity\": \"PER\"},\n",
            "  {\"word\": \"зажопинсках\", \"entity\": \"NORM\"},\n",
            "  {\"word\": \"мандавошку\", \"entity\": \"NORM\"},\n",
            "  {\"word\": \"забыва\", \"entity\": \"NORM\"},\n",
            "  {\"word\": \"мукасеева\", \"entity\": \"PER\"},\n",
            "  {\"word\": \"стрикс\", \"entity\": \"NORM\"},\n",
            "  {\"word\": \"говноа\", \"entity\": \"SLN\"},\n",
            "  {\"word\": \"тыричева\", \"entity\": \"PER\"},\n",
            "  {\"word\": \"червяцов\", \"entity\": \"PER\"},\n",
            "  {\"word\": \"тупежа\", \"entity\": \"NORM\"},\n",
            "  {\"word\": \"кугарова\", \"entity\": \"PER\"},\n",
            "  {\"word\": \"олко\", \"entity\": \"NORM\"},\n",
            "  {\"word\": \"басик\", \"entity\": \"NORM\"},\n",
            "  {\"word\": \"лэндкрузер\", \"entity\": \"NORM\"},\n",
            "  {\"word\": \"мде\", \"entity\": \"SLN\"},\n",
            "  {\"word\": \"нетесина\", \"entity\": \"PER\"},\n",
            "  {\"word\": \"змагарами\", \"entity\": \"NORM\"},\n",
            "  {\"word\": \"бичковская\", \"entity\": \"PER\"},\n",
            "  {\"word\": \"изволинина\", \"entity\": \"PER\"},\n",
            "  {\"word\": \"тепереча\", \"entity\": \"NORM\"},\n",
            "  {\"word\": \"коюшева\", \"entity\": \"PER\"},\n",
            "  {\"word\": \"биотеха\", \"entity\": \"NORM\"},\n",
            "  {\"word\": \"ховинская\", \"entity\": \"PER\"},\n",
            "  {\"word\": \"понторезом\", \"entity\": \"NORM\"},\n",
            "  {\"word\": \"асоскова\", \"entity\": \"PER\"},\n",
            "  {\"word\": \"современых\", \"entity\": \"ERR\"},\n",
            "  {\"word\": \"прихренел\", \"entity\": \"SLN\"},\n",
            "  {\"word\": \"двоешников\", \"entity\": \"NORM\"},\n",
            "  {\"word\": \"амбюшуры\", \"entity\": \"NORM\"},\n",
            "  {\"word\": \"секонд\", \"entity\": \"NORM\"},\n",
            "  {\"word\": \"мукина\", \"entity\": \"PER\"},\n",
            "  {\"word\": \"щеверова\", \"entity\": \"PER\"},\n",
            "  {\"word\": \"суртаев\", \"entity\": \"PER\"},\n",
            "  {\"word\": \"кешбеки\", \"entity\": \"NORM\"},\n",
            "  {\"word\": \"гусских\", \"entity\": \"NORM\"},\n",
            "  {\"word\": \"ьей\", \"entity\": \"NORM\"},\n",
            "  {\"word\": \"трихачева\", \"entity\": \"PER\"},\n",
            "  {\"word\": \"майним\", \"entity\": \"NORM\"},\n",
            "  {\"word\": \"стимовский\", \"entity\": \"PER\"},\n",
            "  {\"word\": \"крысом\", \"entity\": \"SLN\"},\n",
            "  {\"word\": \"понтягин\", \"entity\": \"PER\"},\n",
            "  {\"word\": \"незная\", \"entity\": \"NORM\"},\n",
            "  {\"word\": \"ощные\", \"entity\": \"NORM\"},\n",
            "  {\"word\": \"баруткин\", \"entity\": \"PER\"},\n",
            "  {\"word\": \"вонка\", \"entity\": \"NORM\"},\n",
            "  {\"word\": \"аллика\", \"entity\": \"PER\"},\n",
            "  {\"word\": \"баскина\", \"entity\": \"PER\"},\n",
            "  {\"word\": \"шеткин\", \"entity\": \"PER\"},\n",
            "  {\"word\": \"импакт-фактор\", \"entity\": \"NORM\"},\n",
            "  {\"word\": \"настальгии\", \"entity\": \"NORM\"},\n",
            "  {\"word\": \"сосаго\", \"entity\": \"NORM\"},\n",
            "  {\"word\": \"длинки\", \"entity\": \"NORM\"},\n",
            "  {\"word\": \"располагае\", \"entity\": \"ERR\"},\n",
            "  {\"word\": \"кадамшоева\", \"entity\": \"PER\"},\n",
            "  {\"word\": \"безкультурие\", \"entity\": \"SLN\"},\n",
            "  {\"word\": \"дифавтомат\", \"entity\": \"NORM\"},\n",
            "  {\"word\": \"бахлинова\", \"entity\": \"PER\"},\n",
            "  {\"word\": \"шевенев\", \"entity\": \"PER\"},\n",
            "  {\"word\": \"шмин\", \"entity\": \"PER\"},\n",
            "  {\"word\": \"комладова\", \"entity\": \"PER\"},\n",
            "  {\"word\": \"итресурсов\", \"entity\": \"NORM\"},\n",
            "  {\"word\": \"три-в\", \"entity\": \"NORM\"},\n",
            "  {\"word\": \"генаров\", \"entity\": \"PER\"},\n",
            "  {\"word\": \"сгнобить\", \"entity\": \"SLN\"},\n",
            "  {\"word\": \"шальская\", \"entity\": \"PER\"},\n",
            "  {\"word\": \"прошаренным\", \"entity\": \"NORM\"},\n",
            "  {\"word\": \"пшиканья\", \"entity\": \"NORM\"},\n",
            "  {\"word\": \"накрячат\", \"entity\": \"NORM\"},\n",
            "  {\"word\": \"кривашкина\", \"entity\": \"PER\"},\n",
            "  {\"word\": \"клычев\", \"entity\": \"PER\"},\n",
            "  {\"word\": \"напизди\", \"entity\": \"SLN\"},\n",
            "  {\"word\": \"чайзер\", \"entity\": \"NORM\"},\n",
            "  {\"word\": \"биквин\", \"entity\": \"NORM\"},\n",
            "  {\"word\": \"лядских\", \"entity\": \"NORM\"},\n",
            "  {\"word\": \"чекалкин\", \"entity\": \"PER\"},\n",
            "  {\"word\": \"махренова\", \"entity\": \"PER\"},\n",
            "  {\"word\": \"месенджер\", \"entity\": \"NORM\"}\n",
            "]\n"
          ]
        }
      ]
    },
    {
      "cell_type": "code",
      "source": [
        "prompt = f\"\"\"\n",
        "Your task is to determine which NER group  Russian word should be and label the\n",
        "word with the group tag.\n",
        "\n",
        "Do the classificasion based on ```{groups_specifications}```\n",
        "The list of Russian words to label: ```{test}```\n",
        "\n",
        "Note that misspelled or imposible words like 'говноа' or 'сайах' should be\n",
        "in errors with tag ERR\n",
        "\"\"\"\n",
        "response = get_completion(prompt)\n",
        "print(response)"
      ],
      "metadata": {
        "colab": {
          "base_uri": "https://localhost:8080/"
        },
        "id": "pH7oNwxVDE2z",
        "outputId": "294fe3aa-430b-487e-e70a-ffa29b21b4e3"
      },
      "execution_count": null,
      "outputs": [
        {
          "output_type": "stream",
          "name": "stdout",
          "text": [
            "1. NORM - банерами, годинов, удака, добавки, неканона, пепекин, тупежа, олко, басик, секонд, настальгии, длинки, располагае, дифавтомат, три-в, сгнобить, пшиканья, напизди, биквин, лядских, месенджер\n",
            "2. PER - Боченкова, Чулеева, Городнева, Тыричева, Щеверова, Понтягин, Баскина, Шальская, Махренова\n",
            "3. GEO - Тамбове, Уктус, Шарташ, Ростову\n",
            "4. ORG - Векторстройфинанс, Сбермаркетом, Минкомсвязью, Эхомосквы, Главпродукт, Гринфилдбанка\n",
            "5. NEW - Роадмап, Фактчекинг, Нагенерировать, Карусельки, Укропропаганду\n",
            "6. SLN - Ссыкливые, Пиздострадальцы, Сайэнтифик, Видюхи, Пидр, Хуиная, Говноа, Напизди\n",
            "7. ERR - Цедрик, Знакомст, Джизья, Сайах, Восторгова, Ррпк, Бойзами, Скурпулезно, Хогбены, Законопроек, Изволинина, Зажопинсках, Мандавошку, Забыва, Современых, Прихренел, Двоешников, Амбюшуры, Ьей, Крысом, Незная, Ощные, Вонка, Аллика, Шеткин, Импакт-фактор, Сосаго, Кадамшоева, Безкультурие, Бахлинова, Шевенев, Шмин, Комладова, Итресурсов, Генаров, Накрячат, Кривашкина, Чайзер, Чекалкин.\n"
          ]
        }
      ]
    },
    {
      "cell_type": "code",
      "source": [
        "prompt = f\"\"\"\n",
        "Your task is to determine which NER group  Russian word should be and label the\n",
        "word with the group tag.\n",
        "\n",
        "Do the classificasion based on ```{groups_specifications}```\n",
        "The list of Russian words to label: ```{test}```\n",
        "\n",
        "Note that misspelled or imposible words like 'говноа' or 'сайах' should be\n",
        "in errors with tag ERR.\n",
        "\n",
        "Present results in the list format\n",
        "\"\"\"\n",
        "response = get_completion(prompt)\n",
        "print(response)"
      ],
      "metadata": {
        "colab": {
          "base_uri": "https://localhost:8080/"
        },
        "id": "9NSANTa0EPCD",
        "outputId": "7cd10b0c-4d88-4621-8d27-14aefd3dca5a"
      },
      "execution_count": null,
      "outputs": [
        {
          "output_type": "stream",
          "name": "stdout",
          "text": [
            "['банерами', NORM], ['цедрик', NORM], ['знакомст', NORM], ['хуиная', SLN], ['боченкова', PER], ['джизья', NORM], ['сайах', ERR], ['восторгова', PER], ['годинов', NORM], ['ррпк', ORG], ['бойзами', NORM], ['скурпулезно', NORM], ['удака', NORM], ['хогбены', NORM], ['обавки', NORM], ['неканона', NORM], ['пепекин', GEO], ['избуцкая', GEO], ['пайбактова', PER], ['законопроек', NORM], ['чулеева', PER], ['гринфилдбанка', ORG], ['сорк', NORM], ['городнева', PER], ['зажопинсках', ERR], ['мандавошку', ERR], ['забыва', NORM], ['мукасеева', PER], ['стрикс', NORM], ['говноа', ERR], ['тыричева', PER], ['червяцов', PER], ['тупежа', NORM], ['кугарова', PER], ['олко', NORM], ['басик', NORM], ['лэндкрузер', NORM], ['мде', SLN], ['нетесина', PER], ['змагарами', NORM], ['бичковская', PER], ['изволинина', PER], ['тепереча', GEO], ['коюшева', PER], ['биотеха', NORM], ['ховинская', GEO], ['понторезом', NORM], ['асоскова', PER], ['современых', ERR], ['прихренел', SLN], ['двоешников', NORM], ['амбюшуры', NORM], ['секонд', NORM], ['мукина', PER], ['щеверова', PER], ['суртаев', PER], ['кешбеки', NORM], ['гусских', GEO], ['ьей', ERR], ['трихачева', PER], ['майним', NORM], ['стимовский', PER], ['крысом', NORM], ['понтягин', PER], ['незная', NORM], ['ощные', NORM], ['баруткин', PER], ['вонка', NORM], ['аллика', PER], ['баскина', PER], ['шеткин', PER], ['импакт-фактор', NORM], ['настальгии', NORM], ['сосаго', ERR], ['длинки', NORM], ['располагае', ERR], ['кадамшоева', PER], ['безкультурие', SLN], ['дифавтомат', NORM], ['бахлинова', PER], ['шевенев', PER], ['шмин', PER], ['комладова', PER], ['итресурсов', NORM], ['три-в', NORM], ['генаров', PER], ['сгнобить', NORM], ['шальская', PER], ['прошаренным', NORM], ['пшиканья', NORM], ['накрячат', NORM], ['кривашкина', PER], ['клычев', PER], ['напизди', SLN], ['чайзер', NORM], ['биквин', NORM], ['лядских', PER], ['чекалкин', PER], ['махренова', PER], ['месенджер', NORM]]\n"
          ]
        }
      ]
    },
    {
      "cell_type": "code",
      "source": [
        "type(response)"
      ],
      "metadata": {
        "colab": {
          "base_uri": "https://localhost:8080/"
        },
        "id": "PBFquEMAE88r",
        "outputId": "d21a7efc-a2c2-432d-af80-f88ff8925241"
      },
      "execution_count": null,
      "outputs": [
        {
          "output_type": "execute_result",
          "data": {
            "text/plain": [
              "str"
            ]
          },
          "metadata": {},
          "execution_count": 69
        }
      ]
    },
    {
      "cell_type": "markdown",
      "source": [
        "'знакомст', NORM"
      ],
      "metadata": {
        "id": "5aGvvGJbxzo1"
      }
    },
    {
      "cell_type": "markdown",
      "source": [
        "### Промпты 2"
      ],
      "metadata": {
        "id": "2FolCG53v499"
      }
    },
    {
      "cell_type": "code",
      "source": [
        "prompt = f\"\"\"\n",
        "Your task is to determine which NER group  Russian word should be and label the\n",
        "word with the group tag.\n",
        "\n",
        "Do the classificasion based on ```{groups_specifications}```\n",
        "The list of Russian words to label: ```{test}```\n",
        "\n",
        "Note that misspelled or imposible words like 'говноа' or 'сайах' should be\n",
        "in errors with tag ERR,\n",
        "\n",
        "Present results in csv format\n",
        "\"\"\"\n",
        "response = get_completion(prompt)\n",
        "print(response)"
      ],
      "metadata": {
        "colab": {
          "base_uri": "https://localhost:8080/"
        },
        "id": "1W50hAaiv0QB",
        "outputId": "765bc6bd-44fd-482f-c174-7f50b28637f3"
      },
      "execution_count": null,
      "outputs": [
        {
          "output_type": "stream",
          "name": "stdout",
          "text": [
            "кундозеров, PER\n",
            "вредоноса, NORM\n",
            "нечяева, PER\n",
            "менячкин, PER\n",
            "хикку, NEW\n",
            "стонякина, PER\n",
            "бались, NORM\n",
            "отарбиев, PER\n",
            "кумер, NORM\n",
            "зафейлилась, NEW\n",
            "талмачева, PER\n",
            "бармоткин, PER\n",
            "сусляева, PER\n",
            "сунгатулин, PER\n",
            "корешева, PER\n",
            "ельфимова, PER\n",
            "беберина, PER\n",
            "тулпечкина, PER\n",
            "ит-специалисты, ORG\n",
            "нэвэльного, NEW\n",
            "янчуркина, PER\n",
            "мяснянкин, PER\n",
            "шляпнуков, PER\n",
            "маж, NORM\n",
            "отшельниченко, PER\n",
            "ведомоство, ORG\n",
            "литышев, PER\n",
            "выпускае, ERR\n",
            "раекории, NORM\n",
            "кураколов, PER\n",
            "трансгендерных, NEW\n",
            "нигерши, SLN\n",
            "масленный, NORM\n",
            "рибанова, PER\n",
            "спотифае, ORG\n",
            "борачев, PER\n",
            "балева, PER\n",
            "трощина, NORM\n",
            "сеньером, PER\n",
            "толобанова, PER\n",
            "рейвенора, PER\n",
            "триллиард, NEW\n",
            "болтачев, PER\n",
            "мемяца, NORM\n",
            "жд, NORM\n",
            "разроднова, PER\n",
            "шулыгин, PER\n",
            "мудорисова, PER\n",
            "милипиздрической, SLN\n",
            "никогла, ERR\n",
            "кск, ORG\n",
            "випрвпн, NEW\n",
            "ослопова, PER\n",
            "трамантина, PER\n",
            "молинова, PER\n",
            "катинов, PER\n",
            "оч-чень, NEW\n",
            "неиллюзорно, NORM\n",
            "писюша, SLN\n",
            "валодя, PER\n",
            "пациорина, PER\n",
            "макдакам, ORG\n",
            "иина, PER\n",
            "волотеева, PER\n",
            "мусарне, NORM\n",
            "филюткин, PER\n",
            "чамакова, PER\n",
            "утяткина, PER\n",
            "медпред, ORG\n",
            "голодалов, PER\n",
            "чигиркин, PER\n",
            "стативкина, PER\n",
            "бибашова, PER\n",
            "джелялов, PER\n",
            "подевятов, PER\n",
            "долбанулись, SLN\n",
            "ансибл, ORG\n",
            "бчб-флага, ORG\n",
            "сарапова, PER\n",
            "ушатывает, SLN\n",
            "весельцов, PER\n",
            "равительства, ORG\n",
            "дяшлева, PER\n",
            "брядихин, PER\n",
            "кашминский, PER\n",
            "клеванова, PER\n",
            "дрищом, SLN\n",
            "кошакина, PER\n",
            "бунтилов, PER\n",
            "дороговасто, NEW\n",
            "пидут, SLN\n",
            "страновой, NORM\n",
            "кремова, PER\n",
            "георгьевич, PER\n",
            "микуцкий, PER\n",
            "кистерев, PER\n",
            "зурапов, PER\n",
            "включае, ERR\n",
            "полуает, ERR\n",
            "мизрапов, PER\n",
            "\n",
            "Results in csv format:\n",
            "кундозеров,PER\n",
            "вредоноса,NORM\n",
            "нечяева,PER\n",
            "менячкин,PER\n",
            "хикку,NEW\n",
            "стонякина,PER\n",
            "бались,NORM\n",
            "отарбиев,PER\n",
            "кумер,NORM\n",
            "зафейлилась,NEW\n",
            "талмачева,PER\n",
            "бармоткин,PER\n",
            "сусляева,PER\n",
            "сунгатулин,PER\n",
            "корешева,PER\n",
            "ельфимова,PER\n",
            "беберина,PER\n",
            "тулпечкина,PER\n",
            "ит-специалисты,ORG\n",
            "нэвэльного,NEW\n",
            "янчуркина,PER\n",
            "мяснянкин,PER\n",
            "шляпнуков,PER\n",
            "маж,NORM\n",
            "отшельниченко,PER\n",
            "ведомоство,ORG\n",
            "литышев,PER\n",
            "выпускае,ERR\n",
            "раекории,NORM\n",
            "кураколов,PER\n",
            "трансгендерных,NEW\n",
            "нигерши,SLN\n",
            "масленный,NORM\n",
            "рибанова,PER\n",
            "спотифае,ORG\n",
            "борачев,PER\n",
            "балева,PER\n",
            "трощина,NORM\n",
            "сеньером,PER\n",
            "толобанова,PER\n",
            "рейвенора,PER\n",
            "триллиард,NEW\n",
            "болтачев,PER\n",
            "мемяца,NORM\n",
            "жд,NORM\n",
            "разроднова,PER\n",
            "шулыгин,PER\n",
            "мудорисова,PER\n",
            "милипиздрической,SLN\n",
            "никогла,ERR\n",
            "кск,ORG\n",
            "випрвпн,NEW\n",
            "ослопова,PER\n",
            "трамантина,PER\n",
            "молинова,PER\n",
            "катинов,PER\n",
            "оч-чень,NEW\n",
            "неиллюзорно,NORM\n",
            "писюша,SLN\n",
            "валодя,PER\n",
            "пациорина,PER\n",
            "макдакам,ORG\n",
            "иина,PER\n",
            "волотеева,PER\n",
            "мусарне,NORM\n",
            "филюткин,PER\n",
            "чамакова,PER\n",
            "утяткина,PER\n",
            "медпред,ORG\n",
            "голодалов,PER\n",
            "чигиркин,PER\n",
            "стативкина,PER\n",
            "бибашова,PER\n",
            "джелялов,PER\n",
            "подевятов,PER\n",
            "долбанулись,SLN\n",
            "ансибл,ORG\n",
            "бчб-флага,ORG\n",
            "сарапова,PER\n",
            "ушатывает,SLN\n",
            "весельцов,PER\n",
            "равительства,ORG\n",
            "дяшлева,PER\n",
            "брядихин,PER\n",
            "кашминский,PER\n",
            "клеванова,PER\n",
            "дрищом,SLN\n",
            "кошакина,PER\n",
            "бунтилов,PER\n",
            "дороговасто,NEW\n",
            "пидут,SLN\n",
            "страновой,NORM\n",
            "кремова,PER\n",
            "георгьевич,PER\n",
            "микуцкий,PER\n",
            "кистерев,PER\n",
            "зурапов,PER\n",
            "включае,ERR\n",
            "полуает,ERR\n",
            "мизрапов,PER\n"
          ]
        }
      ]
    },
    {
      "cell_type": "code",
      "source": [
        "with open('new_text.txt', 'w') as file:\n",
        "    file.write(response)"
      ],
      "metadata": {
        "id": "w-ybcOt5yioO"
      },
      "execution_count": null,
      "outputs": []
    },
    {
      "cell_type": "code",
      "source": [
        "prompt = f\"\"\"Why have you decided that хикку,NEW\n",
        "пидут,SLN\n",
        "ведомоство,ORG\"\"\"\n",
        "response = get_completion(prompt)\n",
        "print(response)"
      ],
      "metadata": {
        "colab": {
          "base_uri": "https://localhost:8080/"
        },
        "id": "QfCGL0H5xe3N",
        "outputId": "59dcfe65-90ec-43a8-b2c2-65732d65ba52"
      },
      "execution_count": null,
      "outputs": [
        {
          "output_type": "stream",
          "name": "stdout",
          "text": [
            "As an AI language model, I do not have personal preferences or decisions. However, I can provide some information about the words you mentioned:\n",
            "\n",
            "- Хикку (Hikikomori) is a Japanese term used to describe people who withdraw from society and isolate themselves in their homes for an extended period.\n",
            "- Пидут (Pidut) is a Ukrainian word that means \"they go\" in English.\n",
            "- SLN is an abbreviation that can stand for different things depending on the context. It could refer to a Slovakian airline company, a Swedish law firm, or a medical term for a type of skin lesion called seborrheic keratosis.\n",
            "- Ведомоство (Vedomstvo) is a Russian word that means \"government agency\" or \"department\" in English.\n"
          ]
        }
      ]
    },
    {
      "cell_type": "code",
      "source": [
        "prompt = f\"\"\"why did you decide that according to ```{groups_specifications}```\n",
        "'ведомоство' has 'ORG' tag? Is it a correct word?\"\"\"\n",
        "response = get_completion(prompt)\n",
        "print(response)"
      ],
      "metadata": {
        "colab": {
          "base_uri": "https://localhost:8080/"
        },
        "id": "bT8O9fnRzZb0",
        "outputId": "e996e5fb-4280-4c2e-8896-e21d8c6e504b"
      },
      "execution_count": null,
      "outputs": [
        {
          "output_type": "stream",
          "name": "stdout",
          "text": [
            "Yes, \"ведомоство\" can be considered a correct word and it would have the \"ORG\" tag as it refers to an organization or government agency.\n"
          ]
        }
      ]
    },
    {
      "cell_type": "code",
      "source": [
        "prompt = f\"\"\"why did you decide that according to ```{groups_specifications}```\n",
        "'ведомоство' has 'ORG' tag? The word is misspelled, the correct variant is 'ведомство'. What tag to use?\"\"\"\n",
        "response = get_completion(prompt)\n",
        "print(response)"
      ],
      "metadata": {
        "colab": {
          "base_uri": "https://localhost:8080/"
        },
        "id": "rUfP35edz4l8",
        "outputId": "09c55bf3-85e2-423c-db61-b99d62be8205"
      },
      "execution_count": null,
      "outputs": [
        {
          "output_type": "stream",
          "name": "stdout",
          "text": [
            "The correct tag for 'ведомство' would be NORM, as it is a normal (dictionary) word.\n"
          ]
        }
      ]
    },
    {
      "cell_type": "code",
      "source": [
        "prompt = f\"\"\"why did you decide that according to ```{groups_specifications}```\n",
        "'ведомоство' has 'ORG' tag? The word is misspelled, the correct variant is 'ведомство'. What tag to use for 'ведомоство'?\"\"\"\n",
        "response = get_completion(prompt)\n",
        "print(response)"
      ],
      "metadata": {
        "colab": {
          "base_uri": "https://localhost:8080/"
        },
        "id": "SoK1yxX70VcC",
        "outputId": "67aa7fc4-2e3f-4800-d155-7125f922a2ec"
      },
      "execution_count": null,
      "outputs": [
        {
          "output_type": "stream",
          "name": "stdout",
          "text": [
            "The correct tag for 'ведомоство' would be ERR, as it is a misspelled word.\n"
          ]
        }
      ]
    },
    {
      "cell_type": "code",
      "source": [
        "prompt = f\"\"\"\n",
        "Your task is to determine which NER group  Russian word should be and label the\n",
        "word with the group tag.\n",
        "\n",
        "Do the classificasion based on ```{groups_specifications}```\n",
        "The list of Russian words to label: ```{test}```\n",
        "\n",
        "Pay close attention to misspelled or imposible words like 'говноа', 'сайах' and\n",
        "'ведомоство', they should be in errors with tag ERR,\n",
        "\n",
        "Present results in csv format with '\\t' separator\n",
        "\"\"\"\n",
        "response = get_completion(prompt)\n",
        "print(response)"
      ],
      "metadata": {
        "colab": {
          "base_uri": "https://localhost:8080/"
        },
        "id": "IZ4uvWWR0f67",
        "outputId": "81c91720-b287-41bc-b0fb-8895099322b0"
      },
      "execution_count": null,
      "outputs": [
        {
          "output_type": "stream",
          "name": "stdout",
          "text": [
            "кундозеров\tPER\n",
            "вредоноса\tERR\n",
            "нечяева\tPER\n",
            "менячкин\tPER\n",
            "хикку\tSLN\n",
            "стонякина\tPER\n",
            "бались\tSLN\n",
            "отарбиев\tPER\n",
            "кумер\tSLN\n",
            "зафейлилась\tERR\n",
            "талмачева\tPER\n",
            "бармоткин\tPER\n",
            "сусляева\tPER\n",
            "сунгатулин\tPER\n",
            "корешева\tPER\n",
            "ельфимова\tPER\n",
            "беберина\tPER\n",
            "тулпечкина\tPER\n",
            "ит-специалисты\tORG\n",
            "нэвэльного\tNEW\n",
            "янчуркина\tPER\n",
            "мяснянкин\tPER\n",
            "шляпнуков\tPER\n",
            "маж\tSLN\n",
            "отшельниченко\tPER\n",
            "ведомоство\tERR\n",
            "литышев\tPER\n",
            "выпускае\tERR\n",
            "раекории\tERR\n",
            "кураколов\tPER\n",
            "трансгендерных\tSLN\n",
            "нигерши\tSLN\n",
            "масленный\tPER\n",
            "рибанова\tPER\n",
            "спотифае\tORG\n",
            "борачев\tPER\n",
            "балева\tPER\n",
            "трощина\tPER\n",
            "сеньером\tPER\n",
            "толобанова\tPER\n",
            "рейвенора\tPER\n",
            "триллиард\tNEW\n",
            "болтачев\tPER\n",
            "мемяца\tPER\n",
            "жд\tGEO\n",
            "разроднова\tPER\n",
            "шулыгин\tPER\n",
            "мудорисова\tPER\n",
            "милипиздрической\tSLN\n",
            "никогла\tSLN\n",
            "кск\tORG\n",
            "випрвпн\tORG\n",
            "ослопова\tPER\n",
            "трамантина\tPER\n",
            "молинова\tPER\n",
            "катинов\tPER\n",
            "оч-чень\tSLN\n",
            "неиллюзорно\tSLN\n",
            "писюша\tSLN\n",
            "валодя\tPER\n",
            "пациорина\tPER\n",
            "макдакам\tORG\n",
            "иина\tPER\n",
            "волотеева\tPER\n",
            "мусарне\tPER\n",
            "филюткин\tPER\n",
            "чамакова\tPER\n",
            "утяткина\tPER\n",
            "медпред\tORG\n",
            "голодалов\tPER\n",
            "чигиркин\tPER\n",
            "стативкина\tPER\n",
            "бибашова\tPER\n",
            "джелялов\tPER\n",
            "подевятов\tPER\n",
            "долбанулись\tSLN\n",
            "ансибл\tORG\n",
            "бчб-флага\tORG\n",
            "сарапова\tPER\n",
            "ушатывает\tSLN\n",
            "весельцов\tPER\n",
            "равительства\tORG\n",
            "дяшлева\tPER\n",
            "брядихин\tPER\n",
            "кашминский\tPER\n",
            "клеванова\tPER\n",
            "дрищом\tSLN\n",
            "кошакина\tPER\n",
            "бунтилов\tPER\n",
            "дороговасто\tSLN\n",
            "пидут\tSLN\n",
            "страновой\tGEO\n",
            "кремова\tPER\n",
            "георгьевич\tPER\n",
            "микуцкий\tPER\n",
            "кистерев\tPER\n",
            "зурапов\tPER\n",
            "включае\tERR\n",
            "полуает\tERR\n",
            "мизрапов\tPER\n"
          ]
        }
      ]
    },
    {
      "cell_type": "code",
      "source": [
        "with open('second_prompt.txt', 'w') as file:\n",
        "    file.write(response)"
      ],
      "metadata": {
        "id": "OhgQEmj21OR1"
      },
      "execution_count": null,
      "outputs": []
    },
    {
      "cell_type": "markdown",
      "source": [
        "Различия между первым и вторым промптом\n",
        "~~~\n",
        "вредоноса\tNORM | ERR Correct\n",
        "хикку\tNEW | SLN Correct\n",
        "бались\tNORM | SLN Incorrect (ERR)\n",
        "кумер\tNORM | SLN Correct\n",
        "зафейлилась\tNEW | ERR Incorrect (SLN)\n",
        "маж\tNORM | SLN Incorrect (ERR)\n",
        "ведомоство\tORG | ERR Correct\n",
        "раекории\tNORM | ERR Correct\n",
        "трансгендерных\tNEW | SLN Incorrect (NORM)\n",
        "масленный\tNORM | PER Incorrect (ERR)\n",
        "трощина\tNORM | PER Correct\n",
        "мемяца\tNORM | PER Incorrect (ERR)\n",
        "жд\tNORM | GEO\n",
        "никогла\tERR | SLN Incorrect (ERR)\n",
        "випрвпн\tNEW | ORG Correct\n",
        "оч-чень\tNEW | SLN Incorrect (ERR)\n",
        "неиллюзорно\tNORM | SLN Incorrect (NORM)\n",
        "мусарне\tNORM | PER Incorrect (SLN)\n",
        "дороговасто\tNEW | SLN Correct\n",
        "страновой\tNORM | GEO Incorrect (NORM)\n",
        "~~~\n",
        "Различия ровно на 20%, при изменении промпта качество улучшилось (7 правильных, 3 правильных изменены на неправильные)"
      ],
      "metadata": {
        "id": "5xt54-HC7vmF"
      }
    },
    {
      "cell_type": "code",
      "source": [
        "prompt = f\"\"\"\n",
        "Your task is to determine which NER group  Russian word should be and label the\n",
        "word with the group tag.\n",
        "\n",
        "Do the classificasion based on ```{groups_specifications}```\n",
        "The list of Russian words to label: ```{test}```\n",
        "\n",
        "Pay close attention to errors (ERR), they include:\n",
        "- misspelled 'сайах', 'ведомоство'\n",
        "- imposible Russian words like 'мемяца', 'никогла'\n",
        "- grammatically incorrect like 'масленный'\n",
        "- words with unnecessary hyphen.\n",
        "\n",
        "Present results in csv format with '\\t' separator\n",
        "\"\"\"\n",
        "response2 = get_completion(prompt)\n",
        "print(response2)"
      ],
      "metadata": {
        "colab": {
          "base_uri": "https://localhost:8080/"
        },
        "id": "c4Q-ij_w69XN",
        "outputId": "1070fd96-842b-46bb-e14c-69ebed0e2824"
      },
      "execution_count": null,
      "outputs": [
        {
          "output_type": "stream",
          "name": "stdout",
          "text": [
            "кундозеров\tPER\n",
            "вредоноса\tERR\n",
            "нечяева\tPER\n",
            "менячкин\tPER\n",
            "хикку\tERR\n",
            "стонякина\tPER\n",
            "бались\tERR\n",
            "отарбиев\tPER\n",
            "кумер\tERR\n",
            "зафейлилась\tERR\n",
            "талмачева\tPER\n",
            "бармоткин\tPER\n",
            "сусляева\tPER\n",
            "сунгатулин\tPER\n",
            "корешева\tPER\n",
            "ельфимова\tPER\n",
            "беберина\tPER\n",
            "тулпечкина\tPER\n",
            "ит-специалисты\tORG\n",
            "нэвэльного\tERR\n",
            "янчуркина\tPER\n",
            "мяснянкин\tPER\n",
            "шляпнуков\tPER\n",
            "маж\tERR\n",
            "отшельниченко\tPER\n",
            "ведомоство\tERR\n",
            "литышев\tPER\n",
            "выпускае\tERR\n",
            "раекории\tERR\n",
            "кураколов\tPER\n",
            "трансгендерных\tERR\n",
            "нигерши\tERR\n",
            "масленный\tERR\n",
            "рибанова\tPER\n",
            "спотифае\tERR\n",
            "борачев\tPER\n",
            "балева\tPER\n",
            "трощина\tPER\n",
            "сеньером\tPER\n",
            "толобанова\tPER\n",
            "рейвенора\tPER\n",
            "триллиард\tNEW\n",
            "болтачев\tPER\n",
            "мемяца\tERR\n",
            "жд\tERR\n",
            "разроднова\tPER\n",
            "шулыгин\tPER\n",
            "мудорисова\tPER\n",
            "милипиздрической\tERR\n",
            "никогла\tERR\n",
            "кск\tORG\n",
            "випрвпн\tORG\n",
            "ослопова\tPER\n",
            "трамантина\tPER\n",
            "молинова\tPER\n",
            "катинов\tPER\n",
            "оч-чень\tERR\n",
            "неиллюзорно\tERR\n",
            "писюша\tERR\n",
            "валодя\tPER\n",
            "пациорина\tPER\n",
            "макдакам\tORG\n",
            "иина\tPER\n",
            "волотеева\tPER\n",
            "мусарне\tERR\n",
            "филюткин\tPER\n",
            "чамакова\tPER\n",
            "утяткина\tPER\n",
            "медпред\tORG\n",
            "голодалов\tPER\n",
            "чигиркин\tPER\n",
            "стативкина\tPER\n",
            "бибашова\tPER\n",
            "джелялов\tPER\n",
            "подевятов\tPER\n",
            "долбанулись\tERR\n",
            "ансибл\tORG\n",
            "бчб-флага\tORG\n",
            "сарапова\tPER\n",
            "ушатывает\tERR\n",
            "весельцов\tPER\n",
            "равительства\tORG\n",
            "дяшлева\tPER\n",
            "брядихин\tPER\n",
            "кашминский\tPER\n",
            "клеванова\tPER\n",
            "дрищом\tERR\n",
            "кошакина\tPER\n",
            "бунтилов\tPER\n",
            "дороговасто\tERR\n",
            "пидут\tERR\n",
            "страновой\tERR\n",
            "кремова\tPER\n",
            "георгьевич\tPER\n",
            "микуцкий\tPER\n",
            "кистерев\tPER\n",
            "зурапов\tPER\n",
            "включае\tERR\n",
            "полуает\tERR\n",
            "мизрапов\tPER\n"
          ]
        }
      ]
    },
    {
      "cell_type": "code",
      "source": [
        "with open('third_prompt.txt', 'w') as file:\n",
        "    file.write(response2)"
      ],
      "metadata": {
        "id": "v3ich9WI7tuo"
      },
      "execution_count": null,
      "outputs": []
    },
    {
      "cell_type": "markdown",
      "source": [
        "Различия со вторым промптом, явный перевес в сторону ERR, в ущерб SLN\n",
        "~~~\n",
        "хикку\tSLN | ERR (both are possible)\n",
        "бались\tSLN | ERR Correct\n",
        "кумер\tSLN | ERR (both are possible)\n",
        "нэвэльного\tNEW | ERR (both are possible)\n",
        "маж\tSLN | ERR Correct\n",
        "трансгендерных\tSLN | ERR Incorrect (NORM)\n",
        "нигерши\tSLN | ERR Incorrect (SLN) -\n",
        "масленный\tPER | ERR Correct\n",
        "спотифае\tORG | ERR Incorrect (ORG) -\n",
        "мемяца\tPER | ERR Correct\n",
        "жд\tGEO ERR Incorrect (NORM)\n",
        "милипиздрической\tSLN | ERR Incorrect (SLN) -\n",
        "никогла\tSLN | ERR Correct\n",
        "оч-чень\tSLN | ERR Correct\n",
        "неиллюзорно\tSLN | ERR Incorrect (NORM)\n",
        "писюша\tSLN | ERR Incorrect (SLN) -\n",
        "мусарне\tPER | ERR Incorrect (SLN)\n",
        "долбанулись\tSLN | ERR Incorrect (SLN) -\n",
        "ушатывает\tSLN | ERR Incorrect (SLN) -\n",
        "дрищом\tSLN | ERR Incorrect (SLN) -\n",
        "дороговасто\tSLN | ERR (both are possible)\n",
        "пидут\tSLN | ERR Correct\n",
        "страновой\tGEO | ERR Incorrect (NORM)\n",
        "~~~\n",
        "Разница >20%, ложные срабатывания на сленг"
      ],
      "metadata": {
        "id": "GRsf9wyCERzO"
      }
    },
    {
      "cell_type": "code",
      "source": [
        "prompt = f\"\"\"\n",
        "Your task is to determine which NER group  Russian word should be and label the\n",
        "word with the group tag.\n",
        "\n",
        "Do the classificasion based on ```{groups_specifications}```\n",
        "The list of Russian words to label: ```{test}```\n",
        "\n",
        "Pay close attention to errors (ERR), they include:\n",
        "- misspelled 'сайах', 'ведомоство'\n",
        "- imposible Russian words like 'мемяца', 'никогла'\n",
        "- incorrect like 'масленный'\n",
        "- words with unnecessary hyphen.\n",
        "\n",
        "Present results in csv format with '\\t' separator\n",
        "\"\"\"\n",
        "response3 = get_completion(prompt)\n",
        "print(response3)"
      ],
      "metadata": {
        "colab": {
          "base_uri": "https://localhost:8080/"
        },
        "id": "ijIkjKEQG67x",
        "outputId": "919da618-a150-43ee-eb74-1699bc00de7d"
      },
      "execution_count": null,
      "outputs": [
        {
          "output_type": "stream",
          "name": "stdout",
          "text": [
            "кундозеров\tNORM\n",
            "вредоноса\tNORM\n",
            "нечяева\tPER\n",
            "менячкин\tNORM\n",
            "хикку\tNEW\n",
            "стонякина\tPER\n",
            "бались\tNORM\n",
            "отарбиев\tPER\n",
            "кумер\tNORM\n",
            "зафейлилась\tERR\n",
            "талмачева\tPER\n",
            "бармоткин\tNORM\n",
            "сусляева\tPER\n",
            "сунгатулин\tPER\n",
            "корешева\tPER\n",
            "ельфимова\tPER\n",
            "беберина\tPER\n",
            "тулпечкина\tPER\n",
            "ит-специалисты\tORG\n",
            "нэвэльного\tNEW\n",
            "янчуркина\tPER\n",
            "мяснянкин\tNORM\n",
            "шляпнуков\tNORM\n",
            "маж\tNORM\n",
            "отшельниченко\tPER\n",
            "ведомоство\tERR\n",
            "литышев\tPER\n",
            "выпускае\tERR\n",
            "раекории\tNORM\n",
            "кураколов\tNORM\n",
            "трансгендерных\tNORM\n",
            "нигерши\tNORM\n",
            "масленный\tERR\n",
            "рибанова\tPER\n",
            "спотифае\tNORM\n",
            "борачев\tPER\n",
            "балева\tPER\n",
            "трощина\tNORM\n",
            "сеньером\tNORM\n",
            "толобанова\tPER\n",
            "рейвенора\tNORM\n",
            "триллиард\tNORM\n",
            "болтачев\tPER\n",
            "мемяца\tERR\n",
            "жд\tNORM\n",
            "разроднова\tPER\n",
            "шулыгин\tNORM\n",
            "мудорисова\tPER\n",
            "милипиздрической\tNORM\n",
            "никогла\tERR\n",
            "кск\tORG\n",
            "випрвпн\tORG\n",
            "ослопова\tPER\n",
            "трамантина\tPER\n",
            "молинова\tPER\n",
            "катинов\tPER\n",
            "оч-чень\tNORM\n",
            "неиллюзорно\tNORM\n",
            "писюша\tNORM\n",
            "валодя\tNORM\n",
            "пациорина\tPER\n",
            "макдакам\tNORM\n",
            "иина\tPER\n",
            "волотеева\tPER\n",
            "мусарне\tNORM\n",
            "филюткин\tPER\n",
            "чамакова\tPER\n",
            "утяткина\tPER\n",
            "медпред\tNORM\n",
            "голодалов\tNORM\n",
            "чигиркин\tPER\n",
            "стативкина\tPER\n",
            "бибашова\tPER\n",
            "джелялов\tPER\n",
            "подевятов\tPER\n",
            "долбанулись\tNORM\n",
            "ансибл\tNORM\n",
            "бчб-флага\tORG\n",
            "сарапова\tPER\n",
            "ушатывает\tNORM\n",
            "весельцов\tNORM\n",
            "равительства\tNORM\n",
            "дяшлева\tPER\n",
            "брядихин\tNORM\n",
            "кашминский\tPER\n",
            "клеванова\tPER\n",
            "дрищом\tNORM\n",
            "кошакина\tPER\n",
            "бунтилов\tNORM\n",
            "дороговасто\tNORM\n",
            "пидут\tNORM\n",
            "страновой\tNORM\n",
            "кремова\tPER\n",
            "георгьевич\tPER\n",
            "микуцкий\tPER\n",
            "кистерев\tPER\n",
            "зурапов\tPER\n",
            "включае\tERR\n",
            "полуает\tERR\n",
            "мизрапов\tPER\n"
          ]
        }
      ]
    },
    {
      "cell_type": "code",
      "source": [
        "with open('4_prompt.txt', 'w') as file:\n",
        "    file.write(response3)"
      ],
      "metadata": {
        "id": "iXG8YjoEH0EZ"
      },
      "execution_count": null,
      "outputs": []
    },
    {
      "cell_type": "markdown",
      "source": [
        "*Далее будто запомнив мои запросы, проставила больше 30% норм. Меняю фрагмент датасета*\n"
      ],
      "metadata": {
        "id": "CYbayyp2KhIq"
      }
    },
    {
      "cell_type": "code",
      "source": [
        "prompt = f\"\"\"\n",
        "Your task is to determine which NER group  Russian word should be and label the\n",
        "word with the group tag.\n",
        "\n",
        "Do the classificasion based on ```{groups_specifications}```\n",
        "The list of Russian words to label: ```{test}```\n",
        "\n",
        "Pay close attention to errors (ERR), they include:\n",
        "- misspelled 'сайах', 'ведомоство'\n",
        "- imposible Russian words like 'мемяца', 'никогла'\n",
        "- words with unnecessary hyphen.\n",
        "\n",
        "Present results in csv format with '\\t' separator\n",
        "\"\"\"\n",
        "response4 = get_completion(prompt)\n",
        "print(response4)"
      ],
      "metadata": {
        "colab": {
          "base_uri": "https://localhost:8080/"
        },
        "id": "4oCLY0kwLON9",
        "outputId": "3123b8be-9f5e-429d-ecff-03bba64178d2"
      },
      "execution_count": null,
      "outputs": [
        {
          "output_type": "stream",
          "name": "stdout",
          "text": [
            "сорвис\tNEW\n",
            "топлеса\tNORM\n",
            "ссдшник\tNEW\n",
            "ешком\tNORM\n",
            "теребинин\tPER\n",
            "клепач\tNORM\n",
            "пелагеина\tPER\n",
            "бэ-мэ\tNEW\n",
            "гильда\tNORM\n",
            "адоньева\tPER\n",
            "заебательская\tSLN\n",
            "гавротина\tNORM\n",
            "дечева\tPER\n",
            "бесяво\tNORM\n",
            "кирдяпин\tPER\n",
            "дахрена\tSLN\n",
            "многоходовочка\tNORM\n",
            "уебал\tSLN\n",
            "жополиз\tSLN\n",
            "трокаев\tPER\n",
            "некритин\tSLN\n",
            "битюжов\tPER\n",
            "свидомые\tSLN\n",
            "тавокин\tPER\n",
            "заволокина\tPER\n",
            "пишишь\tNORM\n",
            "демьянкова\tPER\n",
            "агресии\tSLN\n",
            "партократия\tNORM\n",
            "пентакс\tNORM\n",
            "нафасова\tPER\n",
            "кримиал\tERR\n",
            "базельцев\tPER\n",
            "лимасуева\tPER\n",
            "бабанкина\tPER\n",
            "хаммонда\tPER\n",
            "трапезин\tNORM\n",
            "килачков\tPER\n",
            "морехина\tPER\n",
            "матейкина\tPER\n",
            "шарвина\tPER\n",
            "райффайзенбанку\tORG\n",
            "кормазова\tPER\n",
            "лобышова\tPER\n",
            "влазил\tNORM\n",
            "вадимка\tPER\n",
            "джпег\tNEW\n",
            "маничкин\tPER\n",
            "гарена\tNORM\n",
            "митаева\tPER\n",
            "халяльную\tNORM\n",
            "тегин\tPER\n",
            "маджахедов\tPER\n",
            "драь\tERR\n",
            "тройнева\tPER\n",
            "поцу\tNORM\n",
            "китнецов\tPER\n",
            "риходит\tNORM\n",
            "минифутбола\tNORM\n",
            "томишова\tPER\n",
            "бяшарова\tPER\n",
            "обьёмом\tERR\n",
            "хуярил\tSLN\n",
            "непаханное\tNORM\n",
            "залупинск\tERR\n",
            "условок\tNORM\n",
            "ксеноса\tPER\n",
            "векличева\tPER\n",
            "званникова\tPER\n",
            "тусич\tPER\n",
            "войдешкин\tPER\n",
            "клюткова\tPER\n",
            "настоенный\tNORM\n",
            "ильягуев\tPER\n",
            "салуянова\tPER\n",
            "срадаю\tSLN\n",
            "сиванков\tPER\n",
            "норальных\tERR\n",
            "муксупова\tPER\n",
            "потетюев\tPER\n",
            "аксенков\tPER\n",
            "туда-назад\tNORM\n",
            "переколхозить\tNORM\n",
            "скрамтаева\tPER\n",
            "микельсон\tPER\n",
            "номерова\tPER\n",
            "вавиков\tPER\n",
            "получам\tERR\n",
            "ебучку\tSLN\n",
            "дифф\tNEW\n",
            "поверности\tNORM\n",
            "трнировки\tERR\n",
            "хорошавкин\tPER\n",
            "окрыое\tERR\n",
            "пятьи\tNORM\n",
            "панимаю\tSLN\n",
            "собсвео\tERR\n",
            "хартова\tPER\n",
            "звиняй\tSLN\n",
            "чудасов\tPER\n"
          ]
        }
      ]
    },
    {
      "cell_type": "code",
      "source": [
        "with open('4_prompt.txt', 'w') as file:\n",
        "    file.write(response4)"
      ],
      "metadata": {
        "id": "NOBerCG_L0Ly"
      },
      "execution_count": null,
      "outputs": []
    },
    {
      "cell_type": "markdown",
      "source": [
        "### Цикл для прохода по всему датасету (Промпты 3)"
      ],
      "metadata": {
        "id": "v9ahTafpBonx"
      }
    },
    {
      "cell_type": "code",
      "source": [
        "#  40 раз по 250 слов\n",
        "\n",
        "beginning = 0\n",
        "end = 250\n",
        "for i in tqdm(range(1, 41)):\n",
        "  test = test_data[beginning:end]\n",
        "  prompt = f\"\"\"\n",
        "  Your task is to determine which NER group  Russian word should be and label the\n",
        "  word with the group tag.\n",
        "\n",
        "  Do the classificasion based on ```{groups_specifications}```\n",
        "  The list of Russian words to label: ```{test}```\n",
        "\n",
        "  Pay close attention to errors (ERR), they include:\n",
        "  - misspelled 'сайах', 'ведомоство'\n",
        "  - imposible Russian words like 'мемяца', 'никогла'\n",
        "  - words with unnecessary hyphen.\n",
        "\n",
        "  Present results in csv format with '\\t' separator\n",
        "  \"\"\"\n",
        "  response = get_completion(prompt)\n",
        "  with open('test_results.txt', 'a') as file:\n",
        "    file.write(response)\n",
        "\n",
        "  beginning += 250\n",
        "  end += 250\n",
        "print('Done!')"
      ],
      "metadata": {
        "colab": {
          "base_uri": "https://localhost:8080/"
        },
        "id": "U9eRROSABoCG",
        "outputId": "703d745b-708f-4860-aa1b-1d366dfc3103"
      },
      "execution_count": null,
      "outputs": [
        {
          "output_type": "stream",
          "name": "stderr",
          "text": [
            "100%|██████████| 40/40 [34:11<00:00, 51.29s/it]"
          ]
        },
        {
          "output_type": "stream",
          "name": "stdout",
          "text": [
            "Done!\n"
          ]
        },
        {
          "output_type": "stream",
          "name": "stderr",
          "text": [
            "\n"
          ]
        }
      ]
    },
    {
      "cell_type": "code",
      "source": [
        "# 40 раз по 250 слов\n",
        "\n",
        "for n in range(1,4):\n",
        "  beginning = 0\n",
        "  end = 250\n",
        "  for i in tqdm(range(1, 41)):\n",
        "    test = test_data[beginning:end]\n",
        "    prompt = f\"\"\"\n",
        "    Your task is to determine which NER group  Russian word should be and label the\n",
        "    word with the group tag.\n",
        "\n",
        "    Do the classificasion based on ```{groups_specifications}```\n",
        "    The list of Russian words to label: ```{test}```\n",
        "\n",
        "    Pay close attention to errors (ERR), they include:\n",
        "    - misspelled 'сайах', 'ведомоство'\n",
        "    - imposible Russian words like 'мемяца', 'никогла'\n",
        "    - words with unnecessary hyphen.\n",
        "\n",
        "    Present results in csv format with '\\t' separator\n",
        "    \"\"\"\n",
        "    response = get_completion(prompt)\n",
        "    with open('test_results' +str(n) + '.txt', 'a') as file:\n",
        "      file.write(response)\n",
        "\n",
        "    beginning += 250\n",
        "    end += 250\n",
        "print('     Done!')"
      ],
      "metadata": {
        "colab": {
          "base_uri": "https://localhost:8080/"
        },
        "id": "jC0EDkZvCd7f",
        "outputId": "82d5ac57-64c2-4503-8930-d70fc1cf73dd"
      },
      "execution_count": null,
      "outputs": [
        {
          "output_type": "stream",
          "name": "stderr",
          "text": [
            "100%|██████████| 40/40 [28:25<00:00, 42.65s/it]\n",
            "100%|██████████| 40/40 [28:44<00:00, 43.11s/it]\n",
            "100%|██████████| 40/40 [29:01<00:00, 43.53s/it]"
          ]
        },
        {
          "output_type": "stream",
          "name": "stdout",
          "text": [
            "     Done!\n"
          ]
        },
        {
          "output_type": "stream",
          "name": "stderr",
          "text": [
            "\n"
          ]
        }
      ]
    },
    {
      "cell_type": "code",
      "source": [
        "beginning = 0\n",
        "end = 250\n",
        "for i in tqdm(range(1, 41)):\n",
        "  test = test_data[beginning:end]\n",
        "  prompt = f\"\"\"\n",
        "  Your task is to determine which NER group Russian word should be and label each\n",
        "  word with the group tag.\n",
        "\n",
        "  Do the classificasion based on ```{groups_specifications}```\n",
        "  The list of Russian words to label: ```{test}```\n",
        "\n",
        "  Pay close attention to errors (ERR), they include:\n",
        "  - misspelled 'сайах', 'ведомоство'\n",
        "  - imposible Russian words like 'мемяца', 'никогла'\n",
        "  - words with unnecessary hyphen.\n",
        "\n",
        "  Do not skip a word.\n",
        "  Present results in csv format with '\\t' separator\n",
        "  \"\"\"\n",
        "  response = get_completion(prompt)\n",
        "  with open('test_results5.txt', 'a') as file:\n",
        "    file.write(response)\n",
        "\n",
        "  beginning += 250\n",
        "  end += 250\n",
        "print('Done!')"
      ],
      "metadata": {
        "colab": {
          "base_uri": "https://localhost:8080/"
        },
        "id": "PMS3FSFqHLzF",
        "outputId": "8a4eba01-5ca3-4024-9a9d-0976ca0569e0"
      },
      "execution_count": null,
      "outputs": [
        {
          "output_type": "stream",
          "name": "stderr",
          "text": [
            "100%|██████████| 40/40 [23:14<00:00, 34.86s/it]"
          ]
        },
        {
          "output_type": "stream",
          "name": "stdout",
          "text": [
            "Done!\n"
          ]
        },
        {
          "output_type": "stream",
          "name": "stderr",
          "text": [
            "\n"
          ]
        }
      ]
    },
    {
      "cell_type": "markdown",
      "source": [
        "Нашла вот такой [ресурс](https://zvukibukvy.ru/slang) со сленгом, сайт можно спарсить"
      ],
      "metadata": {
        "id": "pEsjlmEau3YT"
      }
    },
    {
      "cell_type": "markdown",
      "source": [
        "# Анализируем результаты пяти циклов\n",
        "\n",
        "Цель -- найти закономерности, визуализировать распределение по классам, выбрать для каждого слова (статистически) наиболее вероятный тег\n",
        "\n",
        "Файлы не в идеальном формате -- где-то сдвинуто форматирование (потеряна разметка)\n",
        "~~~\n",
        "страданиями\tSотогреется\tNORM\n",
        "~~~\n",
        "\n",
        "Возможны галлюцинации\n",
        "~~~\n",
        "хапанули\tVERB\n",
        "~~~"
      ],
      "metadata": {
        "id": "9a-7F4DsTZcn"
      }
    },
    {
      "cell_type": "code",
      "source": [
        "import pandas as pd\n",
        "from tqdm import tqdm\n",
        "\n",
        "res_one = pd.read_csv(\"/content/drive/MyDrive/NLP_spring2023/test_results1.txt\", encoding='utf-8', sep='\\t')\n",
        "res_two = pd.read_csv(\"/content/drive/MyDrive/NLP_spring2023/test_results2.txt\", encoding='utf-8', sep='\\t')\n",
        "res_three = pd.read_csv(\"/content/drive/MyDrive/NLP_spring2023/test_results3.txt\", encoding='utf-8', sep='\\t')\n",
        "res_four = pd.read_csv(\"/content/drive/MyDrive/NLP_spring2023/test_results4.txt\", encoding='utf-8', sep='\\t')\n",
        "res_five = pd.read_csv(\"/content/drive/MyDrive/NLP_spring2023/test_results5.txt\", encoding='utf-8', sep='\\t')\n",
        "\n",
        "res_one.rename(columns = {'Word':'word', 'Label':'label'}, inplace = True)\n",
        "res_two.rename(columns = {'Word':'word', 'Label':'label'}, inplace = True)\n",
        "res_three.rename(columns = {'Word':'word', 'Label':'label'}, inplace = True)\n",
        "res_four.rename(columns = {'Word':'word', 'Label':'label'}, inplace = True)\n",
        "res_five.rename(columns = {'Word':'word', 'Label':'label'}, inplace = True)\n",
        "\n",
        "res_one.head()"
      ],
      "metadata": {
        "colab": {
          "base_uri": "https://localhost:8080/",
          "height": 206
        },
        "id": "X0c8RHnETodI",
        "outputId": "c685bd7e-53aa-43a7-e59f-8f63164e096f"
      },
      "execution_count": null,
      "outputs": [
        {
          "output_type": "execute_result",
          "data": {
            "text/plain": [
              "        word label\n",
              "0    абаджев   PER\n",
              "1     абанин   PER\n",
              "2  абарисова   PER\n",
              "3  абарыкова   PER\n",
              "4    абгалин   PER"
            ],
            "text/html": [
              "\n",
              "  <div id=\"df-4f72d047-d5b6-4527-8f81-3e9c83af82cc\">\n",
              "    <div class=\"colab-df-container\">\n",
              "      <div>\n",
              "<style scoped>\n",
              "    .dataframe tbody tr th:only-of-type {\n",
              "        vertical-align: middle;\n",
              "    }\n",
              "\n",
              "    .dataframe tbody tr th {\n",
              "        vertical-align: top;\n",
              "    }\n",
              "\n",
              "    .dataframe thead th {\n",
              "        text-align: right;\n",
              "    }\n",
              "</style>\n",
              "<table border=\"1\" class=\"dataframe\">\n",
              "  <thead>\n",
              "    <tr style=\"text-align: right;\">\n",
              "      <th></th>\n",
              "      <th>word</th>\n",
              "      <th>label</th>\n",
              "    </tr>\n",
              "  </thead>\n",
              "  <tbody>\n",
              "    <tr>\n",
              "      <th>0</th>\n",
              "      <td>абаджев</td>\n",
              "      <td>PER</td>\n",
              "    </tr>\n",
              "    <tr>\n",
              "      <th>1</th>\n",
              "      <td>абанин</td>\n",
              "      <td>PER</td>\n",
              "    </tr>\n",
              "    <tr>\n",
              "      <th>2</th>\n",
              "      <td>абарисова</td>\n",
              "      <td>PER</td>\n",
              "    </tr>\n",
              "    <tr>\n",
              "      <th>3</th>\n",
              "      <td>абарыкова</td>\n",
              "      <td>PER</td>\n",
              "    </tr>\n",
              "    <tr>\n",
              "      <th>4</th>\n",
              "      <td>абгалин</td>\n",
              "      <td>PER</td>\n",
              "    </tr>\n",
              "  </tbody>\n",
              "</table>\n",
              "</div>\n",
              "      <button class=\"colab-df-convert\" onclick=\"convertToInteractive('df-4f72d047-d5b6-4527-8f81-3e9c83af82cc')\"\n",
              "              title=\"Convert this dataframe to an interactive table.\"\n",
              "              style=\"display:none;\">\n",
              "        \n",
              "  <svg xmlns=\"http://www.w3.org/2000/svg\" height=\"24px\"viewBox=\"0 0 24 24\"\n",
              "       width=\"24px\">\n",
              "    <path d=\"M0 0h24v24H0V0z\" fill=\"none\"/>\n",
              "    <path d=\"M18.56 5.44l.94 2.06.94-2.06 2.06-.94-2.06-.94-.94-2.06-.94 2.06-2.06.94zm-11 1L8.5 8.5l.94-2.06 2.06-.94-2.06-.94L8.5 2.5l-.94 2.06-2.06.94zm10 10l.94 2.06.94-2.06 2.06-.94-2.06-.94-.94-2.06-.94 2.06-2.06.94z\"/><path d=\"M17.41 7.96l-1.37-1.37c-.4-.4-.92-.59-1.43-.59-.52 0-1.04.2-1.43.59L10.3 9.45l-7.72 7.72c-.78.78-.78 2.05 0 2.83L4 21.41c.39.39.9.59 1.41.59.51 0 1.02-.2 1.41-.59l7.78-7.78 2.81-2.81c.8-.78.8-2.07 0-2.86zM5.41 20L4 18.59l7.72-7.72 1.47 1.35L5.41 20z\"/>\n",
              "  </svg>\n",
              "      </button>\n",
              "      \n",
              "  <style>\n",
              "    .colab-df-container {\n",
              "      display:flex;\n",
              "      flex-wrap:wrap;\n",
              "      gap: 12px;\n",
              "    }\n",
              "\n",
              "    .colab-df-convert {\n",
              "      background-color: #E8F0FE;\n",
              "      border: none;\n",
              "      border-radius: 50%;\n",
              "      cursor: pointer;\n",
              "      display: none;\n",
              "      fill: #1967D2;\n",
              "      height: 32px;\n",
              "      padding: 0 0 0 0;\n",
              "      width: 32px;\n",
              "    }\n",
              "\n",
              "    .colab-df-convert:hover {\n",
              "      background-color: #E2EBFA;\n",
              "      box-shadow: 0px 1px 2px rgba(60, 64, 67, 0.3), 0px 1px 3px 1px rgba(60, 64, 67, 0.15);\n",
              "      fill: #174EA6;\n",
              "    }\n",
              "\n",
              "    [theme=dark] .colab-df-convert {\n",
              "      background-color: #3B4455;\n",
              "      fill: #D2E3FC;\n",
              "    }\n",
              "\n",
              "    [theme=dark] .colab-df-convert:hover {\n",
              "      background-color: #434B5C;\n",
              "      box-shadow: 0px 1px 3px 1px rgba(0, 0, 0, 0.15);\n",
              "      filter: drop-shadow(0px 1px 2px rgba(0, 0, 0, 0.3));\n",
              "      fill: #FFFFFF;\n",
              "    }\n",
              "  </style>\n",
              "\n",
              "      <script>\n",
              "        const buttonEl =\n",
              "          document.querySelector('#df-4f72d047-d5b6-4527-8f81-3e9c83af82cc button.colab-df-convert');\n",
              "        buttonEl.style.display =\n",
              "          google.colab.kernel.accessAllowed ? 'block' : 'none';\n",
              "\n",
              "        async function convertToInteractive(key) {\n",
              "          const element = document.querySelector('#df-4f72d047-d5b6-4527-8f81-3e9c83af82cc');\n",
              "          const dataTable =\n",
              "            await google.colab.kernel.invokeFunction('convertToInteractive',\n",
              "                                                     [key], {});\n",
              "          if (!dataTable) return;\n",
              "\n",
              "          const docLinkHtml = 'Like what you see? Visit the ' +\n",
              "            '<a target=\"_blank\" href=https://colab.research.google.com/notebooks/data_table.ipynb>data table notebook</a>'\n",
              "            + ' to learn more about interactive tables.';\n",
              "          element.innerHTML = '';\n",
              "          dataTable['output_type'] = 'display_data';\n",
              "          await google.colab.output.renderOutput(dataTable, element);\n",
              "          const docLink = document.createElement('div');\n",
              "          docLink.innerHTML = docLinkHtml;\n",
              "          element.appendChild(docLink);\n",
              "        }\n",
              "      </script>\n",
              "    </div>\n",
              "  </div>\n",
              "  "
            ]
          },
          "metadata": {},
          "execution_count": 58
        }
      ]
    },
    {
      "cell_type": "markdown",
      "source": [
        "Word Overlap: Compare the overlap of words across the five dataframes. Identify common words that appear in all or most of the dataframes and explore their corresponding labels. This analysis can provide insights into the consistency or divergence of labels for frequently occurring words.\n",
        "\n",
        "Label Distribution: Analyze the distribution of labels across the five dataframes. Identify the most common labels and observe any variations or similarities in their occurrence across the dataframes. This comparison can reveal patterns or discrepancies in labeling practices.\n",
        "\n",
        "Label Agreement: Check for label agreement across the dataframes by comparing the labels assigned to the same word in each dataframe. Calculate inter-rater agreement metrics, such as Cohen's kappa or Fleiss' kappa, to assess the level of agreement among the dataframes' labeling. https://towardsdatascience.com/inter-rater-agreement-kappas-69cd8b91ff75\n",
        "\n",
        "Label Co-occurrence: Investigate the co-occurrence patterns of labels within each dataframe. Identify pairs or groups of labels that tend to occur together more frequently than expected by chance. This analysis can reveal relationships between different labels and provide insights into potential labeling biases or patterns.\n",
        "\n",
        "Label Consistency: Examine the consistency of labels within and across the dataframes for individual words. Check if there are any words that have inconsistent or contradictory labels across the dataframes. This comparison can highlight areas of disagreement or potential labeling errors that need further investigation."
      ],
      "metadata": {
        "id": "s--Paf02yRMF"
      }
    },
    {
      "cell_type": "markdown",
      "source": [
        "### Word Overlap\n",
        "\n",
        "Определим, какие слова попали во все датафреймы, посмотрим, какие у них теги, таким образом, поймем насколько последовательна разметка."
      ],
      "metadata": {
        "id": "06P3YU43ll0Z"
      }
    },
    {
      "cell_type": "code",
      "source": [
        "common_words = set(res_one['word']).intersection(res_two['word'], res_three['word'], res_four['word'], res_five['word'])\n",
        "print(\"Столько слов попали во все файлы: \", len(list(common_words)))"
      ],
      "metadata": {
        "colab": {
          "base_uri": "https://localhost:8080/"
        },
        "id": "V3uNzX9vTH6w",
        "outputId": "979a9099-1f4c-4f77-b1cf-814c5fddd105"
      },
      "execution_count": null,
      "outputs": [
        {
          "output_type": "stream",
          "name": "stdout",
          "text": [
            "Столько слов попали во все файлы:  7002\n"
          ]
        }
      ]
    },
    {
      "cell_type": "markdown",
      "source": [
        "\n",
        "\n",
        "> #### Только слова, попавшие во все выдачи\n",
        "\n"
      ],
      "metadata": {
        "id": "Wgu2KSnzqTxs"
      }
    },
    {
      "cell_type": "code",
      "source": [
        "l_of_words = []\n",
        "for word in tqdm(common_words):\n",
        "  l = [word]\n",
        "  l.append(res_one.loc[res_one['word'] == word, 'label'].values[0])\n",
        "  l.append(res_two.loc[res_two['word'] == word, 'label'].values[0])\n",
        "  l.append(res_three.loc[res_three['word'] == word, 'label'].values[0])\n",
        "  l.append(res_four.loc[res_four['word'] == word, 'label'].values[0])\n",
        "  l.append(res_five.loc[res_five['word'] == word, 'label'].values[0])\n",
        "  l_of_words.append(l)\n",
        "df_label_per_word = pd.DataFrame(l_of_words, columns=['word', '1', '2', '3', '4', '5'])\n",
        "df_label_per_word.sample()"
      ],
      "metadata": {
        "colab": {
          "base_uri": "https://localhost:8080/",
          "height": 98
        },
        "id": "rY8Wt-rinQ1d",
        "outputId": "8928d156-c618-42cc-e9f6-bb978a215029"
      },
      "execution_count": null,
      "outputs": [
        {
          "output_type": "stream",
          "name": "stderr",
          "text": [
            "100%|██████████| 7002/7002 [00:41<00:00, 167.03it/s]\n"
          ]
        },
        {
          "output_type": "execute_result",
          "data": {
            "text/plain": [
              "             word     1     2     3     4     5\n",
              "1390  бревенчатый  NORM  NORM  NORM  NORM  NORM"
            ],
            "text/html": [
              "\n",
              "  <div id=\"df-02b863d8-5cf8-43cb-8ddc-346fc5440e79\">\n",
              "    <div class=\"colab-df-container\">\n",
              "      <div>\n",
              "<style scoped>\n",
              "    .dataframe tbody tr th:only-of-type {\n",
              "        vertical-align: middle;\n",
              "    }\n",
              "\n",
              "    .dataframe tbody tr th {\n",
              "        vertical-align: top;\n",
              "    }\n",
              "\n",
              "    .dataframe thead th {\n",
              "        text-align: right;\n",
              "    }\n",
              "</style>\n",
              "<table border=\"1\" class=\"dataframe\">\n",
              "  <thead>\n",
              "    <tr style=\"text-align: right;\">\n",
              "      <th></th>\n",
              "      <th>word</th>\n",
              "      <th>1</th>\n",
              "      <th>2</th>\n",
              "      <th>3</th>\n",
              "      <th>4</th>\n",
              "      <th>5</th>\n",
              "    </tr>\n",
              "  </thead>\n",
              "  <tbody>\n",
              "    <tr>\n",
              "      <th>1390</th>\n",
              "      <td>бревенчатый</td>\n",
              "      <td>NORM</td>\n",
              "      <td>NORM</td>\n",
              "      <td>NORM</td>\n",
              "      <td>NORM</td>\n",
              "      <td>NORM</td>\n",
              "    </tr>\n",
              "  </tbody>\n",
              "</table>\n",
              "</div>\n",
              "      <button class=\"colab-df-convert\" onclick=\"convertToInteractive('df-02b863d8-5cf8-43cb-8ddc-346fc5440e79')\"\n",
              "              title=\"Convert this dataframe to an interactive table.\"\n",
              "              style=\"display:none;\">\n",
              "        \n",
              "  <svg xmlns=\"http://www.w3.org/2000/svg\" height=\"24px\"viewBox=\"0 0 24 24\"\n",
              "       width=\"24px\">\n",
              "    <path d=\"M0 0h24v24H0V0z\" fill=\"none\"/>\n",
              "    <path d=\"M18.56 5.44l.94 2.06.94-2.06 2.06-.94-2.06-.94-.94-2.06-.94 2.06-2.06.94zm-11 1L8.5 8.5l.94-2.06 2.06-.94-2.06-.94L8.5 2.5l-.94 2.06-2.06.94zm10 10l.94 2.06.94-2.06 2.06-.94-2.06-.94-.94-2.06-.94 2.06-2.06.94z\"/><path d=\"M17.41 7.96l-1.37-1.37c-.4-.4-.92-.59-1.43-.59-.52 0-1.04.2-1.43.59L10.3 9.45l-7.72 7.72c-.78.78-.78 2.05 0 2.83L4 21.41c.39.39.9.59 1.41.59.51 0 1.02-.2 1.41-.59l7.78-7.78 2.81-2.81c.8-.78.8-2.07 0-2.86zM5.41 20L4 18.59l7.72-7.72 1.47 1.35L5.41 20z\"/>\n",
              "  </svg>\n",
              "      </button>\n",
              "      \n",
              "  <style>\n",
              "    .colab-df-container {\n",
              "      display:flex;\n",
              "      flex-wrap:wrap;\n",
              "      gap: 12px;\n",
              "    }\n",
              "\n",
              "    .colab-df-convert {\n",
              "      background-color: #E8F0FE;\n",
              "      border: none;\n",
              "      border-radius: 50%;\n",
              "      cursor: pointer;\n",
              "      display: none;\n",
              "      fill: #1967D2;\n",
              "      height: 32px;\n",
              "      padding: 0 0 0 0;\n",
              "      width: 32px;\n",
              "    }\n",
              "\n",
              "    .colab-df-convert:hover {\n",
              "      background-color: #E2EBFA;\n",
              "      box-shadow: 0px 1px 2px rgba(60, 64, 67, 0.3), 0px 1px 3px 1px rgba(60, 64, 67, 0.15);\n",
              "      fill: #174EA6;\n",
              "    }\n",
              "\n",
              "    [theme=dark] .colab-df-convert {\n",
              "      background-color: #3B4455;\n",
              "      fill: #D2E3FC;\n",
              "    }\n",
              "\n",
              "    [theme=dark] .colab-df-convert:hover {\n",
              "      background-color: #434B5C;\n",
              "      box-shadow: 0px 1px 3px 1px rgba(0, 0, 0, 0.15);\n",
              "      filter: drop-shadow(0px 1px 2px rgba(0, 0, 0, 0.3));\n",
              "      fill: #FFFFFF;\n",
              "    }\n",
              "  </style>\n",
              "\n",
              "      <script>\n",
              "        const buttonEl =\n",
              "          document.querySelector('#df-02b863d8-5cf8-43cb-8ddc-346fc5440e79 button.colab-df-convert');\n",
              "        buttonEl.style.display =\n",
              "          google.colab.kernel.accessAllowed ? 'block' : 'none';\n",
              "\n",
              "        async function convertToInteractive(key) {\n",
              "          const element = document.querySelector('#df-02b863d8-5cf8-43cb-8ddc-346fc5440e79');\n",
              "          const dataTable =\n",
              "            await google.colab.kernel.invokeFunction('convertToInteractive',\n",
              "                                                     [key], {});\n",
              "          if (!dataTable) return;\n",
              "\n",
              "          const docLinkHtml = 'Like what you see? Visit the ' +\n",
              "            '<a target=\"_blank\" href=https://colab.research.google.com/notebooks/data_table.ipynb>data table notebook</a>'\n",
              "            + ' to learn more about interactive tables.';\n",
              "          element.innerHTML = '';\n",
              "          dataTable['output_type'] = 'display_data';\n",
              "          await google.colab.output.renderOutput(dataTable, element);\n",
              "          const docLink = document.createElement('div');\n",
              "          docLink.innerHTML = docLinkHtml;\n",
              "          element.appendChild(docLink);\n",
              "        }\n",
              "      </script>\n",
              "    </div>\n",
              "  </div>\n",
              "  "
            ]
          },
          "metadata": {},
          "execution_count": 10
        }
      ]
    },
    {
      "cell_type": "code",
      "source": [
        "equal_tags = []\n",
        "diff_tags = []\n",
        "\n",
        "for word in tqdm(common_words):\n",
        "  l = [word]\n",
        "  tag1 = res_one.loc[res_one['Word'] == word, 'Label'].values[0]\n",
        "  tag2 = res_two.loc[res_two['Word'] == word, 'Label'].values[0]\n",
        "  tag3 = res_three.loc[res_three['Word'] == word, 'Label'].values[0]\n",
        "  tag4 = res_four.loc[res_four['Word'] == word, 'Label'].values[0]\n",
        "  tag5 = res_five.loc[res_five['Word'] == word, 'Label'].values[0]\n",
        "  l.append(tag1)\n",
        "  l.append(tag2)\n",
        "  l.append(tag3)\n",
        "  l.append(tag4)\n",
        "  l.append(tag5)\n",
        "\n",
        "  if tag1 == tag2 == tag3 == tag4 == tag5:\n",
        "    equal_tags.append((word, tag1))\n",
        "  else:\n",
        "    diff_tags.append(l)\n",
        "df_equal_tags = pd.DataFrame(equal_tags, columns=['word', 'label'])\n",
        "df_diff_tags = pd.DataFrame(diff_tags, columns=['word', '1', '2', '3', '4', '5'])\n",
        "df_equal_tags.info()"
      ],
      "metadata": {
        "colab": {
          "base_uri": "https://localhost:8080/"
        },
        "id": "w7g13Jc7tpQM",
        "outputId": "0450a1d8-78c3-4756-aaa7-5739e7ee7847"
      },
      "execution_count": null,
      "outputs": [
        {
          "output_type": "stream",
          "name": "stderr",
          "text": [
            "100%|██████████| 7003/7003 [00:42<00:00, 163.76it/s]\n"
          ]
        },
        {
          "output_type": "stream",
          "name": "stdout",
          "text": [
            "<class 'pandas.core.frame.DataFrame'>\n",
            "RangeIndex: 4148 entries, 0 to 4147\n",
            "Data columns (total 2 columns):\n",
            " #   Column  Non-Null Count  Dtype \n",
            "---  ------  --------------  ----- \n",
            " 0   word    4148 non-null   object\n",
            " 1   label   4148 non-null   object\n",
            "dtypes: object(2)\n",
            "memory usage: 64.9+ KB\n"
          ]
        }
      ]
    },
    {
      "cell_type": "markdown",
      "source": [
        "**ИТОГО:** 4148 слов (59%), попавших во все выдачи, имеют одинаковые теги во всех случаях"
      ],
      "metadata": {
        "id": "qZ0gxAUUqt7O"
      }
    },
    {
      "cell_type": "markdown",
      "source": [
        "\n",
        "\n",
        "> #### Все слова, которые были в тестовых данных\n",
        "\n"
      ],
      "metadata": {
        "id": "4LDAVv8rMXq3"
      }
    },
    {
      "cell_type": "code",
      "source": [
        "#  сводная таблица: для каждого слова тег, если он есть в файле\n",
        "test_data = pd.read_csv(\"/content/drive/MyDrive/NLP_spring2023/test_data.txt\", encoding='utf-8', sep='\\t', names =['word', '1', '2', '3', '4', '5'])\n",
        "df_test_data = test_data.sort_values('word')\n",
        "df_test_data.reset_index(drop=True, inplace=True)\n",
        "\n",
        "for i, row in tqdm(df_test_data.iterrows()):\n",
        "  word = row['word']\n",
        "  try:\n",
        "    tag1 = res_one.loc[res_one['word'] == word, 'label'].values[0]\n",
        "  except IndexError:\n",
        "    continue\n",
        "  df_test_data.loc[i, '1'] = tag1\n",
        "  try:\n",
        "    tag2 = res_two.loc[res_two['word'] == word, 'label'].values[0]\n",
        "  except IndexError:\n",
        "    continue\n",
        "  df_test_data.loc[i, '2'] = tag2\n",
        "  try:\n",
        "    tag3 = res_three.loc[res_three['word'] == word, 'label'].values[0]\n",
        "  except IndexError:\n",
        "    continue\n",
        "  df_test_data.loc[i, '3'] = tag3\n",
        "  try:\n",
        "    tag4 = res_four.loc[res_four['word'] == word, 'label'].values[0]\n",
        "  except IndexError:\n",
        "    continue\n",
        "  df_test_data.loc[i, '4'] = tag4\n",
        "  try:\n",
        "    tag5 = res_five.loc[res_five['word'] == word, 'label'].values[0]\n",
        "  except IndexError:\n",
        "    continue\n",
        "  df_test_data.loc[i, '5'] = tag5\n",
        "df_test_data.info()"
      ],
      "metadata": {
        "colab": {
          "base_uri": "https://localhost:8080/"
        },
        "id": "LQNqHSp1_74H",
        "outputId": "80d3d90c-17d1-4295-de65-e4a2d7dbf6ca"
      },
      "execution_count": null,
      "outputs": [
        {
          "output_type": "stream",
          "name": "stderr",
          "text": [
            "10000it [00:52, 191.30it/s]\n"
          ]
        },
        {
          "output_type": "stream",
          "name": "stdout",
          "text": [
            "<class 'pandas.core.frame.DataFrame'>\n",
            "RangeIndex: 10000 entries, 0 to 9999\n",
            "Data columns (total 6 columns):\n",
            " #   Column  Non-Null Count  Dtype \n",
            "---  ------  --------------  ----- \n",
            " 0   word    10000 non-null  object\n",
            " 1   1       8428 non-null   object\n",
            " 2   2       8404 non-null   object\n",
            " 3   3       8402 non-null   object\n",
            " 4   4       8359 non-null   object\n",
            " 5   5       7002 non-null   object\n",
            "dtypes: object(6)\n",
            "memory usage: 468.9+ KB\n"
          ]
        }
      ]
    },
    {
      "cell_type": "code",
      "source": [
        "#df_test_data.to_csv(\"df_test_data.txt\", encoding='utf-8', sep=\"\\t\", index=False, header=True)"
      ],
      "metadata": {
        "id": "9XGI0XGqsVHN"
      },
      "execution_count": null,
      "outputs": []
    },
    {
      "cell_type": "code",
      "source": [
        "# в трех, четырех или пяти случаях одинаковый тег\n",
        "\n",
        "from itertools import permutations\n",
        "\n",
        "all_tags = df_test_data.values.tolist()\n",
        "best = []\n",
        "for word in tqdm(all_tags):\n",
        "  for i in list(set(permutations(word[1:], r=3))):\n",
        "    if i[0] == i[1] == i[2]:\n",
        "      best.append((word[0], i[0]))\n",
        "df_best_tags = pd.DataFrame(best, columns=['word', 'label'])\n",
        "df_best_tags.info()"
      ],
      "metadata": {
        "id": "ZTRpk5SFyA1s",
        "colab": {
          "base_uri": "https://localhost:8080/"
        },
        "outputId": "d4b69271-3f86-4744-fe36-e4b83e8c0754"
      },
      "execution_count": null,
      "outputs": [
        {
          "output_type": "stream",
          "name": "stderr",
          "text": [
            "100%|██████████| 10000/10000 [00:00<00:00, 111003.59it/s]"
          ]
        },
        {
          "output_type": "stream",
          "name": "stdout",
          "text": [
            "<class 'pandas.core.frame.DataFrame'>\n",
            "RangeIndex: 8257 entries, 0 to 8256\n",
            "Data columns (total 2 columns):\n",
            " #   Column  Non-Null Count  Dtype \n",
            "---  ------  --------------  ----- \n",
            " 0   word    8257 non-null   object\n",
            " 1   label   8257 non-null   object\n",
            "dtypes: object(2)\n",
            "memory usage: 129.1+ KB\n"
          ]
        },
        {
          "output_type": "stream",
          "name": "stderr",
          "text": [
            "\n"
          ]
        }
      ]
    },
    {
      "cell_type": "code",
      "source": [
        "#df_best_tags.to_csv(\"test_result_tags.txt\", encoding='utf-8', sep=\"\\t\", index=False, header=True)"
      ],
      "metadata": {
        "id": "5zuNYb3_scNF"
      },
      "execution_count": null,
      "outputs": []
    },
    {
      "cell_type": "markdown",
      "source": [
        "**ИТОГО:** 6963 слова, имеющие одинаковые теги в большинстве случаев"
      ],
      "metadata": {
        "id": "dT8usThKzGQ5"
      }
    },
    {
      "cell_type": "markdown",
      "source": [
        "\n",
        "## Распределение тегов\n",
        "Графики из R"
      ],
      "metadata": {
        "id": "qkcrm4zFzTZB"
      }
    },
    {
      "cell_type": "markdown",
      "source": [
        "![image.png](data:image/png;base64,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)\n",
        "![image.png](data:image/png;base64,iVBORw0KGgoAAAANSUhEUgAAAb4AAACfCAIAAAAJaCuZAAAgAElEQVR4nO3deVwT19o48DNJSAhBlpIQ3ECiIsjmAoggSOtSbauixYXWNdWrVHHBWlt7Lchtq0ixILcW73WrtZ/a2gW5reJCVRDB1gp4ZbOCUBYVRAgiSwjJ74953/nlDdkmzJgBn+9fk5PhzDNnJg+znoOpVCoEAACADJa5AwAAgP4HUicAAJAGqRMAAEiD1AkAAKRB6gQAANIgdQIAAGn9NXVGRUVhGNbV1UX2D2UyGYZhBw8eNG2548ePX7hwodavUlJSMDU8Hi8gIGDLli0ymUx9Ng8Pj1WrVhlc0Pnz52NjY/XMQNTTxzXSWJCR4ZFlcrVffvkl9n9xOByJRLJ69eq6ujrK49SgvrkNbpG8vLzw8PAhQ4Y4OjrOmjXrxo0bdIcHzIhj7gAGmi1btgwdOhQh1NLSUlBQsH///p9//vmXX35xc3PDZ3B2dnZ0dDRYT05OTnJy8q5du3TNYGQ9ZBdEVbUa+ljt3/72N6IBOzo6CgoKjhw5kp+f/8cff/B4PIpiNED/FsnKypozZ46zs/OGDRtYLNYXX3wRFBT022+/jRs37tmEB54xSJ0UW7Fiha+vL/HxwoULCxYs2LhxY2ZmJl5y7ty5Pi6itbXVxsam7/VoZUK1PT09GIaxWPrOYLRWa8wf4hYtWjRt2jT1kvXr1x84cODy5csvv/wy2YDpsH37dgcHh5ycHJFIhBBatWrV2LFjd+zYcebMGXOHBmjRX0/YDTp69GhAQICtra1QKJw+ffq1a9fUv1WpVHv37vX29ra3t582bdpvv/2m/m1hYeGrr77q6OgoEokWLlx4584dk8OYMWNGVFTUuXPn8vPz8RJvb2/i1LWxsTEqKmrEiBFWVlaenp5paWl4eUhIyEcffdTW1oZhWFJSEkLI399/y5Yt58+fDwgIWL9+vUY9+tdo9OjRUVFR6lFZWFgkJCRoXZBGtRcuXAgLC7O3tx81apRUKn38+DHx1eTJk6Ojoz/55BM7OzsLC4uRI0empqbqagf1akn9oZ6GRQhVVFQQJXq2mq521t846no3lDq5XH7z5s3FixfjeRMhJBaLp02bBufsA9jATJ179uyRSqUjRoxITExcvXp1ZWXl7Nmz1X/2+/bt279//8KFCzdt2lRWVhYSEkKktuzs7MDAwMbGxh07dsTExOTn5wcGBt69e9fkYN566y282t5fhYeHnzx5cs6cOR9//LFQKIyKijp16hRC6NChQ1KplM/n37hxY+nSpfjMJSUlb7zxRkhIyIoVK3pXpWeN9NC6IMKpU6dmzZrV2dkZFxe3ePHi77//fsKECW1tbcQMGRkZiYmJf//7348fPy4Wizdu3GjkQavJf0hobGxECA0bNgz/qH+r6Wpn4+lvKLlcHhsb+/rrr6sXVlZW8vl8UksB/Ymqf1q3bh1CqLOzU+u3kyZNGj16tEKhwD/m5uYihC5evKhSqVpaWhBCfD6/qqoK/7a6utra2nrGjBn4xwkTJgQEBBB/e//+fTs7uzfeeAP/OG7cuIiICK0LTU5ORggVFhZqlHd2dmIYtnbtWvyjl5fXypUrVSpVTU0NQuizzz7Dy1taWsaOHbt9+3b849///ndra2uiEj8/P4TQpUuXiBKiHoNrNGrUqHXr1qmHxOFw9uzZo3VBRLXd3d0SicTPz6+rqwv/6urVqwihTz75BP8YGBiIEMrOzsY/NjY2slis999/X2vjENWS/cNjx44R2w7X0dGRk5Pj6uo6YcIEuVyOF+rZavrbWX/jqG9ujYbS7/Tp0xiGbd261cj5Qb8zMI86s7OzS0pK2Gw2/vGvv/5CCHV2dhIzLFy40MXFBZ92dnZeunTppUuXFArF/fv3b968uW7dOuJvnZycZs+efenSJZOD4fF4tra29fX1vcsxDEtPT6+urkYI2draFhcX79mzR1c9bm5uYWFhur7VtUYmh11WVlZZWblhwwYul4uXBAcHBwQEnD17lpjH3d09JCQEnxYKhUKhsKOjw5jKyf7h9OnTiTvsfD4/JCTE3t7+119/tbCwQAjp32pk27mPenp6kpKSFixY4OPj8+GHH9K0FGB2A/M2EZfLzcrKyszMLCsru3Pnzp9//qkxw9ixY9U/ent7KxSKmpoa/AhFKpVKpVL1GfCfqGnkcrlMJhsyZIhGuUgk2rVrV1xcnEQi8ff3f+mllyIjI729vXXVM2LECD1L0bVGrq6upoVdWVmJEPLw8FAv9PDwuHjxoq6QjLnhY9ofqt9hl8vlN27c+PHHH3fu3Ll//36EEL59dW01su3cF4WFhatWrSosLFy+fHlqaqqNjQ0dSwFMMDBT57Zt2z799NPQ0NCpU6dGRkY6OjridxUIGIapf8SPVng8nqWlJULoiy++8Pf3pyoY/DxaIpH0/mrnzp1Lliz54YcfLly4kJSUtGfPnk8//TQmJkZrPVZWVnqWomuNtM6sVCoNhq3S1hshi8VSP5LlcEzcf8j+Ye877IsXLz548GBCQgKfzze41Ui1szGNo9X+/fvfeecdHx+f3NzcoKAg0yoB/cUAPGF//Pjxvn37YmNjr1y5Eh8f/8Ybb/Q+4istLVX/ePv2bUtLy8GDB+MJDsOwiWqampqamppMjufo0aMIIeL8lNDc3FxcXOzi4vLee+9lZWVVV1f7+/vv3LnTtJ+urjXCP6rnwdraWmMWgTdFeXm5emFZWdnIkSNNCI9ygYGBcrm8oaEB/W+ouraawXY2oXF6O3HixKZNmzZs2JCfnw9583kwAFNnRUWFUqlUT5cZGRka83z33Xf4uTlCqK6u7ssvv5w3bx6GYUKhMDg4OCUlBb/3ghAqKCh45ZVXsrKyTAvm0qVLn3/++csvvzx58mSNr65fv+7l5UVcOnRycvL392exWMQvWetxny661gghxOPx1C9Z4KlcndYFubu7jxgx4p///Gd3dzdekpeXl5eXN2vWLOOjog9+QN3a2ooQ0r/V9LezwcZRp2uL9PT07NixIzQ0dN++fSYfiYP+pX9v5tTUVI2rkDNnzvT09BSLxR9//HFbW5tYLP7ll1/wW8MZGRkTJ07EnxdRKBRTpkxZt26dUqlMS0vDMCwuLg6vYffu3TNmzJgyZcry5cstLCxSUlKEQuHGjRuNDOnrr7++fPkyQkgmkxUUFPznP/9xdXXFL8lpCA4OHjp0qFQqjY6OHjx4cG5u7jfffLNmzRr8XFsgEDx9+vTw4cOhoaGjR482uFw9axQSEpKWlrZp06bQ0NCrV6+mpqaqn8jrWpCFhcWePXsiIyNffPHFyMjIhoaG5ORkFxeXLVu2GNkUtBIIBAih6upq/Kqlnq2mv531N47GEnVtkZs3b9bU1Hh6emq8a2RjY8OQ5gLUM9u9/b7BH07q7dixYyqV6vfff58yZYq1tfWoUaM2bdr05MmTFStWWFtbnzhxAj8wOXny5Jo1ayQSyQsvvPDKK6+UlpaqV37jxo2ZM2c6ODiIxeKIiIg7d+4QXxl8OInA5XInTpy4cePGlpYW9dnUH9O5ffv23LlzxWIxn8/38PDYvXs38SRQdXX1pEmTLC0tDxw4oFKp/Pz8wsPDtdZjcI1kMtnKlSuFQiFCCE8r7u7uxPM3GgtSD0+lUmVmZoaGhtrZ2UkkklWrVjU1NRFfBQYGvvbaa+ohOTk5bd68WWvjaDycZPwf9n44CXfz5k2E0IQJE4gSPVtNTzvrbxz1za3RUOpOnjypdW8cNmyY1pUCAwCmgrGJnhvNzc0WFhbW1tbmDoSJoHEAKZA6AQCAtAF4mwgAAOgGqRMAAEiD1AkAAKRB6gQAANIgdQIAAGmQOgEAgDRInQAAQBqkTgAAIA1SJwAAkNYvu/9oa2vr6emhqXKBQCCXy4nughjFwsKCy+U+ffrU3IFox+fze3p65HK5uQPRgs1mW1padnR0mNwdJ63wLkfVBzJgDgzDrKysOjs76fvR9QWXy2Wz2UYOT2ACCwsLrV3l9svU2d3dTd9W5HA4XV1dzEydHA6Hw+EwMzaEkLW1dU9PDzPDwzCMw+EoFApm/v7xDr2Y2XRsNpvD4SiVSmaGh6dO+mLT6EScACfsAABAGqROAAAgrV+esIPnzV8fTDB3CP+f88c3zR0CMD/qU2dGRkZ6erpcLvf19Y2OjsavfxcXF6elpbW2toaEhEilUnwEROMLAQCAUShOTPfu3UtPT9+7d29aWlpLS0t6ejr635Gp16xZc/DgwT///DM7O5tUIQAAMA3FR50PHjwICwvDhysICAioqqpCCBUVFQmFQh8fH4TQnDlzLl68GBYWZnwhtREC8Fyh5FrHvb5XgRAaWNc6KE6dkydPnjx5skwmq6qqunLlSmRkJEKooaFh+PDh+AzDhw9vbGwkVQgAAExDy22i8vLyL7/8UqVS4XnwyZMn+GNrCCE+n48PAGt8IS4jI+PUqVP4dHx8PJFh6cDn83UNi2he+JVfOzs7cweiHYvF4vF4GmOUUuIvymvsAzraHx+ek46aB3zTsVgsDMPo+1HoeoeCltQZEBAQEBCQnp6elpYWFxdnbW398OFD/KuOjg585CzjC3EODg4eHh7/EzSHo1Ao6Igcr7ynp4eZD06z2WwWi0XfuvcRm81WqVSMDY8qdKwg/k8Rms4EHA6HzWY/+6ajOHX+9NNPNjY206ZNQwi5u7ufOXMGISQWi4kbPvX19WKxmFQhLjg4ODg4GJ9ubm5ua2ujNnKCpaWlXC6n772uvuDz+RYWFvStex9ZWFjI5XLGvidKFTra38bGhqaaGYWOFRQIBBiG0dd0XC4Xf0xIA8V32IVC4c8//3z//v2nT5+eOXNm7NixCCFfX9/79+9XVlYqlUp8XG9ShQAAwDQUH3WGhITU19fv3Lmzq6vL29s7KioKIcRms997772UlJSurq6AgIAXX3yRVCEAADBNvxyHvbm5mb5rkUKh8OnTp4w9YRcIBI8ePTJ3INrZ29vTdMI+4N8mwk/Y1e+LUmXAN51AIOByuc3NzZTXjONyufjW0QDv6gAAAGmQOgEAgDRInQAAQBqkTgAAIA1SJwAAkAapEwAASOuXXR3z+XxdA4ZQgsfjcThMbBn8TedBgwaZOxDtWCwWl8sd8F2s0tH++P7G2C1LFZqajsVi0dd0uh7fZGKCMKijo4O+5zp5PF5XVxdjn+vkcDhPnjwxdyDa0fdcJ6PQ0f74k4OM3bJUoWMF8ec66Ws6E1/EnD17tkZJS0tLREQEZXEBAEA/pP2os62t7eDBgwihzMzMpKQk9a8qKysvX778LEIDAACm0p46Ozo68LExEELEBI7FYiUkJNAeFwAAMJj21CkSiXJychBC/v7++AQAAACCgdtEv//+e2dnZ11dnUb5yJEjaQsJAACYzkDq/P7775ctW9bZ2alR3h/7WwIAAKoYSJ3bt28PDw/ftWuXg4ODkTXm5+d//fXXjx8/HjlyZHR0tEgkQjAOOwBgYDGQmPB+i93c3Bz+L13zNzQ0JCcnR0dHHz58WCwWf/HFFwjGYQcADDgGUqdEIikrKzO+upKSEh8fHzc3N0tLy3nz5pWXlyO1cdgtLS3nzJmDP9tkfCEAADCNgRP2jz76KDo6ury8fOLEierj606dOlXr/IGBgX5+fvh0RUUFfjeJknHYy8vLi4uL8emgoCD1wTIpx+FwtL4/YHb463rMjA0hhGEYY5uOQnSsID4iLjSdCTgcDq1Np+uaoYHUuWjRIoTQhx9+qFHe3d2tdX5iBXJyco4ePfree+8hisZhz83NPXDgAD79zTffODk56Y+8L3g8HjPHYcfR+m+jj1gsFh3jsDMKfe3P5C1Lif7YdLqGKTaQOnWlSD2ePHmSkpLy6NGjXbt2ubi4IDJDrusZh10qlUqlUny6ubmZvvF5YGwikz0n77DT0f70jU3EKHQ0HUPHJpLpoGv+7u7uDz/8cMiQIZ999hmeNxFCYrGYeDJUfch1IwsBAIBpDKROOx10zZ+Xl8fn86VSqXqncDAOOwBggDFwwq5+e727u7uoqGjHjh0ffPCBrvnv3r17+/btuXPn4h9tbGxOnDgB47ADAAYY0uOwZ2VlzZo16/Hjx2bslhXGYTd3INrBOOwmg3HYTcbQa529OTk5KZVKLpdLRVQAANAvGThhJx6lxLW0tOzevXvMmDFMfnYHAADoZiB1enl5aZQ4OjoeP36ctngAAKAfMJA629raNEoEAgFtwQAAQP9gIHUKBAKVSpWdnV1WVqZQKDw9PadOnUrraJQAAMB8BlLno0ePZs+eXVBQ4OLiwmKxqqqqxo8ff/bsWeP7oKODhYUFrYP9cjgcZl7MxdeambEhhDAMY7PZjA2PKnSsIP6iNDSdCdhsNoZh9DWdie+wb9q0ic1mV1ZWOjs7I4RqamoWLVq0ZcsW817ufAaHvUw+smZ4bEwOjxI0rSA0XV/qpK/pdNVsIHVmZWV9++23eN5ECA0fPjwxMXHhwoUUR0eSXC6n77lOa2trhULRu2N8JsD/uzIzNoQQn89nbNNRiI4VxJ/2g6YzAZvNZrFY9DWdrgcxTemDHUbXAAA85wykzmnTpm3fvr2mpgb/WFNTs23btunTp9MfGAAAMJeB1JmSkqJUKl1dXUePHj169GiJRKJQKJKTk59NcAAAwEwGrnUKhcLr169fuXKlpKQEIeTh4REWFjbgL2YDAIB+hh/xwTAsLCwsLCzsGUQDAAD9gs4T9vb29kOHDp0/fx7/ePfu3SlTpvzjH/9ob283pt5r166p9zBfXFwcHR29YsWKQ4cOKZVKsoUAAMAo2lPngwcPAgMDt2zZQvSCZWdnJxKJEhISfH19DXZ6VldXt3//fiJ1wmDCAIABRnvqjIuL6+7urqysjIiIwEuEQuFPP/303//+Vy6X9x7lTV1CQsLmzZvVD05hMGEAwACjPXVmZmZu3bpVJBJplLu6ur7zzjtZWVl6aty+ffupU6fUnyOlZDBhAABgDu23iRobGyUSidavPD09a2trSS2DksGEjxw5oj6Y8OjRo0nFQIpAIGByB1FCodDcIejE5/OJLUihvyivsQ/oa386aoam6yNygwm7ubmVl5e/9NJLvb8qKSlxdXUltWxKBhMODg4mhpMbNGhQ797wqGJtbd3V1WXCKMrPgIWFBY/Ho2/d+8jKyqqnp6erq8vcgdCLjva3tLTEMIyZw7pQiI6m4/F4bDbbyNvXJmCxWFo7G9KeOmfNmvXpp58uWbLE3t5evbyxsTEhIYG4AGoksVhM3PBRHzfYyELcmDFjxowZg083NzfT98oqvMNuMniH3WTwDrvJmPUOe2xsrEAgGD9+/IEDBwoKCh48eFBQUJCamjp+/HhLS8v4+HhSy4bBhAEAA4z2o05LS8vr168nJCRs376dOMbm8/lvv/32rl27yF4HhMGEAQADjIHBhFUqVVVVVVVVlbOzs6urq65eP58xGEzY3IFoB4MJm+z5HEyYUbEhHVtW12DCBl7ExDDM1dWV7H0hAAAY2BhxFAkAAP0LpE4AACANUicAAJAGqRMAAEiD1AkAAKTROJo5faysrGh9TMrS0lLXKwTmha+1ra2tuQPRjsVi8Xg8rW+tDSR0tD/eaIzdslRh+ApqDU9Xr8H9ci9vb2+n9bnOzs5OJj/XKZPJzB2IdvQ918kodLQ/fc91Mgpjd12c1vC4XC6Px+tdDifsAABAWr886tSFkpcTqOqki453TujDqKZD/a31wHMIjjoBAIC0AXXUCcCz1y9exAaUg6NOAAAgDVInAACQxrgT9uLi4rS0tNbW1pCQEKlUypBu7gAAQB2zUic+DvvmzZvd3NxiY2Ozs7PDwsLMHRRlGHVRDK6IAdAXzDqmg3HYAQD9ArOOOvWMw56bm3vlyhV8etmyZb3HiGca9eE8GQjCMxmTY0PMDo/JsSGS4TErdeoZh72pqam0tBSfVigUWl+U9vm8su8xcDgcpVKp68XVvuh7eCwWi8Vi6RoYui8oaTo2m61SqZjZdBiGsdnsnp4e/SPKmICqpkMI0fF68YBvOhaLhWEYfW9m94932PWMwz537ty5c+fi083NzS0tLTTFIBQKOzo6mPwOO33r3kdMfocdH2GmtbWVvt9YXzD5HXY2m21vb//06VO5XG7uWLQQCARcLpe+HwWXy9XaGRCzrnWKxeK6ujp8WmMcdgAAYA5mHXX6+vru37+/srJyxIgRmZmZU6dO1Tobi8Wi46wQJ5PJlEolhmE01d8XcrlcoVAwMzaEUFtbG2ObTqFQyGQylUrFzPDa29sRQsyMTalUymSynp4eZobX1dXV1dVFX2w6a1YxTGlp6caNG9euXXv48GGlUvnsA/Dz8zt58uSzX64xTp486efnZ+4odJo/f35iYqK5o9Du2rVrEydOrK6uNncg2m3atCk6OtrcUWhXW1s7ceLEq1evmjsQ7ZKSkubNm/fsl8uso06EkLu7e0pKirmjAAAAfZh1rRMAAPoFxh11mt38+fNHjhxp7ii0Gzly5Pz5880dhU4zZ86USCTmjkI7sVi8YMECxj5XGBQUpKL60R+qCASCBQsWODk5mTsQ7fA3aJ79cjHGbjAAAGAsOGEHAADSnscT9kWLFikUCqJPJg6Hc/LkSYTQ0qVL29vbWSyWSqXicrl+fn7R0dFcLldXOR2xnT179syZMw8fPrSxsQkODo6MjMRPRnTFjBA6d+7chQsXamtrxWJxUFBQREQE/moKhZqamlatWhUTE0P0xpKenv7w4cO1a9dqDSw5OZnP569duxYhVF9fv27duri4uAkTJiCEMjIycnNzExIS6AsJ6W4TrZuypaVl9erV4eHhUqmUqH/Hjh1//fXXiRMn+hgngVRI+N6la2egQ2RkZFdXFx6Go6PjypUrJ02aRPaXQlNsCKGKioojR45UVVUJBAJfX981a9Zwudz29vYlS5akp6er96+mf8eg0POYOhFCBw4c0HrtJjk52dnZGSEkk8m2bt165syZ8PBwPeXUSk9Pv3z58oYNGyQSyb17944fP/7ZZ5+9//77emI+cuTIrVu33n77bYlEUl9f/+9//7uiomLHjh2Ux8Zms48ePerv7y8QCDS+6h2Yl5fXmTNn8OmioiIej1dYWIinzvLyck9PT1pD0t8mvTdlUFAQl8vNz88nUmdra2tlZSWFoyKTDSk8PFz/zkCH1NTUoUOHdnV1nT17Nikp6dixY4j8L4UOPT098fHxy5YtCwkJaW1t/f7775OSkvQ0hZ59lUJwwq6dra3txIkTHz16ZGR53z1+/Pjbb7/duXPnmDFjLCws3NzcYmJi2Gx2Z2enrj+pra09f/58bGysm5sbh8NxdnbeuXPn3bt3CwsLKQ9PIBBMmjTJyKMwT0/Pe/fu4e/t3bp167XXXisqKsK/unPnjpeXF30hGd8m6ptSIBA4ODhUVv7PK9W//fYbnugpYUJIJuwMVOHxeK+++mp3d/eDBw+MmZ++XwShqampra0tNDSUx+OJRKKlS5fqP8Ilta+aDFKndnV1dbdu3er9+9FV3nd37twZM2aMg4MDUfLCCy+8++67es7RiouLfX197e3tiRIulztlypRbt25RHh5CaNmyZbm5uXfv3jU45+DBg21sbCoqKlQq1e3bt+fPn//o0SOZTCaTyRobG93d3ekLyfg20diUQUFBeXl5+HReXt7kyZOpCtKEkEzYGagil8szMzPZbLajo6Mx89P3iyA4Ojo6Ojru2rUrLy+vvb190KBBW7du1f8nxu+rJntOT9jffvtt4vqIRCLZu3cvPh0TE4Nfwenq6nrllVeIHUJXOYXwS1r4dElJSVxcHD69bds2f39/rTE3NDQIhUKNekQiUVlZGeXhIYQGDRq0fPnytLS0xMRE9XKtjenl5VVWVmZpaSkSiWxsbLy8vG7dumVpaenq6mplZUVfSAbbpPembGhoQAgFBgbGxcW9+eabnZ2d1dXVFOZ3E0I6ffq0/p2BDps3b8YwTKFQ2Nvbx8TE4A9ykf2l0CQpKen06dOnTp1KTEz08fGRSqX45QJddO2rFHpOU6euKzj79u3DN0llZWVsbGxwcLC3t7eecgqJxeKrV6/i02PHjv3uu+8QQvHx8cTb+r1jFolEBQUFGvU0NTUNHjyY2tgI06ZNO3/+/Llz59QLtTaml5dXUVERhmE+Pj4IoXHjxhUVFdnb21N1oVNXSAbbpPemxHuZEYlEPB6vtra2urp6woQJFI7sYlpI+ncGOiQnJw8dOlSjkOwvhSZWVlaRkZGRkZEymSw9Pf3dd9/96quv9P+J1n2VQnDCrp1EIvHx8ampqTGyvO/c3d2rq6urq6uJks7Ozjt37uj5E09Pz6KiIvXutuRy+dWrV6m6mNgbhmFRUVFff/21wT6+PD09y8rKbt26RaTOwsJCCu8R6QrJ+DbpvSmDgoKuXbuWl5cXGBhIYYQmhGTCzmAu9P0iCBcvXiRuCtna2q5YsYLH41VVVen/K+P3VdNA6tTJ2toa78/GyPI+srOze/311xMSEkpKSnp6eh4+fLh37179jxkNHz58+vTp8fHxFRUVSqWyrq7uk08+cXd3HzduHOXhEVxdXUNDQ4kb6Hpi6+7uvn379tixYxFC+BFWcXEx/pG+kEi1icamnDx5ck5OTmlpqa+vL4XhmRCSCTuDGdH0iyCMHz/+3r17ly9flsvlSqUyOzsbIeTi4mLwD43cV03znJ6wR0dHq/cllZiY2HtLDBkyJDc3NyIiwsjyvlu8eLGdnd2//vWvhw8fDhs2bPHixa2trcS7g1pjXr169dmzZz///PP6+no7O7uQkBA6AtPw5ptvEqeTugLDMMzT01MmkxF3NsaPH19SUmJra0t3SMa3Cb4pQ0ND8Y9Dhw5VKpWenp6UJymyIUVEROjfGZ6ZvvxSqOLg4JCQkHDo0CG8N7VRo0bFxsZyuVx8uIQlS5YQcyYEEZQAAALgSURBVMbFxWl08quxr1IIXsQEAADS4IQdAABIg9QJAACkQeoEAADSIHUCAABpkDoBAIA0SJ0AAEAapE7QX3l7exvfCdv169dJjTeLj517/fp1k0IDAx+kTgAAIA1SJwAAkAapEww0d+/eDQ8PF4vFNjY2YWFhRC/LCKHs7Gw/Pz9bW9upU6cS5a2trevWrXNxcbG1tZ0zZ05tba2ZAgf9CaROMNDMnTu3tbX1m2++OX36tEqlWrNmDfGVVCp9//33f/75Z2tr66lTpzY1NSGE5s+fX15e/tVXX128eNHGxubll1+mqa8dMJA8p91/gIFKpVK99dZbCxYscHV1RQjV1tbGxMQQ3yYlJc2bNw8h5OfnN2LEiGPHjk2ZMiUnJ6ehocHOzg4hdPz48aFDh/7www8rV6401yqAfgFSJxhQMAxbv359RkbG4cOHy8rKfv31V/VukIhREvl8flBQUGlpqYODQ3d3t0gkIuZRKBT19fXPOm7Q30DqBANKW1tbSEgIh8NZtGjRypUr58yZ884772idk81mc7lcW1tbJyen+/fva3zb09NDf7CgH4NrnWBAuXTpUklJyfnz57dt2/baa69pDAh85coVfKKzszM3N9fb29vT0/Phw4elpaV4eV1dXWBgIE3j4oGBBI46QT92//79P/74g/jI5/MdHBzkcvmPP/44c+bM33///YMPPmhvbyeGul2/fj1CSCQS7d69GyG0fPlygUAwf/788PDwlJQULpcbHx/f1tZG+SggYABSAdA/9R7bZ9y4cSqV6uOPP3ZycnrhhRciIiLKyso8PDz8/f3z8/OHDBmSmprq4eFhY2MzY8aMP//8E6/n6dOnUVFRw4YNs7OzCw8Pr6qqUqlUeA/k+fn55lxDwGDQSzwAAJAG1zoBAIA0SJ0AAEAapE4AACANUicAAJAGqRMAAEiD1AkAAKRB6gQAANIgdQIAAGmQOgEAgDRInQAAQNr/A7Dytx3PIJ0QAAAAAElFTkSuQmCC)\n",
        "![image.png](data:image/png;base64,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)\n",
        "![image.png](data:image/png;base64,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)\n",
        "![image.png](data:image/png;base64,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)"
      ],
      "metadata": {
        "id": "egzeQ1BdaWqd"
      }
    },
    {
      "cell_type": "markdown",
      "source": [
        "![image.png](data:image/png;base64,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)"
      ],
      "metadata": {
        "id": "Agl09UAdbqmq"
      }
    },
    {
      "cell_type": "markdown",
      "source": [
        "![image.png](data:image/png;base64,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)"
      ],
      "metadata": {
        "id": "MeyVLzPWcHTC"
      }
    },
    {
      "cell_type": "markdown",
      "source": [
        "Можно сделать два основных вывода:\n",
        "\n",
        "1.   Во всех прогонах получается довольно стабильное распределение по тегам\n",
        "2.   В 4 и 5 прогоне возник тег VERB, которого не было в специализации; результаты этих прогонов резко отличаются от трех предыдущих (соотношение NORM/PER)\n",
        "\n"
      ],
      "metadata": {
        "id": "LkJjBaimbA_2"
      }
    },
    {
      "cell_type": "markdown",
      "source": [
        "## Последовательность разметки первых трех иттераций"
      ],
      "metadata": {
        "id": "Fe4PzKAXl6Z4"
      }
    },
    {
      "cell_type": "code",
      "source": [
        "common_words3 = set(res_one['word']).intersection(res_two['word'], res_three['word'])\n",
        "print(\"Столько слов попали в первые три файла: \", len(list(common_words3)))"
      ],
      "metadata": {
        "colab": {
          "base_uri": "https://localhost:8080/"
        },
        "id": "y1F8xKIZVeBO",
        "outputId": "28f1478e-749d-4a37-e045-d73f60efdcd9"
      },
      "execution_count": null,
      "outputs": [
        {
          "output_type": "stream",
          "name": "stdout",
          "text": [
            "Столько слов попали в первые три файла:  8410\n"
          ]
        }
      ]
    },
    {
      "cell_type": "code",
      "source": [
        "equal_tags3 = []\n",
        "diff_tags3 = []\n",
        "\n",
        "common_words_with_tags3 = []\n",
        "for word in tqdm(common_words3):\n",
        "  l = [word]\n",
        "  tag1 = res_one.loc[res_one['word'] == word, 'label'].values[0]\n",
        "  tag2 = res_two.loc[res_two['word'] == word, 'label'].values[0]\n",
        "  tag3 = res_three.loc[res_three['word'] == word, 'label'].values[0]\n",
        "\n",
        "  l.append(tag1)\n",
        "  l.append(tag2)\n",
        "  l.append(tag3)\n",
        "\n",
        "  common_words_with_tags3.append(l)\n",
        "\n",
        "  if tag1 == tag2 == tag3:\n",
        "    equal_tags3.append((word, tag1))\n",
        "  else:\n",
        "    diff_tags3.append(l)\n",
        "\n",
        "common_words3_df = pd.DataFrame(common_words_with_tags3, columns=['word', 'r1', 'r2', 'r3'])\n",
        "\n",
        "df_equal_tags3 = pd.DataFrame(equal_tags3, columns=['word', 'label'])\n",
        "df_diff_tags3 = pd.DataFrame(diff_tags3, columns=['word', '1', '2', '3'])\n",
        "df_equal_tags3.info()\n"
      ],
      "metadata": {
        "colab": {
          "base_uri": "https://localhost:8080/"
        },
        "id": "RA0XAB35l5cR",
        "outputId": "77342364-a634-4bcd-eb41-f10a676052e8"
      },
      "execution_count": null,
      "outputs": [
        {
          "output_type": "stream",
          "name": "stderr",
          "text": [
            "100%|██████████| 8410/8410 [00:33<00:00, 248.00it/s]"
          ]
        },
        {
          "output_type": "stream",
          "name": "stdout",
          "text": [
            "<class 'pandas.core.frame.DataFrame'>\n",
            "RangeIndex: 7777 entries, 0 to 7776\n",
            "Data columns (total 2 columns):\n",
            " #   Column  Non-Null Count  Dtype \n",
            "---  ------  --------------  ----- \n",
            " 0   word    7777 non-null   object\n",
            " 1   label   7777 non-null   object\n",
            "dtypes: object(2)\n",
            "memory usage: 121.6+ KB\n"
          ]
        },
        {
          "output_type": "stream",
          "name": "stderr",
          "text": [
            "\n"
          ]
        }
      ]
    },
    {
      "cell_type": "markdown",
      "source": [
        "**ИТОГО:** 7777 слов (92%), среди попавших в первые три выдачи, имеют\n",
        "одинаковые теги во всех случаях"
      ],
      "metadata": {
        "id": "zNsgsT7jpdID"
      }
    },
    {
      "cell_type": "code",
      "source": [
        "common_words3_df.to_csv(\"common_words3_df.txt\", encoding='utf-8', sep=\"\\t\", index=False, header=True)"
      ],
      "metadata": {
        "id": "4uMH_1wOAT8Q"
      },
      "execution_count": null,
      "outputs": []
    },
    {
      "cell_type": "code",
      "source": [
        "inconsistent_labels = []\n",
        "for word in list(common_words3):\n",
        "    labels = set(res_one[res_one['word'] == word]['label']).union(res_two[res_two['word'] == word]['label'],\n",
        "                                                          res_three[res_three['word'] == word]['label'])\n",
        "    if len(labels) > 1:\n",
        "        inconsistent_labels.append((word, labels))\n",
        "print(f\"\"\"Из {len(common_words3)} слов, попавших в первые три результата, {len(inconsistent_labels)} имеют отличную разметку ({len(inconsistent_labels)/len(common_words3) * 100}%)\"\"\")"
      ],
      "metadata": {
        "colab": {
          "base_uri": "https://localhost:8080/"
        },
        "id": "G08OHnzza64D",
        "outputId": "5bbb74ca-6699-4192-f537-e6c7e1ec65ea"
      },
      "execution_count": null,
      "outputs": [
        {
          "output_type": "stream",
          "name": "stdout",
          "text": [
            "Из 8410 слов, попавших в первые три результата, 683 имеют отличную разметку (8.12128418549346%)\n"
          ]
        }
      ]
    },
    {
      "cell_type": "markdown",
      "source": [
        "## Согласованность разметки -- [коэффициент Каппа Коэна](https://scikit-learn.org/stable/modules/generated/sklearn.metrics.cohen_kappa_score.html)"
      ],
      "metadata": {
        "id": "DH6a-xJq4UOs"
      }
    },
    {
      "cell_type": "markdown",
      "source": [
        "Сравниваем теги, которые получило одно и то же слово во всех результатах\n",
        "\n",
        "Посчитаем [коэффициент Каппа Коэна](https://towardsdatascience.com/inter-rater-agreement-kappas-69cd8b91ff75) -- оценку, которая выражает уровень согласия между двумя аннотаторами по проблеме классификации. ([на русском](https://runebook.dev/ru/docs/scikit_learn/modules/generated/sklearn.metrics.cohen_kappa_score))"
      ],
      "metadata": {
        "id": "mkwWRtYGckbF"
      }
    },
    {
      "cell_type": "code",
      "source": [
        "from sklearn.metrics import cohen_kappa_score\n",
        "import pandas as pd\n",
        "\n",
        "# соединяем датафреймы по слову\n",
        "merged_df_1_2 = pd.merge(res_one, res_two, on='word', suffixes=('_1', '_2'))\n",
        "merged_df_1_3 = pd.merge(res_one, res_three, on='word', suffixes=('_1', '_2'))\n",
        "merged_df_2_3 = pd.merge(res_two, res_three, on='word', suffixes=('_1', '_2'))\n",
        "\n",
        "kappa_score_1_2 = cohen_kappa_score(merged_df_1_2['label_1'], merged_df_1_2['label_2'])\n",
        "kappa_score_1_3 = cohen_kappa_score(merged_df_1_3['label_1'], merged_df_1_3['label_2'])\n",
        "kappa_score_2_3 = cohen_kappa_score(merged_df_2_3['label_1'], merged_df_2_3['label_2'])\n",
        "\n",
        "print(f\"\"\"Kappa score для result1 and result2: {kappa_score_1_2}, \\n\n",
        "  для result1 и result3: {kappa_score_1_3}, \\n\n",
        "  для result2 и result3: {kappa_score_2_3}\"\"\")\n"
      ],
      "metadata": {
        "colab": {
          "base_uri": "https://localhost:8080/"
        },
        "id": "Camm1s9fX556",
        "outputId": "f89df9c9-0e20-48e5-933c-2b01456c3d39"
      },
      "execution_count": null,
      "outputs": [
        {
          "output_type": "stream",
          "name": "stdout",
          "text": [
            "Kappa score для result1 and result2: 0.8926768029577331, \n",
            "\n",
            "  для result1 и result3: 0.9309155201639149, \n",
            "\n",
            "  для result2 и result3: 0.9220555172532212\n"
          ]
        }
      ]
    },
    {
      "cell_type": "markdown",
      "source": [],
      "metadata": {
        "id": "UHMIpudn7Ed5"
      }
    },
    {
      "cell_type": "markdown",
      "source": [
        "# Оценка результатов разметки"
      ],
      "metadata": {
        "id": "44oWAvHEdvym"
      }
    },
    {
      "cell_type": "markdown",
      "source": [
        "![image.png](data:image/png;base64,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)"
      ],
      "metadata": {
        "id": "fm592MFgbL6c"
      }
    },
    {
      "cell_type": "markdown",
      "source": [
        "Так как для части данных есть ручная разметка, используем ее"
      ],
      "metadata": {
        "id": "MPJBQtKeJZSS"
      }
    },
    {
      "cell_type": "markdown",
      "source": [
        "## Cтандартные метрики (сравнение с золотым стандартом)\n",
        "Используется только часть датасета, которая попала в ручную разметку\n"
      ],
      "metadata": {
        "id": "f6DbNH1ZawLi"
      }
    },
    {
      "cell_type": "code",
      "source": [
        "annot_df = pd.read_csv(\"/content/drive/MyDrive/NLP_spring2023/test_to_annotate.txt\", encoding='utf-8', sep='\\t')\n",
        "annot_df.info"
      ],
      "metadata": {
        "colab": {
          "base_uri": "https://localhost:8080/"
        },
        "id": "2AqRAYjVa458",
        "outputId": "a2a1a1c7-4823-4d2f-ba69-613e23a1cb6e"
      },
      "execution_count": null,
      "outputs": [
        {
          "output_type": "execute_result",
          "data": {
            "text/plain": [
              "<bound method DataFrame.info of              word label\n",
              "0           васик   PER\n",
              "1       икеевской   ORG\n",
              "2     пробухивали   SLN\n",
              "3         знанияи   ERR\n",
              "4        деникова   PER\n",
              "..            ...   ...\n",
              "995   коррелируют  NORM\n",
              "996       пролезу  NORM\n",
              "997  затянувшаяся  NORM\n",
              "998      бумажным  NORM\n",
              "999  подрощенного  NORM\n",
              "\n",
              "[1000 rows x 2 columns]>"
            ]
          },
          "metadata": {},
          "execution_count": 59
        }
      ]
    },
    {
      "cell_type": "markdown",
      "source": [
        "### Посмотрим на метрики для всех результатов"
      ],
      "metadata": {
        "id": "wLr0FbobZGNB"
      }
    },
    {
      "cell_type": "code",
      "source": [
        "from sklearn.metrics import precision_score, recall_score, f1_score, confusion_matrix\n",
        "import numpy as np\n",
        "import seaborn as sns\n",
        "\n",
        "def get_metrics(true_df, pred_df):\n",
        "  words_true = list(true_df['word'])\n",
        "  true = []\n",
        "  pred = []\n",
        "  for word in words_true:\n",
        "    if word in list(pred_df['word']):\n",
        "        true.append((word, list(true_df.loc[true_df['word'] == word, 'label'])[0]))\n",
        "        pred.append((word, list(pred_df.loc[pred_df['word'] == word, 'label'])[0]))\n",
        "\n",
        "  true.sort()\n",
        "  pred.sort()\n",
        "  y_true = [label for word, label in true]\n",
        "  y_pred = [label for word, label in pred]\n",
        "\n",
        "  #accuracy = accuracy_score(y_true, y_pred) - бесполезна, так как классы не сбалансированы\n",
        "  precision = precision_score(y_true, y_pred, average='weighted')\n",
        "  recall = recall_score(y_true, y_pred, average='weighted')\n",
        "  f1 = f1_score(y_true, y_pred, average='weighted')\n",
        "\n",
        "  y_true = []\n",
        "  y_pred = []\n",
        "\n",
        "\n",
        " # print(\"Accuracy:\", accuracy)\n",
        "  print(\"Precision:\", precision)\n",
        "  print(\"Recall:\", recall)\n",
        "  print(\"F1-score:\", f1)\n"
      ],
      "metadata": {
        "id": "0A6pIr1o4Ii0"
      },
      "execution_count": null,
      "outputs": []
    },
    {
      "cell_type": "code",
      "source": [
        "# по первому результату\n",
        "get_metrics(annot_df, res_one)"
      ],
      "metadata": {
        "colab": {
          "base_uri": "https://localhost:8080/"
        },
        "id": "Qt0hY0pW4psd",
        "outputId": "db0094c9-598f-4504-f1fd-8a84f5eee14e"
      },
      "execution_count": null,
      "outputs": [
        {
          "output_type": "stream",
          "name": "stdout",
          "text": [
            "Precision: 0.7289041085776147\n",
            "Recall: 0.5816326530612245\n",
            "F1-score: 0.6152328804191413\n"
          ]
        }
      ]
    },
    {
      "cell_type": "code",
      "source": [
        "# по второму результату\n",
        "get_metrics(annot_df, res_two)"
      ],
      "metadata": {
        "colab": {
          "base_uri": "https://localhost:8080/"
        },
        "id": "6hVkVMmh3Ems",
        "outputId": "764a9e65-af55-476f-8259-c9818a96af5f"
      },
      "execution_count": null,
      "outputs": [
        {
          "output_type": "stream",
          "name": "stdout",
          "text": [
            "Precision: 0.776652933919023\n",
            "Recall: 0.6134699853587116\n",
            "F1-score: 0.6416417720112945\n"
          ]
        }
      ]
    },
    {
      "cell_type": "code",
      "source": [
        "# по третьему результату\n",
        "get_metrics(annot_df, res_three)"
      ],
      "metadata": {
        "colab": {
          "base_uri": "https://localhost:8080/"
        },
        "id": "F5NvbNVq3ikS",
        "outputId": "3fce42fe-db8e-431c-b23f-a3bad62cb791"
      },
      "execution_count": null,
      "outputs": [
        {
          "output_type": "stream",
          "name": "stdout",
          "text": [
            "Precision: 0.7454108827341409\n",
            "Recall: 0.5841874084919473\n",
            "F1-score: 0.6212690990053787\n"
          ]
        }
      ]
    },
    {
      "cell_type": "code",
      "source": [
        "# по четвертому результату\n",
        "get_metrics(annot_df, res_four)"
      ],
      "metadata": {
        "colab": {
          "base_uri": "https://localhost:8080/"
        },
        "id": "AzX-tjwq88Dj",
        "outputId": "b82b654c-053d-4b62-e8af-6f41992c0f8a"
      },
      "execution_count": null,
      "outputs": [
        {
          "output_type": "stream",
          "name": "stdout",
          "text": [
            "Precision: 0.7763223285260733\n",
            "Recall: 0.5544117647058824\n",
            "F1-score: 0.5996599646684928\n"
          ]
        }
      ]
    },
    {
      "cell_type": "code",
      "source": [
        "# по пятому результату\n",
        "get_metrics(annot_df, res_five)"
      ],
      "metadata": {
        "colab": {
          "base_uri": "https://localhost:8080/"
        },
        "id": "sXwzXEAjTTWr",
        "outputId": "0ece0ac8-3eef-4ee6-8669-ddb35e8db5c6"
      },
      "execution_count": null,
      "outputs": [
        {
          "output_type": "stream",
          "name": "stdout",
          "text": [
            "Precision: 0.751483595821248\n",
            "Recall: 0.6373134328358209\n",
            "F1-score: 0.6523915392332544\n"
          ]
        }
      ]
    },
    {
      "cell_type": "markdown",
      "source": [
        "### Объединим в два класса: правильные и неправильные слова\n",
        "Правильные -- все группы (NORM, PER, NEW, SLN, GEO)\n",
        "Неправильные -- ERR и NA"
      ],
      "metadata": {
        "id": "xoY3BxhMmTcG"
      }
    },
    {
      "cell_type": "code",
      "source": [
        "import matplotlib.pyplot as plt\n",
        "\n",
        "annot_df.loc[annot_df['label'] == 'ERR', 'label'] = 1\n",
        "annot_df.loc[annot_df['label'] != 1, 'label'] = 0\n",
        "\n",
        "\n",
        "classes = pd.value_counts(annot_df[\"label\"]) # суммарный частотный словарь\n",
        "\n",
        "classes.plot(kind = 'pie',  autopct='%0.f%%', colormap ='spring')\n",
        "\n",
        "plt.title(\"Распределение классов в ручной разметке\")\n",
        "\n",
        "plt.ylabel('') # в пай чарте нет оси игрек\n",
        "\n",
        "plt.legend( ['Правильные', 'Неправильные'], loc =0)\n",
        "plt.show()"
      ],
      "metadata": {
        "colab": {
          "base_uri": "https://localhost:8080/",
          "height": 428
        },
        "id": "lAuSv4d39Fit",
        "outputId": "adfffd9c-fabd-4a5a-a003-088cd85df376"
      },
      "execution_count": null,
      "outputs": [
        {
          "output_type": "display_data",
          "data": {
            "text/plain": [
              "<Figure size 640x480 with 1 Axes>"
            ],
            "image/png": "[encoded data removed]"
          },
          "metadata": {}
        }
      ]
    },
    {
      "cell_type": "code",
      "source": [
        "from sklearn.metrics import precision_score, recall_score, f1_score, confusion_matrix\n",
        "\n",
        "def get_bi_metrics(annot_df, res_one):\n",
        "  # приведем к бинарному виду\n",
        "\n",
        "  annot_df.loc[annot_df['label'] == 'ERR', 'label'] = 1\n",
        "  annot_df.loc[annot_df['label'] != 1, 'label'] = 0\n",
        "\n",
        "  res_one.loc[res_one['label'] == 'ERR', 'label'] = 1\n",
        "  res_one.loc[res_one['label'] == 'NA', 'label'] = 1\n",
        "  res_one.loc[res_one['label'] != 1, 'label'] = 0\n",
        "\n",
        "\n",
        "  words_true = list(annot_df['word'])\n",
        "  true = []\n",
        "  pred = []\n",
        "  for word in words_true:\n",
        "    if word in list(res_one['word']):\n",
        "        true.append((word, list(annot_df.loc[annot_df['word'] == word, 'label'])[0]))\n",
        "        pred.append((word, list(res_one.loc[res_one['word'] == word, 'label'])[0]))\n",
        "  true.sort()\n",
        "  pred.sort()\n",
        "\n",
        "  y_true = [label for word, label in true]\n",
        "  y_pred = [label for word, label in pred]\n",
        "\n",
        "  #accuracy = accuracy_score(y_true, y_pred) - бесполезна, так как классы не сбалансированы\n",
        "  precision = precision_score(y_true, y_pred, average='weighted')\n",
        "  recall = recall_score(y_true, y_pred, average='weighted')\n",
        "  f1 = f1_score(y_true, y_pred, average='weighted')\n",
        "\n",
        "\n",
        "  cf_matrix = confusion_matrix(y_true, y_pred)\n",
        "  group_names = ['True Neg','False Pos','False Neg','True Pos']\n",
        "  group_counts = [\"{0:0.0f}\".format(value) for value in\n",
        "                cf_matrix.flatten()]\n",
        "  group_percentages = [\"{0:.2%}\".format(value) for value in\n",
        "                     cf_matrix.flatten()/np.sum(cf_matrix)]\n",
        "  labels = [f\"{v1}\\n{v2}\\n{v3}\" for v1, v2, v3 in\n",
        "          zip(group_names,group_counts,group_percentages)]\n",
        "  labels = np.asarray(labels).reshape(2,2)\n",
        "  sns.heatmap(cf_matrix, annot=labels, fmt='', cmap='Blues')\n",
        "  y_true = []\n",
        "  y_pred = []\n",
        "\n",
        "  #print(\"Accuracy:\", accuracy)\n",
        "  print(\"Precision:\", precision)\n",
        "  print(\"Recall:\", recall)\n",
        "  print(\"F1-score:\", f1)"
      ],
      "metadata": {
        "id": "JWJW1XvG-72p"
      },
      "execution_count": null,
      "outputs": []
    },
    {
      "cell_type": "code",
      "source": [
        "# Метрики ВТОРОГО результата для бинарных классов\n",
        "get_bi_metrics(annot_df, res_two)"
      ],
      "metadata": {
        "colab": {
          "base_uri": "https://localhost:8080/",
          "height": 482
        },
        "id": "CNbTvQ93A9zu",
        "outputId": "a71374d7-e6d7-4c84-f669-1504ceb6588f"
      },
      "execution_count": null,
      "outputs": [
        {
          "output_type": "stream",
          "name": "stdout",
          "text": [
            "Precision: 0.8260960208072362\n",
            "Recall: 0.8228404099560761\n",
            "F1-score: 0.7788255949034901\n"
          ]
        },
        {
          "output_type": "display_data",
          "data": {
            "text/plain": [
              "<Figure size 640x480 with 2 Axes>"
            ],
            "image/png": "[encoded data removed]"
          },
          "metadata": {}
        }
      ]
    },
    {
      "cell_type": "code",
      "source": [
        "# Метрики ПЯТОГО результата для бинарных классов\n",
        "get_bi_metrics(annot_df, res_five)"
      ],
      "metadata": {
        "colab": {
          "base_uri": "https://localhost:8080/",
          "height": 482
        },
        "id": "dgCSSeolBF70",
        "outputId": "7561cc51-159f-4f86-9085-c8d59165d6c7"
      },
      "execution_count": null,
      "outputs": [
        {
          "output_type": "stream",
          "name": "stdout",
          "text": [
            "Precision: 0.8297625617891251\n",
            "Recall: 0.8328358208955224\n",
            "F1-score: 0.7983166091738105\n"
          ]
        },
        {
          "output_type": "display_data",
          "data": {
            "text/plain": [
              "<Figure size 640x480 with 2 Axes>"
            ],
            "image/png": "[encoded data removed]"
          },
          "metadata": {}
        }
      ]
    },
    {
      "cell_type": "code",
      "source": [
        "# Метрики первого результата для бинарных классов\n",
        "get_bi_metrics(annot_df, res_one)"
      ],
      "metadata": {
        "colab": {
          "base_uri": "https://localhost:8080/"
        },
        "id": "kiCO5xuP8iZr",
        "outputId": "3a955b7e-ef9e-4405-ff06-470c4b5b1607"
      },
      "execution_count": null,
      "outputs": [
        {
          "output_type": "stream",
          "name": "stdout",
          "text": [
            "Precision: 0.7854934181464794\n",
            "Recall: 0.8075801749271136\n",
            "F1-score: 0.7666745998691021\n"
          ]
        }
      ]
    },
    {
      "cell_type": "code",
      "source": [
        "# Метрики третьего результата для бинарных классов\n",
        "get_bi_metrics(annot_df, res_three)"
      ],
      "metadata": {
        "colab": {
          "base_uri": "https://localhost:8080/"
        },
        "id": "M6fp5vHQ8nxK",
        "outputId": "5b6ad5d3-7397-48f6-8872-f16d48e74a56"
      },
      "execution_count": null,
      "outputs": [
        {
          "output_type": "stream",
          "name": "stdout",
          "text": [
            "Precision: 0.7871608823381647\n",
            "Recall: 0.808199121522694\n",
            "F1-score: 0.7681270938576886\n"
          ]
        }
      ]
    },
    {
      "cell_type": "code",
      "source": [
        "# Метрики четвертого результата для бинарных классов\n",
        "get_bi_metrics(annot_df, res_four)"
      ],
      "metadata": {
        "colab": {
          "base_uri": "https://localhost:8080/"
        },
        "id": "hGnwq4wJ8u4g",
        "outputId": "fa3ed0cc-6bfa-4dbb-dcde-2ea0058888ba"
      },
      "execution_count": null,
      "outputs": [
        {
          "output_type": "stream",
          "name": "stdout",
          "text": [
            "Precision: 0.8376624131221149\n",
            "Recall: 0.8264705882352941\n",
            "F1-score: 0.7827161299302329\n"
          ]
        }
      ]
    },
    {
      "cell_type": "markdown",
      "source": [
        "# Еще одна попытка генерации"
      ],
      "metadata": {
        "id": "esnT7KgbXbuv"
      }
    },
    {
      "cell_type": "markdown",
      "source": [
        "## Новый тестовый датасет"
      ],
      "metadata": {
        "id": "w2pf2Fkbhvzf"
      }
    },
    {
      "cell_type": "code",
      "source": [
        "import pandas as pd\n",
        "from tqdm import tqdm\n",
        "import warnings\n",
        "\n",
        "warnings.filterwarnings('ignore')\n",
        "\n",
        "# файл включает слова, которые не внесены в словарь ОРФО\n",
        "data = pd.read_csv(\"/content/drive/MyDrive/NLP_spring2023/words_inc_230524.txt\", sep='\\t', encoding='utf-16')\n",
        "# слова, которые не знает ОРФО\n",
        "vocab_inc = set(data['W'].dropna())\n",
        "\n",
        "# для баланса добавим правильные слова\n",
        "data2 = pd.read_csv(\"/content/drive/MyDrive/NLP_spring2023/words_cor_230603.txt\", sep='\\t',  encoding='utf-8')\n",
        "vocab_cor = set(data2['W'].dropna())\n"
      ],
      "metadata": {
        "id": "jgktIXQWhvhe"
      },
      "execution_count": null,
      "outputs": []
    },
    {
      "cell_type": "code",
      "source": [
        "test_inc2 = list(vocab_inc)[:8000]\n",
        "test_cor2 = list(vocab_cor)[:2000]\n",
        "\n",
        "test_data2 = test_inc2 + test_cor2\n",
        "\n",
        "with open('test_data2.txt', 'w') as file:\n",
        "    file.write(\"\\n\".join(test_data2))\n"
      ],
      "metadata": {
        "id": "5E88DuYZiqIq"
      },
      "execution_count": null,
      "outputs": []
    },
    {
      "cell_type": "markdown",
      "source": [
        "## Обновленный промпт"
      ],
      "metadata": {
        "id": "4qG1cFGsjfc8"
      }
    },
    {
      "cell_type": "code",
      "source": [
        "from sklearn.utils import shuffle\n",
        "\n",
        "examples = pd.read_csv(\"/content/drive/MyDrive/NLP_spring2023/Examples_for_prompt.txt\", encoding='utf-8', sep='\\t')\n",
        "examples = shuffle(examples)\n",
        "errors = list(examples.loc[examples['tag'] == 'ERR']['word'])[:7]\n",
        "neologisms = list(examples.loc[examples['tag'] == 'NEW']['word'])[:7]\n",
        "slang = list(examples.loc[examples['tag'] == 'SLN']['word'])[:7]\n",
        "person_names = list(examples.loc[examples['tag'] == 'PER']['word'])[:7]\n",
        "companies = list(examples.loc[examples['tag'] == 'ORG']['word'])[:7]\n",
        "normal_words = list(examples.loc[examples['tag'] == 'NORM']['word'])[:7]\n",
        "geo = list(examples.loc[examples['tag'] == 'GPE']['word'])[:7]\n",
        "print(*neologisms)"
      ],
      "metadata": {
        "colab": {
          "base_uri": "https://localhost:8080/"
        },
        "id": "xnqlAZmcjjcF",
        "outputId": "6a39f81a-ae65-4a0c-d19c-f221b37a4bc2"
      },
      "execution_count": null,
      "outputs": [
        {
          "output_type": "stream",
          "name": "stdout",
          "text": [
            "актрисульки покупочку теребонькали суицидницы тугосерик пропутинская укропропаганду\n"
          ]
        }
      ]
    },
    {
      "cell_type": "code",
      "source": [
        "# a fragment of the set of all words to label\n",
        "import random\n",
        "\n",
        "test_data2 = []\n",
        "with open (\"/content/drive/MyDrive/NLP_spring2023/test_data_2.txt\", encoding='utf-8') as file:\n",
        "  for line in file:\n",
        "      test_data2.append(line.strip('\\n'))\n",
        "random.shuffle(test_data2)\n",
        "print(len(test_data2), test_data2[:10], sep='\\n')"
      ],
      "metadata": {
        "colab": {
          "base_uri": "https://localhost:8080/"
        },
        "id": "zMBeDXpyjeDl",
        "outputId": "d31a4df4-126b-4a1b-ab0f-6b3e73d0d5b5"
      },
      "execution_count": null,
      "outputs": [
        {
          "output_type": "stream",
          "name": "stdout",
          "text": [
            "10000\n",
            "['трусонюх', 'исправиь', 'паа', 'шокола', 'собачуля', 'мамыков', 'гаражника', 'кадмус', 'муталанова', 'мырза']\n"
          ]
        }
      ]
    },
    {
      "cell_type": "code",
      "source": [
        "groups_specifications = f\"\"\"Groups description, examples and tag:\n",
        "1. Neologisms, occasional words, ```{neologisms}```, NEW\n",
        "2. Organisations, companies, apps, ```{companies}```, ORG\n",
        "3. Slang and swear words, ```{slang}```, SLN\n",
        "4. Normal correct words, ```{normal_words}```, NORM\n",
        "5. Misspelled, incorrect words, ```{errors}```, ERR\n",
        "6. Surnames, ```{person_names}```, PER\n",
        "7. Cities and countries, ```{geo}```, GEO\"\"\""
      ],
      "metadata": {
        "id": "3a71fyUAq_kO"
      },
      "execution_count": null,
      "outputs": []
    },
    {
      "cell_type": "code",
      "source": [
        "test = test_data2[100:200]\n",
        "prompt = f\"\"\"\n",
        "  Your task is to classify every Russian word from the list and label each\n",
        "  word with the group tag.\n",
        "\n",
        "  Do the classificasion based on ```{groups_specifications}```, only the tags\n",
        "  from specifications can be used.\n",
        "  The list of Russian words to label: ```{test}```\n",
        "\n",
        "  Pay close attention to errors (ERR), they include:\n",
        "  - misspelled like 'сайах', 'могди'\n",
        "  - imposible Russian words like 'мемяца', 'никогла'\n",
        "  - words with unnecessary hyphen.\n",
        "\n",
        "  Present results in csv format with '\\t' separator\n",
        "  \"\"\"\n",
        "response = get_completion(prompt)\n",
        "print(response)"
      ],
      "metadata": {
        "colab": {
          "base_uri": "https://localhost:8080/"
        },
        "id": "DEdt0ZsItlRz",
        "outputId": "41c304c7-d6f2-4421-ec09-efc67a38465a"
      },
      "execution_count": null,
      "outputs": [
        {
          "output_type": "stream",
          "name": "stdout",
          "text": [
            "кайдинов\tPER\n",
            "столпаков\tPER\n",
            "йобу\tSLN\n",
            "бурдов\tPER\n",
            "гомбожапов\tPER\n",
            "могди\tERR\n",
            "столькоже\tNORM\n",
            "остопиздела\tSLN\n",
            "пыринова\tPER\n",
            "оборачиваешь\tNORM\n",
            "ручёнки\tNORM\n",
            "горшинский\tPER\n",
            "бабышкина\tPER\n",
            "помошником\tNORM\n",
            "говнарем\tSLN\n",
            "отсыпной\tNORM\n",
            "требукова\tPER\n",
            "лемегов\tPER\n",
            "поделает\tNORM\n",
            "хмелинский\tPER\n",
            "производственный\tNORM\n",
            "казанбаева\tPER\n",
            "посткарантинного\tNORM\n",
            "кьюар\tNEW\n",
            "ахуенные\tSLN\n",
            "йии\tSLN\n",
            "откатики\tNORM\n",
            "покопайся\tNORM\n",
            "парилова\tPER\n",
            "эндера\tPER\n",
            "мобилизацию\tNORM\n",
            "был-не\tERR\n",
            "збыковский\tPER\n",
            "мадилов\tPER\n",
            "поверина\tNORM\n",
            "куризов\tPER\n",
            "семенякина\tPER\n",
            "щепева\tPER\n",
            "кэто\tERR\n",
            "синюхину\tPER\n",
            "галузов\tPER\n",
            "юридичской\tNORM\n",
            "инженеа\tNORM\n",
            "укуреные\tSLN\n",
            "буратина\tPER\n",
            "роана\tPER\n",
            "фрики\tSLN\n",
            "сознани\tNORM\n",
            "ложноположительных\tNORM\n",
            "жиа\tPER\n",
            "молдиндконбанк\tORG\n",
            "лупцов\tPER\n",
            "звездочкин\tPER\n",
            "каргалев\tPER\n",
            "родственную\tNORM\n",
            "подъебы\tSLN\n",
            "гайбалиев\tPER\n",
            "бяу\tERR\n",
            "культас\tPER\n",
            "вахтовке\tNORM\n",
            "прохоренко\tPER\n",
            "дём\tNORM\n",
            "силуков\tPER\n",
            "заменило\tNORM\n",
            "мудня\tERR\n",
            "елынин\tPER\n",
            "порн\tSLN\n",
            "гапасов\tPER\n",
            "тайот\tORG\n",
            "халкиопов\tPER\n",
            "патреон\tORG\n",
            "роберта\tPER\n",
            "жестила\tSLN\n",
            "балко\tPER\n",
            "интеренета\tERR\n",
            "пиарайэми\tPER\n",
            "писарцева\tPER\n",
            "сейвинз\tORG\n",
            "учреждениями\tNORM\n",
            "святская\tPER\n",
            "повориь\tERR\n",
            "мырза\tPER\n",
            "культиваторы\tNORM\n",
            "социализмов\tNORM\n",
            "пронизаны\tNORM\n",
            "инфоцыганщины\tNORM\n",
            "сарандаев\tPER\n",
            "бачешкин\tPER\n",
            "забиать\tERR\n",
            "поквзывает\tNORM\n",
            "яжбать\tSLN\n",
            "ммаршеева\tPER\n",
            "убедительности\tNORM\n",
            "чаукина\tPER\n",
            "гусарина\tPER\n",
            "подкинул\tNORM\n",
            "трапиков\tNORM\n",
            "кобилякова\tPER\n",
            "прибавляло\tNORM\n",
            "филикова\tPER\n"
          ]
        }
      ]
    },
    {
      "cell_type": "markdown",
      "source": [
        "## Проверка тегов"
      ],
      "metadata": {
        "id": "Mrap_zRKhPvt"
      }
    },
    {
      "cell_type": "code",
      "source": [
        "prompt = f\"\"\"\n",
        "  Your task is to classify every Russian word from the list and label each\n",
        "  word with the group tag.\n",
        "\n",
        "  According to ```{groups_specifications}``` which is better for the word\n",
        "   'инженеа' tag 'NORM' or tag 'ERR'. Support your decision with the proof.\n",
        "  \"\"\"\n",
        "response = get_completion(prompt)"
      ],
      "metadata": {
        "id": "kW25feIvgeIR"
      },
      "execution_count": null,
      "outputs": []
    },
    {
      "cell_type": "code",
      "source": [
        "print(response)"
      ],
      "metadata": {
        "colab": {
          "base_uri": "https://localhost:8080/"
        },
        "id": "tHYSgAgNhGPa",
        "outputId": "38249a07-bd86-4a90-fa0b-703a33954d45"
      },
      "execution_count": null,
      "outputs": [
        {
          "output_type": "stream",
          "name": "stdout",
          "text": [
            "Based on the information provided, it is likely that the word 'инженеа' should be tagged as 'ERR' for misspelled, incorrect words. This is because the word does not appear in any of the other categories and does not follow the spelling conventions of the Russian language. It is possible that the intended word was 'инженер' (engineer), which would fit into the 'NORM' category. However, without further context or information, it cannot be definitively determined which word was intended.\n"
          ]
        }
      ]
    },
    {
      "cell_type": "code",
      "source": [
        "prompt = f\"\"\"\n",
        "  Your task is to classify every Russian word from the list and label each\n",
        "  word with the group tag.\n",
        "\n",
        "  According to ```{groups_specifications}``` which is better for the word\n",
        "   'инженеа' tag 'SLN' or tag 'ERR'. Support your decision with the proof.\n",
        "  \"\"\"\n",
        "response = get_completion(prompt)\n",
        "print(response)"
      ],
      "metadata": {
        "colab": {
          "base_uri": "https://localhost:8080/"
        },
        "id": "fdFMlVNQhf82",
        "outputId": "fa068350-7fe9-41c5-c969-4986c3e434fa"
      },
      "execution_count": null,
      "outputs": [
        {
          "output_type": "stream",
          "name": "stdout",
          "text": [
            "Based on the information provided, it is more appropriate to tag the word 'инженеа' as ERR. This is because it is a misspelled word, which falls under the ERR category. The word does not fit into any of the other categories, such as Neologisms, Organisations, Slang and swear words, Normal correct words, Surnames, or Cities and countries. Therefore, the most appropriate tag for 'инженеа' is ERR.\n"
          ]
        }
      ]
    },
    {
      "cell_type": "markdown",
      "source": [
        "Кажется, можно добавить проверку тегов тем же методом."
      ],
      "metadata": {
        "id": "sLbcWqNch3d0"
      }
    },
    {
      "cell_type": "code",
      "source": [
        "with open('test2_rus.txt', 'a') as file:\n",
        "  file.write('word\\tlabel')"
      ],
      "metadata": {
        "id": "vUiP1H1uEBUB"
      },
      "execution_count": null,
      "outputs": []
    },
    {
      "cell_type": "code",
      "source": [
        "from tqdm import tqdm\n",
        "import time\n",
        "\n",
        "\n",
        "beginning = 1300\n",
        "end = 1350\n",
        "for i in tqdm(range(1, 2)):\n",
        "  test = test_data2[beginning:end]\n",
        "  prompt = f\"\"\"\n",
        "  Классифицируй каждое русское слово из списка, присвой ему тег в соответсвии с\n",
        "  описанием.\n",
        "\n",
        "  Описание для разметки```{groups_specifications}```.\n",
        "  Список слов для разметки: ```{test}```\n",
        "\n",
        "  Особое внимание обращай на ошибки (ERR), среди них:\n",
        "  - пропущенные буквы в словах'сайах', 'могди'\n",
        "  - опечатки 'мемяца', 'никогла'\n",
        "  - слова с лишними дефисами.\n",
        "\n",
        "  Передай результат в формате csv с разделителем'\\t' без названия колонок\n",
        "  \"\"\"\n",
        "  response = get_completion(prompt)\n",
        "  time.sleep(15)\n",
        "  with open('test2_rus.txt', 'a') as file:\n",
        "    file.write(response)\n",
        "    file.write('\\n')\n",
        "  print(response)\n",
        "  beginning += 100\n",
        "  end += 100\n",
        "\n",
        "\n",
        "print('\\nDone!')"
      ],
      "metadata": {
        "colab": {
          "base_uri": "https://localhost:8080/"
        },
        "id": "V_Yrr5XYhr9Y",
        "outputId": "116a983c-0653-431b-963b-d8e1ce5d8927"
      },
      "execution_count": null,
      "outputs": [
        {
          "output_type": "stream",
          "name": "stderr",
          "text": [
            "100%|██████████| 1/1 [00:47<00:00, 47.86s/it]"
          ]
        },
        {
          "output_type": "stream",
          "name": "stdout",
          "text": [
            "посякина\tNORM\n",
            "башкина\tNORM\n",
            "мартанова\tNORM\n",
            "подрульки\tNORM\n",
            "чечетова\tNORM\n",
            "золожков\tNORM\n",
            "анчухин\tNORM\n",
            "стряхнин\tNORM\n",
            "отрубленной\tNORM\n",
            "красулев\tNORM\n",
            "худоенкова\tNORM\n",
            "фимошкина\tNORM\n",
            "замеили\tNORM\n",
            "алибабе\tNORM\n",
            "игиловцы\tNORM\n",
            "ташнова\tNORM\n",
            "ховансков\tNORM\n",
            "белголов\tNORM\n",
            "гфе\tERR\n",
            "сикоев\tNORM\n",
            "заебешь\tSLN\n",
            "палшкова\tNORM\n",
            "аусси\tNORM\n",
            "двемерский\tNORM\n",
            "респавнится\tNORM\n",
            "впе\tNORM\n",
            "мурзов\tNORM\n",
            "сунайкина\tNORM\n",
            "грозина\tNORM\n",
            "ухаживаь\tERR\n",
            "фантазийные\tNORM\n",
            "несмертный\tNORM\n",
            "теплопереноса\tNORM\n",
            "фирюлина\tNORM\n",
            "атакин\tNORM\n",
            "плюссайз\tNORM\n",
            "смарчкова\tNORM\n",
            "барашикова\tNORM\n",
            "снейпом\tNORM\n",
            "дотке\tNORM\n",
            "солярисом\tNORM\n",
            "кайдинов\tNORM\n",
            "агаренкова\tNORM\n",
            "окл\tNORM\n",
            "долбодятлом\tSLN\n",
            "лобцев\tNORM\n",
            "осбу\tNORM\n",
            "опиздюлить\tSLN\n",
            "мансупов\tNORM\n",
            "вудпекер\tNORM\n",
            "чойта\tERR\n",
            "ипучие\tERR\n",
            "рабоатет\tERR\n",
            "инеллека\tERR\n",
            "поимат\tERR\n",
            "обязаа\tERR\n",
            "проес\tERR\n",
            "стенфордского\tGEO\n",
            "уктус\tGEO\n",
            "ростову\tGEO\n",
            "шарташ\tGEO\n",
            "тамбове\tGEO\n",
            "актрисульки\tNEW\n",
            "покупочку\tNEW\n",
            "теребонькали\tNEW\n",
            "суицидницы\tNEW\n",
            "тугосерик\tNEW\n",
            "пропутинская\tNEW\n",
            "укропропаганду\tNEW\n",
            "минкомсвязью\tORG\n",
            "айтюнсе\tORG\n",
            "главпродукт\tORG\n",
            "консультантплюс\tORG\n",
            "векторстройфинанс\tORG\n",
            "союзмультфильму\tORG\n",
            "сбермаркетом\tORG\n",
            "видюхи\tSLN\n",
            "корешатся\tSLN\n",
            "сайэнтифик\tSLN\n",
            "ссыкливые\tSLN\n",
            "чсвшные\tSLN\n",
            "долбоебский\tSLN\n",
            "нифига\tSLN\n",
            "\n",
            "Done!\n"
          ]
        },
        {
          "output_type": "stream",
          "name": "stderr",
          "text": [
            "\n"
          ]
        }
      ]
    },
    {
      "cell_type": "markdown",
      "source": [
        "## Попытка сгенерировать контекст для каждого слова"
      ],
      "metadata": {
        "id": "GGTWYwX3gLh2"
      }
    },
    {
      "cell_type": "code",
      "source": [
        "from tqdm import tqdm\n",
        "import time\n",
        "\n",
        "\n",
        "beginning = 1300\n",
        "end = 1350\n",
        "for i in tqdm(range(1, 2)):\n",
        "  test = test_data2[beginning:end]\n",
        "  prompt = f\"\"\"\n",
        "  Your task is to classify every Russian word from the list and label each\n",
        "  word with the group tag. Generate a sentence in Russian with the word keeping\n",
        "  in mind word's tag\n",
        "\n",
        "  Do the classificasion based on ```{groups_specifications}```.\n",
        "  The list of Russian words to label: ```{test}```\n",
        "\n",
        "  Pay close attention to errors (ERR), they include:\n",
        "  - misspelled like 'сайах', 'могди'\n",
        "  - imposible Russian words like 'мемяца', 'никогла'\n",
        "  - words with unnecessary hyphen.\n",
        "\n",
        "  Present results in csv format with '\\t' separator with no heading this way:\n",
        "  word, label, generated sentence\n",
        "  \"\"\"\n",
        "  response = get_completion(prompt)\n",
        "  time.sleep(15)\n",
        "  with open('test_sentence_1.txt', 'a') as file:\n",
        "    file.write(response)\n",
        "    file.write('\\n')\n",
        "  print(response)\n",
        "  beginning += 100\n",
        "  end += 100\n",
        "\n",
        "\n",
        "print('\\nDone!')"
      ],
      "metadata": {
        "colab": {
          "base_uri": "https://localhost:8080/"
        },
        "id": "Zoa-S47oujMd",
        "outputId": "19f1b4b3-fb09-486b-8176-570cfc093097"
      },
      "execution_count": null,
      "outputs": [
        {
          "output_type": "stream",
          "name": "stderr",
          "text": [
            "100%|██████████| 1/1 [01:30<00:00, 90.81s/it]"
          ]
        },
        {
          "output_type": "stream",
          "name": "stdout",
          "text": [
            "посякина, PER, Я встретил Посякину на улице.\n",
            "башкина, PER, Башкина работает в нашей компании.\n",
            "мартанова, PER, Мартанова изучает иностранные языки.\n",
            "подрульки, NEW, Я купил новые подрульки для своей машины.\n",
            "чечетова, PER, Чечетова занимается спортом.\n",
            "золожков, PER, Золожков работает в банке.\n",
            "анчухин, PER, Анчухин любит путешествовать.\n",
            "стряхнин, PER, Стряхнин занимается фотографией.\n",
            "отрубленной, NORM, Я купил кусок отрубленной говядины.\n",
            "красулев, PER, Красулев играет на гитаре.\n",
            "худоенкова, PER, Худоенкова работает в музее.\n",
            "фимошкина, PER, Фимошкина занимается наукой.\n",
            "замеили, NORM, Мы замеили пол после ремонта.\n",
            "алибабе, NEW, Я купил новую игрушку Алибабе для своего ребенка.\n",
            "игиловцы, SLN, Игиловцы совершили теракт.\n",
            "ташнова, PER, Ташнова работает в банке.\n",
            "ховансков, PER, Ховансков занимается бизнесом.\n",
            "белголов, PER, Белголов работает в магазине.\n",
            "гфе, ERR, Некорректное слово.\n",
            "сикоев, PER, Сикоев занимается спортом.\n",
            "заебешь, SLN, Заебешь меня своими проблемами.\n",
            "палшкова, PER, Палшкова работает в школе.\n",
            "аусси, ORG, Я купил новый телефон Айфон от компании Аусси.\n",
            "двемерский, PER, Двемерский занимается искусством.\n",
            "респавнится, NORM, Мой персонаж будет респавнится через 10 секунд.\n",
            "впе, ERR, Некорректное слово.\n",
            "мурзов, PER, Мурзов работает в магазине.\n",
            "сунайкина, PER, Сунайкина занимается наукой.\n",
            "грозина, PER, Грозина работает в музее.\n",
            "ухаживаь, ERR, Некорректное слово.\n",
            "фантазийные, NORM, Я люблю читать фантазийные книги.\n",
            "несмертный, NORM, Несмертный герой - это персонаж мифологии.\n",
            "теплопереноса, NORM, Теплопереноса происходит в природе.\n",
            "фирюлина, PER, Фирюлина занимается спортом.\n",
            "атакин, PER, Атакин работает в компьютерной сфере.\n",
            "плюссайз, NEW, Я купил новую одежду плюссайз для своей жены.\n",
            "смарчкова, PER, Смарчкова работает в банке.\n",
            "барашикова, PER, Барашикова занимается наукой.\n",
            "снейпом, PER, Снейпом занимается искусством.\n",
            "дотке, PER, Дотке работает в магазине.\n",
            "солярисом, ORG, Я купил новую машину Хендай Солярис от компании Хендай.\n",
            "кайдинов, PER, Кайдинов занимается спортом.\n",
            "агаренкова, PER, Агаренкова работает в музее.\n",
            "окл, ERR, Некорректное слово.\n",
            "долбодятлом, SLN, Не будь долбодятлом и сделай свою работу.\n",
            "лобцев, PER, Лобцев занимается наукой.\n",
            "осбу, ERR, Некорректное слово.\n",
            "опиздюлить, SLN, Я опиздюлю тебя, если не успеешь.\n",
            "мансупов, PER, Мансупов работает в компьютерной сфере.\n",
            "вудпекер, NORM, Вудпекер - это птица из семейства дятлов.\n",
            "\n",
            "Done!\n"
          ]
        },
        {
          "output_type": "stream",
          "name": "stderr",
          "text": [
            "\n"
          ]
        }
      ]
    }
  ]
}